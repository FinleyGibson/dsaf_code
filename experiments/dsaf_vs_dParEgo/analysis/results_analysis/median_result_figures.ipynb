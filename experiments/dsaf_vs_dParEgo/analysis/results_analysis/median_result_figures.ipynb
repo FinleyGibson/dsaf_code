{
 "cells": [
  {
   "cell_type": "code",
   "execution_count": 1,
   "id": "cbec4a00",
   "metadata": {},
   "outputs": [],
   "source": [
    "import os\n",
    "import rootpath\n",
    "import sys\n",
    "sys.path.append(rootpath.detect())"
   ]
  },
  {
   "cell_type": "code",
   "execution_count": 2,
   "id": "91fc7b3c",
   "metadata": {},
   "outputs": [],
   "source": [
    "import numpy as np\n",
    "import matplotlib.pyplot as plt"
   ]
  },
  {
   "cell_type": "code",
   "execution_count": 3,
   "id": "321f0319",
   "metadata": {},
   "outputs": [],
   "source": [
    "from analysis_utilities import load_result, format_figures, PATH_TO_PROCESSED_DSAF_RESULTS, PATH_TO_PROCESSED_PAREGO_RESULTS \n",
    "from analysis_utilities import Styles, Symbols, save_fig\n",
    "from testsuite.utilities import Pareto_split\n",
    "from testsuite.analysis_tools import get_igd_refpoint_dict, strip_problem_names"
   ]
  },
  {
   "cell_type": "code",
   "execution_count": 4,
   "id": "c1163979",
   "metadata": {},
   "outputs": [],
   "source": [
    "def plot_results_stage(result_dsaf, result_parego, stage=100, repeat=25):\n",
    "    \n",
    "    D_rp = get_igd_refpoint_dict()\n",
    "    P = D_rp[f'wfg{result_dsaf.n_prob}_{result_dsaf.n_obj}obj_{result_dsaf.n_dim}dim']\n",
    "    \n",
    "    fig = plt.figure(figsize=[(4/5)*3, 4])\n",
    "    fig_ax = fig.gca()\n",
    "    \n",
    "    fig_ax.axis(\"scaled\")\n",
    "    fig_ax.set_xlabel(Symbols.function_n(1))\n",
    "    fig_ax.set_ylabel(Symbols.function_n(2))\n",
    "    \n",
    "    \n",
    "    # plot Pareto front\n",
    "    fig_ax.plot(*P[np.argsort(P[:, 0])].T, label=Symbols.Pareto_front, **Styles.line_Pareto_front, zorder=1)\n",
    "    \n",
    "    # plot directed solutions\n",
    "    fig_ax.scatter(*np.asarray(Pareto_split(result_dsaf[repeat].y[10:stage])[0]).T, label = Symbols.approx_Pareto_front, **Styles.points_pareto_approx, zorder=4) \n",
    "    \n",
    "    \n",
    "    # plot parego solutions\n",
    "    fig_ax.scatter(*np.asarray(Pareto_split(result_parego[repeat].y[10:stage])[0]).T, label = Symbols.parego, **Styles.points_parego, zorder=3) \n",
    "    \n",
    "    # plot lhs samples\n",
    "    fig_ax.scatter(*np.asarray(Pareto_split(result_dsaf[repeat].y[:10])[0]).T, label = Symbols.lhs_samples, **Styles.points_lhs, zorder=2) \n",
    "    \n",
    "    # plot target\n",
    "    fig_ax.scatter(*np.asarray(result_dsaf.targets[0]).T, label=Symbols.target, **Styles.points_target, zorder=5)\n",
    "    fig_ax.legend(loc =\"upper right\")\n",
    "    fig_ax.set_xlim(0, 3)\n",
    "    fig_ax.set_ylim(0, 5) \n",
    "    return fig\n",
    "    "
   ]
  },
  {
   "cell_type": "code",
   "execution_count": 5,
   "id": "08693712",
   "metadata": {},
   "outputs": [],
   "source": [
    "format_figures()"
   ]
  },
  {
   "cell_type": "code",
   "execution_count": 6,
   "id": "d3cf0ac5",
   "metadata": {},
   "outputs": [],
   "source": [
    "med_result_name = 'wfg2_2obj_6dim_1.json'\n",
    "dsaf_med_result = load_result(med_result_name, PATH_TO_PROCESSED_DSAF_RESULTS)\n",
    "parego_med_result = load_result(med_result_name, PATH_TO_PROCESSED_PAREGO_RESULTS )"
   ]
  },
  {
   "cell_type": "code",
   "execution_count": 7,
   "id": "94a5663b",
   "metadata": {},
   "outputs": [
    {
     "data": {
      "image/png": "[encoded data removed]",
      "text/plain": [
       "<Figure size 172.8x288 with 1 Axes>"
      ]
     },
     "metadata": {
      "needs_background": "light"
     },
     "output_type": "display_data"
    }
   ],
   "source": [
    "fig_00 = plot_results_stage(dsaf_med_result, parego_med_result, 150, repeat=11)\n",
    "save_fig(fig_00, filename=\"fig_median_2obj_solution_comparisson_t1_parego\")"
   ]
  },
  {
   "cell_type": "code",
   "execution_count": 10,
   "id": "2995eabd",
   "metadata": {},
   "outputs": [
    {
     "data": {
      "image/png": "[encoded data removed]",
      "text/plain": [
       "<Figure size 172.8x288 with 1 Axes>"
      ]
     },
     "metadata": {
      "needs_background": "light"
     },
     "output_type": "display_data"
    }
   ],
   "source": [
    "med_result_name = 'wfg2_2obj_6dim_4.json'\n",
    "dsaf_med_result = load_result(med_result_name, PATH_TO_PROCESSED_DSAF_RESULTS)\n",
    "parego_med_result = load_result(med_result_name, PATH_TO_PROCESSED_PAREGO_RESULTS )\n",
    "\n",
    "fig_01 = plot_results_stage(dsaf_med_result, parego_med_result, 150, repeat = 1)\n",
    "save_fig(fig_01, filename=\"fig_median_2obj_solution_comparisson_t2_parego\")"
   ]
  },
  {
   "cell_type": "code",
   "execution_count": 9,
   "id": "a534955d",
   "metadata": {},
   "outputs": [],
   "source": [
    "# poor_result_name = 'wfg4_2obj_6dim_1.json'\n",
    "# poor_result = load_result(poor_result_name)\n",
    "# fig_10 = plot_results_stage(poor_result, stage=150, repeat=5)\n",
    "# # save_fig(fig_10, filename=\"fig_mian_2obj_solution_comparisson_wfg4_t1_parego\")"
   ]
  },
  {
   "cell_type": "code",
   "execution_count": 10,
   "id": "3e4b8a67",
   "metadata": {},
   "outputs": [],
   "source": [
    "# poor_result_name = 'wfg4_2obj_6dim_4.json'\n",
    "# poor_result = load_result(poor_result_name)\n",
    "# fig_11 = plot_results_stage(poor_result, stage=150, repeat=3)\n",
    "# save_fig(fig_11, filename=\"fig_mian_2obj_solution_comparisson_wfg4_t2\")"
   ]
  },
  {
   "cell_type": "code",
   "execution_count": 11,
   "id": "e5ffbd5a",
   "metadata": {},
   "outputs": [],
   "source": [
    "# fig_10 = plot_results_stage(poor_result, 150)\n",
    "# # save_fig(fig_10, filename=\"fig_mian_2obj_solution_comparisson_wfg4_t1\")"
   ]
  }
 ],
 "metadata": {
  "kernelspec": {
   "display_name": "testsuite",
   "language": "python",
   "name": "testsuite"
  },
  "language_info": {
   "codemirror_mode": {
    "name": "ipython",
    "version": 3
   },
   "file_extension": ".py",
   "mimetype": "text/x-python",
   "name": "python",
   "nbconvert_exporter": "python",
   "pygments_lexer": "ipython3",
   "version": "3.8.3"
  }
 },
 "nbformat": 4,
 "nbformat_minor": 5
}
