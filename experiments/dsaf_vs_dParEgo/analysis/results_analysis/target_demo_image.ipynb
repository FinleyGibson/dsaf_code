{
 "cells": [
  {
   "cell_type": "code",
   "execution_count": 1,
   "id": "6bfc70af",
   "metadata": {},
   "outputs": [],
   "source": [
    "import os\n",
    "import rootpath\n",
    "import sys\n",
    "sys.path.append(rootpath.detect())"
   ]
  },
  {
   "cell_type": "code",
   "execution_count": 2,
   "id": "f6787f7f",
   "metadata": {},
   "outputs": [],
   "source": [
    "import numpy as np\n",
    "import pandas as pd\n",
    "import matplotlib.pyplot as plt"
   ]
  },
  {
   "cell_type": "code",
   "execution_count": 3,
   "id": "dd743026",
   "metadata": {},
   "outputs": [],
   "source": [
    "from figure_utilities import *"
   ]
  },
  {
   "cell_type": "code",
   "execution_count": 4,
   "id": "65a80e65",
   "metadata": {},
   "outputs": [],
   "source": [
    "from testsuite.analysis_tools import get_target_dict, get_igd_refpoint_dict\n",
    "from testsuite.utilities import PROBLEM_CONFIGURATIONS, dominates"
   ]
  },
  {
   "cell_type": "code",
   "execution_count": 5,
   "id": "c08f0d9a",
   "metadata": {},
   "outputs": [],
   "source": [
    "format_figures()"
   ]
  },
  {
   "cell_type": "code",
   "execution_count": 6,
   "id": "4ee98896",
   "metadata": {},
   "outputs": [],
   "source": [
    "D_targets = get_target_dict()\n",
    "D_rp = get_igd_refpoint_dict()"
   ]
  },
  {
   "cell_type": "code",
   "execution_count": 7,
   "id": "54d601d2",
   "metadata": {},
   "outputs": [
    {
     "data": {
      "text/plain": [
       "'wfg6_2obj_6dim'"
      ]
     },
     "execution_count": 7,
     "metadata": {},
     "output_type": "execute_result"
    }
   ],
   "source": [
    "problem = PROBLEM_CONFIGURATIONS[15]\n",
    "problem"
   ]
  },
  {
   "cell_type": "code",
   "execution_count": 8,
   "id": "068168ff",
   "metadata": {},
   "outputs": [],
   "source": [
    "targets = D_targets[problem]\n",
    "rp = D_rp[problem]"
   ]
  },
  {
   "cell_type": "code",
   "execution_count": 9,
   "id": "6d964ce0",
   "metadata": {},
   "outputs": [
    {
     "data": {
      "image/png": "[encoded data removed]",
      "text/plain": [
       "<Figure size 172.8x288 with 1 Axes>"
      ]
     },
     "metadata": {
      "needs_background": "light"
     },
     "output_type": "display_data"
    }
   ],
   "source": [
    "fig = plt.figure(figsize=[(3/5)*4, 4])\n",
    "fig_ax = fig.gca()\n",
    "\n",
    "fig_ax.axis(\"scaled\")\n",
    "fig_ax.set_xlabel(Symbols.function_n(1))\n",
    "fig_ax.set_ylabel(Symbols.function_n(2))\n",
    "\n",
    "fig_ax.plot(*rp[np.argsort(rp[:,0])].T, **Styles.line_Pareto_front, label=Symbols.Pareto_front, zorder=1)\n",
    "fig_ax.scatter(*targets[::3].T, label=Symbols.target+\"$_U$\", zorder=2)\n",
    "fig_ax.scatter(*targets[1::3].T, label=Symbols.target+\"$_P$\", zorder=3)\n",
    "fig_ax.scatter(*targets[2::3].T, label=Symbols.target+\"$_A$\", zorder=4)\n",
    "fig_ax.set_xlim(0, 3)\n",
    "fig_ax.set_ylim(0, 5) \n",
    "fig_ax.legend()\n",
    "save_fig(fig, filename=\"fig_target_positions_wfg6_2obj\")"
   ]
  },
  {
   "cell_type": "code",
   "execution_count": null,
   "id": "db5c405e",
   "metadata": {},
   "outputs": [],
   "source": []
  },
  {
   "cell_type": "code",
   "execution_count": 10,
   "id": "e44d7311",
   "metadata": {},
   "outputs": [
    {
     "data": {
      "text/plain": [
       "(6, 2)"
      ]
     },
     "execution_count": 10,
     "metadata": {},
     "output_type": "execute_result"
    }
   ],
   "source": [
    "targets.shape"
   ]
  },
  {
   "cell_type": "code",
   "execution_count": 11,
   "id": "cb4956cf",
   "metadata": {},
   "outputs": [
    {
     "data": {
      "text/plain": [
       "(356, 2)"
      ]
     },
     "execution_count": 11,
     "metadata": {},
     "output_type": "execute_result"
    }
   ],
   "source": [
    "t1 = targets[0]\n",
    "t1_rp = np.vstack([i for i in rp if dominates(t1, i)])\n",
    "t1_rp.shape"
   ]
  },
  {
   "cell_type": "code",
   "execution_count": 12,
   "id": "b264eccb",
   "metadata": {},
   "outputs": [
    {
     "data": {
      "text/plain": [
       "(372, 2)"
      ]
     },
     "execution_count": 12,
     "metadata": {},
     "output_type": "execute_result"
    }
   ],
   "source": [
    "t2 = targets[5]\n",
    "t2_rp = np.vstack([i for i in rp if dominates(i, t2)])\n",
    "t2_rp.shape"
   ]
  },
  {
   "cell_type": "code",
   "execution_count": 13,
   "id": "8bbde827",
   "metadata": {},
   "outputs": [
    {
     "data": {
      "image/png": "[encoded data removed]",
      "text/plain": [
       "<Figure size 172.8x288 with 1 Axes>"
      ]
     },
     "metadata": {
      "needs_background": "light"
     },
     "output_type": "display_data"
    }
   ],
   "source": [
    "fig_rp = plt.figure(figsize=[(3/5)*4, 4])\n",
    "fig_rp_ax = fig_rp.gca()\n",
    "\n",
    "fig_rp_ax.axis(\"scaled\")\n",
    "fig_rp_ax.set_xlabel(Symbols.function_n(1))\n",
    "fig_rp_ax.set_ylabel(Symbols.function_n(2))\n",
    "\n",
    "fig_rp_ax.plot(*rp[np.argsort(rp[:,0])].T, **Styles.line_Pareto_front, label=Symbols.Pareto_front, alpha=0.3)\n",
    "\n",
    "fig_rp_ax.scatter(*t1, c=\"C0\", label=Symbols.target+\"$_U$\")\n",
    "fig_rp_ax.scatter(*t1_rp.T, c=\"C0\", s=2)\n",
    "\n",
    "fig_rp_ax.scatter(*t2, c=\"C2\", label=Symbols.target+\"$_A$\")\n",
    "fig_rp_ax.scatter(*t2_rp.T, c=\"C2\", s=2)\n",
    "\n",
    "fig_rp_ax.set_xlim(0, 3)\n",
    "fig_rp_ax.set_ylim(0, 5) \n",
    "fig_rp_ax.legend()\n",
    "save_fig(fig_rp, filename=\"fig_target_rp_wfg6_2obj\")"
   ]
  },
  {
   "cell_type": "code",
   "execution_count": 41,
   "id": "24336959",
   "metadata": {},
   "outputs": [],
   "source": [
    "resolution = 2500\n",
    "radius = 1.\n",
    "x_Pareto, y_Pareto = np.array([np.cos(np.linspace(0, np.pi/2, resolution)), np.sin(np.linspace(0, np.pi/2, resolution))])\n",
    "target_angles = (20/360)*2*np.pi, (65/360)*2*np.pi\n",
    "targets = np.asarray([[[np.cos(angle)*scale, np.sin(angle)*scale] for scale in [0.9, 1.0, 1.1]] for angle in target_angles])"
   ]
  },
  {
   "cell_type": "code",
   "execution_count": 60,
   "id": "73d7747d",
   "metadata": {},
   "outputs": [
    {
     "data": {
      "image/png": "[encoded data removed]",
      "text/plain": [
       "<Figure size 288x288 with 1 Axes>"
      ]
     },
     "metadata": {
      "needs_background": "light"
     },
     "output_type": "display_data"
    }
   ],
   "source": [
    "fig = plt.figure(figsize=[4, 4])\n",
    "fig_ax = fig.gca()\n",
    "\n",
    "fig_ax.plot(x_Pareto, y_Pareto, c=\"k\", label=Symbols.Pareto_front, alpha=0.3)\n",
    "fig_ax.scatter(*targets[:, 0].T, c=[\"C0\"], label=Symbols.target+\"$_U$\", zorder=2)\n",
    "fig_ax.scatter(*targets[:, 1].T, c=[\"C1\"], label=Symbols.target+\"$_P$\", zorder=3)\n",
    "fig_ax.scatter(*targets[:, 2].T, c=[\"C2\"], label=Symbols.target+\"$_A$\", zorder=4)\n",
    "\n",
    "\n",
    "fig_ax.axis(\"scaled\")\n",
    "fig_ax.legend()\n",
    "fig_ax.set_xlim(0, 1.2)\n",
    "fig_ax.set_ylim(0, 1.2) \n",
    "fig_ax.set_xlabel(Symbols.function_n(1))\n",
    "fig_ax.set_ylabel(Symbols.function_n(2))\n",
    "fig_ax.legend()\n",
    "save_fig(fig, filename=\"fig_target_positions_circ_2obj\")"
   ]
  },
  {
   "cell_type": "code",
   "execution_count": 61,
   "id": "2debe41e",
   "metadata": {},
   "outputs": [],
   "source": [
    "t1 = targets[0, 0, :]\n",
    "t2 = targets[1, 2, :]\n",
    "rp = np.hstack((x_Pareto.reshape(-1, 1), y_Pareto.reshape(-1, 1)))\n",
    "\n",
    "t1_rp = np.array([i for i in rp if dominates(t1, i)])\n",
    "t2_rp = np.array([i for i in rp if dominates(i, t2)])"
   ]
  },
  {
   "cell_type": "code",
   "execution_count": 62,
   "id": "25cff028",
   "metadata": {},
   "outputs": [
    {
     "data": {
      "image/png": "[encoded data removed]",
      "text/plain": [
       "<Figure size 288x288 with 1 Axes>"
      ]
     },
     "metadata": {
      "needs_background": "light"
     },
     "output_type": "display_data"
    }
   ],
   "source": [
    "fig = plt.figure(figsize=[4, 4])\n",
    "fig_ax = fig.gca()\n",
    "\n",
    "fig_ax.plot(x_Pareto, y_Pareto, c=\"k\", label=Symbols.Pareto_front, alpha=0.3)\n",
    "fig_ax.scatter(*t1, c=[\"C0\"], label=Symbols.target+\"$_U$\", zorder=2)\n",
    "fig_ax.scatter(*t2, c=[\"C2\"], label=Symbols.target+\"$_P$\", zorder=3)\n",
    "\n",
    "fig_ax.scatter(*t1_rp.T, c=\"C0\", s=5)\n",
    "fig_ax.scatter(*t2_rp.T, c=\"C2\", s=5)\n",
    "\n",
    "fig_ax.axis(\"scaled\")\n",
    "fig_ax.legend()\n",
    "fig_ax.set_xlim(0, 1.2)\n",
    "fig_ax.set_ylim(0, 1.2) \n",
    "fig_ax.set_xlabel(Symbols.function_n(1))\n",
    "fig_ax.set_ylabel(Symbols.function_n(2))\n",
    "fig_ax.legend()\n",
    "save_fig(fig, filename=\"fig_target_rp_circ_2obj\")"
   ]
  },
  {
   "cell_type": "code",
   "execution_count": 63,
   "id": "f6fed274",
   "metadata": {},
   "outputs": [
    {
     "data": {
      "image/png": "[encoded data removed]",
      "text/plain": [
       "<Figure size 288x288 with 1 Axes>"
      ]
     },
     "metadata": {
      "needs_background": "light"
     },
     "output_type": "display_data"
    }
   ],
   "source": [
    "fig = plt.figure(figsize=[4, 4])\n",
    "fig_ax = fig.gca()\n",
    "\n",
    "fig_ax.plot(x_Pareto, y_Pareto, c=\"k\", label=Symbols.Pareto_front, alpha=0.3)\n",
    "fig_ax.scatter(*targets[:, 0].T, c=[\"C0\"], label=Symbols.target+\"$_U$\", zorder=2)\n",
    "fig_ax.scatter(*targets[:, 1].T, c=[\"C1\"], label=Symbols.target+\"$_P$\", zorder=3)\n",
    "fig_ax.scatter(*targets[:, 2].T, c=[\"C2\"], label=Symbols.target+\"$_A$\", zorder=4)\n",
    "\n",
    "fig_ax.scatter(*t1_rp.T, c=\"C0\", s=5)\n",
    "fig_ax.scatter(*t2_rp.T, c=\"C2\", s=5)\n",
    "\n",
    "fig_ax.axis(\"scaled\")\n",
    "fig_ax.legend()\n",
    "fig_ax.set_xlim(0, 1.2)\n",
    "fig_ax.set_ylim(0, 1.2) \n",
    "fig_ax.set_xlabel(Symbols.function_n(1))\n",
    "fig_ax.set_ylabel(Symbols.function_n(2))\n",
    "fig_ax.legend()\n",
    "save_fig(fig, filename=\"fig_target_both_circ_2obj\")"
   ]
  },
  {
   "cell_type": "code",
   "execution_count": null,
   "id": "2093ba1d",
   "metadata": {},
   "outputs": [],
   "source": []
  },
  {
   "cell_type": "code",
   "execution_count": null,
   "id": "93da4924",
   "metadata": {},
   "outputs": [],
   "source": []
  },
  {
   "cell_type": "code",
   "execution_count": null,
   "id": "35fbff0d",
   "metadata": {},
   "outputs": [],
   "source": []
  }
 ],
 "metadata": {
  "kernelspec": {
   "display_name": "testsuite",
   "language": "python",
   "name": "testsuite"
  },
  "language_info": {
   "codemirror_mode": {
    "name": "ipython",
    "version": 3
   },
   "file_extension": ".py",
   "mimetype": "text/x-python",
   "name": "python",
   "nbconvert_exporter": "python",
   "pygments_lexer": "ipython3",
   "version": "3.8.3"
  }
 },
 "nbformat": 4,
 "nbformat_minor": 5
}
