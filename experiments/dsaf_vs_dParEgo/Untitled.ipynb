{
 "cells": [
  {
   "cell_type": "code",
   "execution_count": 1,
   "id": "b4ef551e",
   "metadata": {},
   "outputs": [],
   "source": [
    "import os\n",
    "import rootpath\n",
    "import sys\n",
    "sys.path.append(rootpath.detect())"
   ]
  },
  {
   "cell_type": "code",
   "execution_count": 2,
   "id": "132de244",
   "metadata": {},
   "outputs": [],
   "source": [
    "import numpy as np\n",
    "import matplotlib.pyplot as plt"
   ]
  },
  {
   "cell_type": "code",
   "execution_count": 3,
   "id": "8cd4d7d3",
   "metadata": {},
   "outputs": [],
   "source": [
    "import pickle"
   ]
  },
  {
   "cell_type": "code",
   "execution_count": 4,
   "id": "9a6ee0f0",
   "metadata": {},
   "outputs": [],
   "source": [
    "def load(p):\n",
    "    with open(p, \"rb\") as infile:\n",
    "        return pickle.load(infile)"
   ]
  },
  {
   "cell_type": "code",
   "execution_count": 5,
   "id": "c4916477",
   "metadata": {},
   "outputs": [],
   "source": [
    "path = os.path.join(rootpath.detect(), \"experiments/data/dParEgo/wfg6_2obj_6dim/log_data/OF_objective_function__opt_DirectedParEgo__ninit_10\")\n",
    "paths = [os.path.join(path, p) for p in os.listdir(path) if p[-9:] != \"model.pkl\"]\n",
    "parego_results = [load(p) for p in paths]"
   ]
  },
  {
   "cell_type": "code",
   "execution_count": 6,
   "id": "2a74f25f",
   "metadata": {},
   "outputs": [],
   "source": [
    "path = os.path.join(rootpath.detect(), \"experiments/data/saf_directed/wfg6_2obj_6dim/log_data/OF_objective_function__opt_DirectedSaf__ninit_10__surrogate_MultiSurrogateGP__ei_False__target_2p09_1p35__w_0p5\")\n",
    "paths = [os.path.join(path, p) for p in os.listdir(path) if p[-9:] != \"model.pkl\"]\n",
    "dsaf_results = [load(p) for p in paths]"
   ]
  },
  {
   "cell_type": "code",
   "execution_count": 13,
   "id": "a7e07bf5",
   "metadata": {},
   "outputs": [],
   "source": [
    "t = dsaf_results[0][\"targets\"]"
   ]
  },
  {
   "cell_type": "code",
   "execution_count": 23,
   "id": "a28945b5",
   "metadata": {},
   "outputs": [
    {
     "data": {
      "text/plain": [
       "<matplotlib.collections.PathCollection at 0x7feec7d47e50>"
      ]
     },
     "execution_count": 23,
     "metadata": {},
     "output_type": "execute_result"
    },
    {
     "data": {
      "image/png": "[encoded data removed]",
      "text/plain": [
       "<Figure size 432x288 with 1 Axes>"
      ]
     },
     "metadata": {
      "needs_background": "light"
     },
     "output_type": "display_data"
    }
   ],
   "source": [
    "seed_n = 2\n",
    "\n",
    "fig = plt.figure()\n",
    "ax = fig.gca()\n",
    "\n",
    "ax.scatter(*dsaf_results[seed_n][\"y\"].T, c=\"C0\")\n",
    "ax.scatter(*parego_results[seed_n][\"y\"].T, c=\"C1\")\n",
    "ax.scatter(*t.T, c=\"magenta\")"
   ]
  },
  {
   "cell_type": "code",
   "execution_count": 24,
   "id": "f4672271",
   "metadata": {},
   "outputs": [
    {
     "data": {
      "text/plain": [
       "(150, 6)"
      ]
     },
     "execution_count": 24,
     "metadata": {},
     "output_type": "execute_result"
    }
   ],
   "source": [
    "dsaf_results[0][\"x\"].shape"
   ]
  },
  {
   "cell_type": "code",
   "execution_count": null,
   "id": "be19946f",
   "metadata": {},
   "outputs": [],
   "source": []
  }
 ],
 "metadata": {
  "kernelspec": {
   "display_name": "testsuite",
   "language": "python",
   "name": "testsuite"
  },
  "language_info": {
   "codemirror_mode": {
    "name": "ipython",
    "version": 3
   },
   "file_extension": ".py",
   "mimetype": "text/x-python",
   "name": "python",
   "nbconvert_exporter": "python",
   "pygments_lexer": "ipython3",
   "version": "3.8.3"
  }
 },
 "nbformat": 4,
 "nbformat_minor": 5
}
