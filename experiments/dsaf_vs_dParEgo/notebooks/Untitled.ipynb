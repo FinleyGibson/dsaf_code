{
 "cells": [
  {
   "cell_type": "code",
   "execution_count": 1,
   "id": "fd5f820f",
   "metadata": {},
   "outputs": [],
   "source": [
    "import numpy as np"
   ]
  },
  {
   "cell_type": "code",
   "execution_count": 5,
   "id": "5d116dfd",
   "metadata": {},
   "outputs": [
    {
     "data": {
      "text/plain": [
       "array([0.5       , 0.25      , 0.16666667, 0.125     ])"
      ]
     },
     "execution_count": 5,
     "metadata": {},
     "output_type": "execute_result"
    }
   ],
   "source": [
    "w = 1/np.array([2, 4, 6, 8])\n",
    "w"
   ]
  },
  {
   "cell_type": "code",
   "execution_count": 6,
   "id": "05c6434d",
   "metadata": {},
   "outputs": [
    {
     "data": {
      "text/plain": [
       "array([1., 1., 1., 1.])"
      ]
     },
     "execution_count": 6,
     "metadata": {},
     "output_type": "execute_result"
    }
   ],
   "source": [
    "z = np.array([1., 1., 1., 1.])\n",
    "z"
   ]
  },
  {
   "cell_type": "code",
   "execution_count": 7,
   "id": "fdddb3a7",
   "metadata": {},
   "outputs": [],
   "source": [
    "rho = 0.05"
   ]
  },
  {
   "cell_type": "code",
   "execution_count": 8,
   "id": "d6d71502",
   "metadata": {},
   "outputs": [
    {
     "data": {
      "text/plain": [
       "array([ 0.09040962,  0.73806488, -1.41644022,  0.03649603])"
      ]
     },
     "execution_count": 8,
     "metadata": {},
     "output_type": "execute_result"
    }
   ],
   "source": [
    "y = np.random.randn(4)\n",
    "y"
   ]
  },
  {
   "cell_type": "code",
   "execution_count": 9,
   "id": "10d66929",
   "metadata": {},
   "outputs": [
    {
     "data": {
      "text/plain": [
       "-0.06557329815842887"
      ]
     },
     "execution_count": 9,
     "metadata": {},
     "output_type": "execute_result"
    }
   ],
   "source": [
    "ans = np.max((y-z)*w) + (rho*np.dot(y, w))\n",
    "ans"
   ]
  },
  {
   "cell_type": "code",
   "execution_count": 11,
   "id": "8c4ce518",
   "metadata": {},
   "outputs": [
    {
     "data": {
      "text/plain": [
       "-0.06557329815842887"
      ]
     },
     "execution_count": 11,
     "metadata": {},
     "output_type": "execute_result"
    }
   ],
   "source": [
    "max([wi*(yi-zi)+rho*np.sum([wj*yj for wj, yj in zip(w, y)]) for wi, zi, yi in zip(w, z, y)])"
   ]
  },
  {
   "cell_type": "code",
   "execution_count": 2,
   "id": "3ea0aa9c",
   "metadata": {},
   "outputs": [
    {
     "name": "stderr",
     "output_type": "stream",
     "text": [
      "reconstraining parameters GP_regression.Mat52.lengthscale\n",
      "reconstraining parameters GP_regression.Mat52.variance\n",
      "reconstraining parameters GP_regression.Gaussian_noise.variance\n"
     ]
    },
    {
     "name": "stdout",
     "output_type": "stream",
     "text": [
      "Optimization restart 1/10, f = 14.189385176681355\n",
      "Optimization restart 2/10, f = 14.189385332046726\n",
      "Optimization restart 3/10, f = 30.790378718305416\n",
      "Optimization restart 4/10, f = 14.189385332046864\n",
      "Optimization restart 5/10, f = 12.301811345446442\n",
      "Optimization restart 6/10, f = 66.75405415730188\n",
      "Optimization restart 7/10, f = 12.301811345446453\n",
      "Optimization restart 8/10, f = 14.18938533204673\n",
      "Optimization restart 9/10, f = 14.189385332046726\n",
      "Optimization restart 10/10, f = 12.301811345467467\n",
      "(4_w,9)-aCMA-ES (mu_w=2.8,w_1=49%) in dimension 6 (seed=605916, Sun Apr 10 00:36:57 2022)\n",
      "Iterat #Fevals   function value  axis ratio  sigma  min&max std  t[m:s]\n",
      "    1      9 -4.271820480850400e-05 1.0e+00 2.75e-01  3e-01  3e-01 0:00.0\n",
      "    2     18 -3.520147077829138e-04 1.4e+00 2.69e-01  2e-01  3e-01 0:00.0\n",
      "    3     27 -2.079507484821721e-03 1.6e+00 3.04e-01  3e-01  4e-01 0:00.1\n",
      "  100    900 -1.096280364216223e-01 7.3e+00 7.17e-03  4e-04  2e-03 0:01.1\n",
      "  159   1431 -1.096280513732376e-01 6.4e+00 2.13e-05  3e-07  2e-06 0:01.6\n"
     ]
    },
    {
     "name": "stderr",
     "output_type": "stream",
     "text": [
      "reconstraining parameters GP_regression.Mat52.lengthscale\n",
      "reconstraining parameters GP_regression.Mat52.variance\n",
      "reconstraining parameters GP_regression.Gaussian_noise.variance\n"
     ]
    },
    {
     "name": "stdout",
     "output_type": "stream",
     "text": [
      "termination on tolfun=1e-11 (Sun Apr 10 00:36:58 2022)\n",
      "final/bestever f-value = -1.096281e-01 -1.096281e-01\n",
      "incumbent solution: [1.9999999999999583, 3.9999999999999916, 3.475260039499674, 1.7623600510997353, 2.3941237270571, 9.221857686584576]\n",
      "std deviation: [7.680274751117343e-07, 3.013612762865154e-07, 8.629911732892395e-07, 1.4419657758180527e-06, 1.685659950467593e-06, 1.4528541312342125e-06]\n",
      "Optimization restart 1/10, f = 12.913190454034751\n",
      "Optimization restart 2/10, f = 15.6083238652514\n",
      "Optimization restart 3/10, f = 15.6083238652514\n",
      "Optimization restart 4/10, f = 15.6083238652514\n",
      "Optimization restart 5/10, f = 12.913190454034732\n",
      "Optimization restart 6/10, f = 73.4294689225882\n",
      "Optimization restart 7/10, f = 73.4294679054103\n",
      "Optimization restart 8/10, f = 12.91319045403491\n",
      "Optimization restart 9/10, f = 12.913190454034748\n",
      "Optimization restart 10/10, f = 73.4294689225882\n",
      "(4_w,9)-aCMA-ES (mu_w=2.8,w_1=49%) in dimension 6 (seed=681375, Sun Apr 10 00:36:59 2022)\n",
      "Iterat #Fevals   function value  axis ratio  sigma  min&max std  t[m:s]\n",
      "    1      9 -8.106060962610122e-03 1.0e+00 2.41e-01  2e-01  2e-01 0:00.0\n",
      "    2     18 -1.353969801707746e-02 1.2e+00 2.53e-01  2e-01  3e-01 0:00.0\n",
      "    3     27 -1.221636176152220e-02 1.4e+00 2.62e-01  2e-01  3e-01 0:00.0\n",
      "  100    900 -6.028716588505696e-02 9.4e+00 3.00e-02  2e-03  2e-02 0:00.9\n",
      "  181   1629 -6.028744497308494e-02 9.2e+00 2.27e-05  2e-07  2e-06 0:01.6\n",
      "termination on tolfun=1e-11 (Sun Apr 10 00:37:01 2022)\n",
      "final/bestever f-value = -6.028744e-02 -6.028744e-02\n",
      "incumbent solution: [1.9444384718445968, 3.9999999999999574, 3.910718863780371, 5.721362483068493, 1.6504801463264674e-11, 8.578486454281599]\n",
      "std deviation: [4.6591607886300136e-07, 2.1501597586895155e-07, 8.110659861122552e-07, 9.079114117709299e-07, 1.3390954456394128e-06, 1.7459277232743501e-06]\n"
     ]
    }
   ],
   "source": [
    "import sys\n",
    "import os\n",
    "import rootpath\n",
    "sys.path.append(rootpath.detect())\n",
    "from testsuite.surrogates import  MultiSurrogate, GP\n",
    "from testsuite.analysis_tools import get_factors\n",
    "from testsuite.directed_optimisers import DirectedParEgo\n",
    "import wfg\n",
    "\n",
    "problem_path = os.path.join(rootpath.detect(), 'experiments/directed/data/wfg6_3obj_8dim')\n",
    "sys.path.append(problem_path)\n",
    "\n",
    "t = [1.714, 1.102]\n",
    "seed = 5\n",
    "surrogate = MultiSurrogate(GP, scaled=True)\n",
    "\n",
    "n_dim = 6\n",
    "limits = np.zeros((2, n_dim))\n",
    "limits[1] = np.array(range(1, n_dim + 1)) * 2\n",
    "\n",
    "\n",
    "def objective_function(x):\n",
    "    M = 2\n",
    "    kfactor, lfactor = get_factors(M, n_dim)\n",
    "    k = kfactor * (M - 1)  # position related params\n",
    "    l = lfactor * 2  # distance related params\n",
    "    if x.ndim < 2:\n",
    "        x = x.reshape(1, -1)\n",
    "    return np.array([ wfg.WFG6(xi, k, M) for xi in x])\n",
    "\n",
    "opt = DirectedParEgo(objective_function=objective_function, ei=True,\n",
    "                     target=t, limits=limits, surrogate=GP(), n_initial=10,\n",
    "                     budget=12, log_dir=\"./test_results\", seed=seed)\n",
    "opt.optimise(2)\n"
   ]
  },
  {
   "cell_type": "code",
   "execution_count": 13,
   "id": "8ce8da39",
   "metadata": {},
   "outputs": [
    {
     "name": "stderr",
     "output_type": "stream",
     "text": [
      "reconstraining parameters GP_regression.Mat52.lengthscale\n",
      "reconstraining parameters GP_regression.Mat52.variance\n",
      "reconstraining parameters GP_regression.Gaussian_noise.variance\n"
     ]
    },
    {
     "name": "stdout",
     "output_type": "stream",
     "text": [
      "Optimization restart 1/10, f = 37.30495473715788\n",
      "Optimization restart 2/10, f = 506136096.90221465\n",
      "Optimization restart 3/10, f = 505872544.0647326\n",
      "Optimization restart 4/10, f = 505336686.1792834\n",
      "Optimization restart 5/10, f = 37.30495473712031\n",
      "Optimization restart 6/10, f = 505611750.9964047\n",
      "Optimization restart 7/10, f = 213.61300050207478\n",
      "Optimization restart 8/10, f = 505444838.31659263\n",
      "Optimization restart 9/10, f = 213.61300050207478\n",
      "Optimization restart 10/10, f = 45.406033062549525\n",
      "(4_w,9)-aCMA-ES (mu_w=2.8,w_1=49%) in dimension 6 (seed=692527, Sun Apr 10 00:42:19 2022)\n",
      "Iterat #Fevals   function value  axis ratio  sigma  min&max std  t[m:s]\n",
      "    1      9 -3.865864877565186e-05 1.0e+00 2.71e-01  3e-01  3e-01 0:00.0\n",
      "    2     18 -5.312517565016260e-05 1.4e+00 3.07e-01  3e-01  4e-01 0:00.0\n",
      "    3     27 -1.944962787993520e-04 1.6e+00 3.86e-01  4e-01  5e-01 0:00.1\n",
      "  100    900 -1.486106623200526e-02 3.8e+00 7.87e-03  9e-04  3e-03 0:01.5\n",
      "  166   1494 -1.486110279343075e-02 4.3e+00 3.43e-05  9e-07  4e-06 0:02.8\n"
     ]
    },
    {
     "name": "stderr",
     "output_type": "stream",
     "text": [
      "reconstraining parameters GP_regression.Mat52.lengthscale\n",
      "reconstraining parameters GP_regression.Mat52.variance\n",
      "reconstraining parameters GP_regression.Gaussian_noise.variance\n"
     ]
    },
    {
     "name": "stdout",
     "output_type": "stream",
     "text": [
      "termination on tolfun=1e-11 (Sun Apr 10 00:42:22 2022)\n",
      "final/bestever f-value = -1.486110e-02 -1.486110e-02\n",
      "incumbent solution: [1.2844993855212563, 3.599254477974223, 4.499558859580375e-13, 2.4320634624619066e-13, 9.999999999999403, 1.4457422102965413e-13]\n",
      "std deviation: [1.0757064911429655e-06, 2.3193924709826228e-06, 1.1832720856396069e-06, 9.940782896650933e-07, 3.7116917522438334e-06, 9.259518584454888e-07]\n",
      "Optimization restart 1/10, f = 38.427456502097556\n",
      "Optimization restart 2/10, f = 46.824971595756\n",
      "Optimization restart 3/10, f = 548874418.871681\n",
      "Optimization restart 4/10, f = 38.42745650202715\n",
      "Optimization restart 5/10, f = 86.34310913940287\n",
      "Optimization restart 6/10, f = 46.8249715957542\n",
      "Optimization restart 7/10, f = 46.8249715957542\n",
      "Optimization restart 8/10, f = 38.42745650202866\n",
      "Optimization restart 9/10, f = 220.28840676776463\n",
      "Optimization restart 10/10, f = 220.28840676776463\n",
      "(4_w,9)-aCMA-ES (mu_w=2.8,w_1=49%) in dimension 6 (seed=605825, Sun Apr 10 00:42:27 2022)\n",
      "Iterat #Fevals   function value  axis ratio  sigma  min&max std  t[m:s]\n",
      "    1      9 -1.733597412273127e-03 1.0e+00 2.65e-01  3e-01  3e-01 0:00.1\n",
      "    2     18 -2.344700904014131e-03 1.4e+00 3.06e-01  3e-01  4e-01 0:00.1\n",
      "    3     27 -3.081792599668402e-03 1.7e+00 3.36e-01  3e-01  4e-01 0:00.1\n",
      "   73    657 -1.133410415350826e-02 1.5e+01 3.56e-02  4e-03  6e-02 0:03.1\n",
      "  100    900 -1.133445245363174e-02 1.4e+01 5.00e-03  3e-04  4e-03 0:03.9\n",
      "  157   1413 -1.133445550401145e-02 1.8e+01 7.19e-05  1e-06  2e-05 0:04.6\n"
     ]
    },
    {
     "name": "stderr",
     "output_type": "stream",
     "text": [
      "reconstraining parameters GP_regression.Mat52.lengthscale\n",
      "reconstraining parameters GP_regression.Mat52.variance\n",
      "reconstraining parameters GP_regression.Gaussian_noise.variance\n"
     ]
    },
    {
     "name": "stdout",
     "output_type": "stream",
     "text": [
      "termination on tolfun=1e-11 (Sun Apr 10 00:42:32 2022)\n",
      "final/bestever f-value = -1.133446e-02 -1.133446e-02\n",
      "incumbent solution: [0.41492968644401584, 3.9999999999999476, 5.99999999999881, 4.278985004783452, 8.522411098648837e-12, 11.999999999739257]\n",
      "std deviation: [2.967147892946403e-06, 1.8637441567760295e-06, 2.943938183962774e-06, 6.042393042751908e-06, 1.2609633662217515e-06, 2.0959767266786832e-05]\n",
      "Optimization restart 1/10, f = 40.005291358249906\n",
      "Optimization restart 2/10, f = 48.24391012895887\n",
      "Optimization restart 3/10, f = 40.00529135822467\n",
      "Optimization restart 4/10, f = 48.24391012895902\n",
      "Optimization restart 5/10, f = 580409379.4418602\n",
      "Optimization restart 6/10, f = 40.00529135822465\n",
      "Optimization restart 7/10, f = 226.96381303345447\n",
      "Optimization restart 8/10, f = 82.97633653302088\n",
      "Optimization restart 9/10, f = 40.005291358228476\n",
      "Optimization restart 10/10, f = 40.00529135825181\n",
      "(4_w,9)-aCMA-ES (mu_w=2.8,w_1=49%) in dimension 6 (seed=745642, Sun Apr 10 00:42:35 2022)\n",
      "Iterat #Fevals   function value  axis ratio  sigma  min&max std  t[m:s]\n",
      "    1      9 -3.066203921575942e-06 1.0e+00 2.44e-01  2e-01  3e-01 0:00.0\n",
      "    2     18 -1.428091419926903e-06 1.3e+00 2.42e-01  2e-01  3e-01 0:00.0\n",
      "    3     27 -6.064844525481260e-06 1.3e+00 2.79e-01  3e-01  3e-01 0:00.1\n",
      "  100    900 -1.137186807626691e-02 7.6e+00 7.05e-01  1e-01  5e-01 0:01.2\n",
      "  200   1800 -1.181797844373881e-02 1.6e+01 1.49e-04  1e-06  2e-05 0:02.9\n",
      "  207   1863 -1.181797844379565e-02 1.4e+01 5.31e-05  4e-07  6e-06 0:03.0\n"
     ]
    },
    {
     "name": "stderr",
     "output_type": "stream",
     "text": [
      "reconstraining parameters GP_regression.Mat52.lengthscale\n",
      "reconstraining parameters GP_regression.Mat52.variance\n",
      "reconstraining parameters GP_regression.Gaussian_noise.variance\n"
     ]
    },
    {
     "name": "stdout",
     "output_type": "stream",
     "text": [
      "termination on tolfun=1e-11 (Sun Apr 10 00:42:38 2022)\n",
      "final/bestever f-value = -1.181798e-02 -1.181798e-02\n",
      "incumbent solution: [1.2586915950551354, 3.9999999999990514, 5.577037302663225, 2.974248676190404e-13, 1.4234735414056854e-14, 9.530069591087718]\n",
      "std deviation: [9.05825302509588e-07, 1.068409749470156e-06, 2.104982130908231e-06, 4.2573234176182944e-07, 6.832119884698865e-07, 5.725101206460821e-06]\n",
      "Optimization restart 1/10, f = 41.035783447179924\n",
      "Optimization restart 2/10, f = 49.66284866216356\n",
      "Optimization restart 3/10, f = 49.66284866216354\n",
      "Optimization restart 4/10, f = 41.03578344716169\n",
      "Optimization restart 5/10, f = 233.63921929914432\n",
      "Optimization restart 6/10, f = 233.63921929914432\n",
      "Optimization restart 7/10, f = 49.66284866216354\n",
      "Optimization restart 8/10, f = 41.03578344716097\n",
      "Optimization restart 9/10, f = 233.63921929707294\n",
      "Optimization restart 10/10, f = 603410876.2054813\n",
      "(4_w,9)-aCMA-ES (mu_w=2.8,w_1=49%) in dimension 6 (seed=600241, Sun Apr 10 00:42:42 2022)\n",
      "Iterat #Fevals   function value  axis ratio  sigma  min&max std  t[m:s]\n",
      "    1      9 -2.148729188729515e-04 1.0e+00 2.74e-01  3e-01  3e-01 0:00.0\n",
      "    2     18 -1.407169736918032e-03 1.3e+00 3.63e-01  3e-01  4e-01 0:00.1\n",
      "    3     27 -1.417583150750782e-03 1.6e+00 4.01e-01  4e-01  4e-01 0:00.2\n",
      "  100    900 -7.215978371084130e-03 1.2e+01 2.73e-01  3e-02  3e-01 0:02.7\n",
      "  200   1800 -7.232694632599415e-03 1.3e+01 1.44e-04  1e-06  1e-05 0:05.1\n",
      "  209   1881 -7.232694632602350e-03 1.2e+01 5.79e-05  5e-07  5e-06 0:05.2\n"
     ]
    },
    {
     "name": "stderr",
     "output_type": "stream",
     "text": [
      "reconstraining parameters GP_regression.Mat52.lengthscale\n"
     ]
    },
    {
     "name": "stdout",
     "output_type": "stream",
     "text": [
      "termination on tolfun=1e-11 (Sun Apr 10 00:42:48 2022)\n",
      "final/bestever f-value = -7.232695e-03 -7.232695e-03\n",
      "incumbent solution: [1.9999999999999936, 3.9999999999999565, 4.924874941570582e-13, 7.999999999978307, 9.99999999999992, 11.99999999999981]\n",
      "std deviation: [6.204267777494631e-07, 6.89819436926308e-07, 4.6000370779036553e-07, 4.893841867320292e-06, 2.8753903703086716e-06, 2.79530429447465e-06]\n"
     ]
    },
    {
     "name": "stderr",
     "output_type": "stream",
     "text": [
      "reconstraining parameters GP_regression.Mat52.variance\n",
      "reconstraining parameters GP_regression.Gaussian_noise.variance\n"
     ]
    },
    {
     "name": "stdout",
     "output_type": "stream",
     "text": [
      "Optimization restart 1/10, f = 42.6358797554919\n",
      "Optimization restart 2/10, f = 240.31462556483416\n",
      "Optimization restart 3/10, f = 51.081787195368214\n",
      "Optimization restart 4/10, f = 42.635879755108455\n",
      "Optimization restart 5/10, f = 42.635879755108974\n",
      "Optimization restart 6/10, f = 51.08178719536822\n",
      "Optimization restart 7/10, f = 42.63587975510846\n",
      "Optimization restart 8/10, f = 42.63587975530959\n",
      "Optimization restart 9/10, f = 240.31462556483416\n",
      "Optimization restart 10/10, f = 51.08178719536822\n",
      "(4_w,9)-aCMA-ES (mu_w=2.8,w_1=49%) in dimension 6 (seed=589767, Sun Apr 10 00:42:50 2022)\n",
      "Iterat #Fevals   function value  axis ratio  sigma  min&max std  t[m:s]\n",
      "    1      9 -5.363249686875160e-04 1.0e+00 2.34e-01  2e-01  2e-01 0:00.0\n",
      "    2     18 -4.592821710268525e-04 1.2e+00 2.21e-01  2e-01  2e-01 0:00.1\n",
      "    3     27 -6.636943029723367e-04 1.2e+00 2.25e-01  2e-01  2e-01 0:00.1\n",
      "  100    900 -1.089933320264459e-02 9.1e+00 3.35e-03  2e-04  1e-03 0:01.2\n",
      "  164   1476 -1.089933892163530e-02 9.7e+00 1.06e-05  1e-07  9e-07 0:02.0\n"
     ]
    },
    {
     "name": "stderr",
     "output_type": "stream",
     "text": [
      "reconstraining parameters GP_regression.Mat52.lengthscale\n",
      "reconstraining parameters GP_regression.Mat52.variance\n",
      "reconstraining parameters GP_regression.Gaussian_noise.variance\n"
     ]
    },
    {
     "name": "stdout",
     "output_type": "stream",
     "text": [
      "termination on tolfun=1e-11 (Sun Apr 10 00:42:52 2022)\n",
      "final/bestever f-value = -1.089934e-02 -1.089934e-02\n",
      "incumbent solution: [1.4503466206077784, 3.9999999999999996, 4.020384906614231, 5.07882140733258, 2.319464243218703, 6.048051880575764]\n",
      "std deviation: [1.1095620937763077e-07, 2.387053202045618e-07, 5.147916946743194e-07, 6.143441483326161e-07, 8.582262561226387e-07, 7.652802820801969e-07]\n",
      "Optimization restart 1/10, f = 42.16907624621127\n",
      "Optimization restart 2/10, f = 1847972.878247229\n",
      "Optimization restart 3/10, f = 52.50072572857289\n",
      "Optimization restart 4/10, f = 52.50072572857361\n",
      "Optimization restart 5/10, f = 246.990031830524\n",
      "Optimization restart 6/10, f = 246.990031830524\n",
      "Optimization restart 7/10, f = 673289154.1483777\n",
      "Optimization restart 8/10, f = 246.990031830524\n",
      "Optimization restart 9/10, f = 676983112.5107226\n",
      "Optimization restart 10/10, f = 52.50072572857289\n",
      "(4_w,9)-aCMA-ES (mu_w=2.8,w_1=49%) in dimension 6 (seed=634096, Sun Apr 10 00:42:55 2022)\n",
      "Iterat #Fevals   function value  axis ratio  sigma  min&max std  t[m:s]\n",
      "    1      9 -1.296333269483650e-03 1.0e+00 2.46e-01  2e-01  3e-01 0:00.0\n",
      "    2     18 -1.474688474034359e-03 1.2e+00 2.42e-01  2e-01  3e-01 0:00.1\n",
      "    3     27 -1.777505808522825e-03 1.3e+00 2.80e-01  2e-01  3e-01 0:00.1\n",
      "  100    900 -6.937038958898852e-03 6.0e+00 1.46e-03  2e-04  7e-04 0:01.8\n",
      "  149   1341 -6.937039483460552e-03 8.6e+00 2.74e-05  9e-07  7e-06 0:02.4\n"
     ]
    },
    {
     "name": "stderr",
     "output_type": "stream",
     "text": [
      "reconstraining parameters GP_regression.Mat52.lengthscale\n",
      "reconstraining parameters GP_regression.Mat52.variance\n",
      "reconstraining parameters GP_regression.Gaussian_noise.variance\n"
     ]
    },
    {
     "name": "stdout",
     "output_type": "stream",
     "text": [
      "termination on tolfun=1e-11 (Sun Apr 10 00:42:58 2022)\n",
      "final/bestever f-value = -6.937039e-03 -6.937039e-03\n",
      "incumbent solution: [1.999999999999675, 3.3833539718545375e-12, 9.000372220713646e-12, 4.695623180114764e-13, 5.689896663975172e-13, 11.99999999999997]\n",
      "std deviation: [1.0639351367439265e-06, 9.081286634368748e-07, 1.5168680709750567e-06, 1.107955068998479e-06, 1.4538477731295625e-06, 6.9694565738979945e-06]\n",
      "Optimization restart 1/10, f = 43.75140525186097\n",
      "Optimization restart 2/10, f = 763358375.1233065\n",
      "Optimization restart 3/10, f = 53.91966426177923\n",
      "Optimization restart 4/10, f = 253.66543809621388\n",
      "Optimization restart 5/10, f = 53.91966426177757\n",
      "Optimization restart 6/10, f = 253.66543809621388\n",
      "Optimization restart 7/10, f = 53.91966426177757\n",
      "Optimization restart 8/10, f = 253.66543809621388\n",
      "Optimization restart 9/10, f = 43.75140525186258\n",
      "Optimization restart 10/10, f = 53.91966426177789\n",
      "(4_w,9)-aCMA-ES (mu_w=2.8,w_1=49%) in dimension 6 (seed=575919, Sun Apr 10 00:43:00 2022)\n",
      "Iterat #Fevals   function value  axis ratio  sigma  min&max std  t[m:s]\n",
      "    1      9 -1.155677881122682e-05 1.0e+00 2.27e-01  2e-01  2e-01 0:00.0\n",
      "    2     18 -1.442029694928126e-05 1.2e+00 2.27e-01  2e-01  2e-01 0:00.1\n",
      "    3     27 -1.771817010118713e-05 1.4e+00 2.21e-01  2e-01  2e-01 0:00.1\n",
      "  100    900 -8.007418809475286e-03 1.1e+01 3.28e-02  2e-03  2e-02 0:01.3\n",
      "  184   1656 -8.007916451335846e-03 1.4e+01 3.62e-05  3e-07  4e-06 0:03.0\n"
     ]
    },
    {
     "name": "stderr",
     "output_type": "stream",
     "text": [
      "reconstraining parameters GP_regression.Mat52.lengthscale\n",
      "reconstraining parameters GP_regression.Mat52.variance\n",
      "reconstraining parameters GP_regression.Gaussian_noise.variance\n"
     ]
    },
    {
     "name": "stdout",
     "output_type": "stream",
     "text": [
      "termination on tolfun=1e-11 (Sun Apr 10 00:43:03 2022)\n",
      "final/bestever f-value = -8.007916e-03 -8.007916e-03\n",
      "incumbent solution: [1.33689560271514, 3.9999999999999645, 5.043398338091368, 4.677203252803578, 0.9760754768390385, 5.216399013176697]\n",
      "std deviation: [3.4529094010882543e-07, 5.402217926700567e-07, 1.189464706946007e-06, 1.538704018816087e-06, 2.9715134447097627e-06, 3.599072567071722e-06]\n",
      "Optimization restart 1/10, f = 46.42791073893363\n",
      "Optimization restart 2/10, f = 46.427910738927054\n",
      "Optimization restart 3/10, f = 55.33860279498225\n",
      "Optimization restart 4/10, f = 55.338602794982236\n",
      "Optimization restart 5/10, f = 260.34084436190375\n",
      "Optimization restart 6/10, f = 46.427910738928084\n",
      "Optimization restart 7/10, f = 55.338601834551994\n",
      "Optimization restart 8/10, f = 260.34084436190375\n",
      "Optimization restart 9/10, f = 1947863.3040984303\n",
      "Optimization restart 10/10, f = 46.42791073893338\n",
      "(4_w,9)-aCMA-ES (mu_w=2.8,w_1=49%) in dimension 6 (seed=643594, Sun Apr 10 00:43:07 2022)\n",
      "Iterat #Fevals   function value  axis ratio  sigma  min&max std  t[m:s]\n",
      "    1      9 -6.032652747902162e-04 1.0e+00 2.31e-01  2e-01  2e-01 0:00.0\n",
      "    2     18 -6.045822609014161e-04 1.3e+00 2.01e-01  2e-01  2e-01 0:00.0\n",
      "    3     27 -7.539431747843831e-04 1.2e+00 1.98e-01  2e-01  2e-01 0:00.1\n",
      "  100    900 -1.797760448047052e-02 7.1e+00 7.31e-03  4e-04  3e-03 0:01.6\n",
      "  158   1422 -1.797761420601093e-02 9.6e+00 1.63e-05  2e-07  1e-06 0:02.3\n"
     ]
    },
    {
     "name": "stderr",
     "output_type": "stream",
     "text": [
      "reconstraining parameters GP_regression.Mat52.lengthscale\n",
      "reconstraining parameters GP_regression.Mat52.variance\n",
      "reconstraining parameters GP_regression.Gaussian_noise.variance\n"
     ]
    },
    {
     "name": "stdout",
     "output_type": "stream",
     "text": [
      "termination on tolfun=1e-11 (Sun Apr 10 00:43:09 2022)\n",
      "final/bestever f-value = -1.797761e-02 -1.797761e-02\n",
      "incumbent solution: [1.9999999999997704, 3.999999999999833, 3.5648660547906714, 1.7002535329336224, 9.999999999998435, 1.3850282137278253e-14]\n",
      "std deviation: [2.5934316193373013e-07, 8.935666406705816e-07, 1.1601105859855115e-06, 1.380461190412232e-06, 1.4690409813913514e-06, 1.7855454419535615e-07]\n",
      "Optimization restart 1/10, f = 48.01852281129777\n",
      "Optimization restart 2/10, f = 56.7575413281869\n",
      "Optimization restart 3/10, f = 56.7575413281869\n",
      "Optimization restart 4/10, f = 56.7575413281869\n",
      "Optimization restart 5/10, f = 267.0162455820401\n",
      "Optimization restart 6/10, f = 48.01852281167555\n",
      "Optimization restart 7/10, f = 48.01852281129649\n",
      "Optimization restart 8/10, f = 103.74549077418446\n",
      "Optimization restart 9/10, f = 267.0162506275935\n",
      "Optimization restart 10/10, f = 817961116.9929359\n",
      "(4_w,9)-aCMA-ES (mu_w=2.8,w_1=49%) in dimension 6 (seed=672071, Sun Apr 10 00:43:11 2022)\n",
      "Iterat #Fevals   function value  axis ratio  sigma  min&max std  t[m:s]\n",
      "    1      9 -7.852926981939516e-05 1.0e+00 2.24e-01  2e-01  2e-01 0:00.0\n",
      "    2     18 -8.662650888757826e-05 1.2e+00 2.01e-01  2e-01  2e-01 0:00.1\n",
      "    3     27 -3.225251735763392e-04 1.4e+00 2.01e-01  2e-01  2e-01 0:00.1\n",
      "  100    900 -9.262049407679485e-03 1.0e+01 1.04e-01  8e-03  7e-02 0:01.3\n",
      "  187   1683 -9.264367983227668e-03 7.8e+00 4.48e-05  5e-07  3e-06 0:02.3\n"
     ]
    },
    {
     "name": "stderr",
     "output_type": "stream",
     "text": [
      "reconstraining parameters GP_regression.Mat52.lengthscale\n",
      "reconstraining parameters GP_regression.Mat52.variance\n",
      "reconstraining parameters GP_regression.Gaussian_noise.variance\n"
     ]
    },
    {
     "name": "stdout",
     "output_type": "stream",
     "text": [
      "termination on tolfun=1e-11 (Sun Apr 10 00:43:14 2022)\n",
      "final/bestever f-value = -9.264368e-03 -9.264368e-03\n",
      "incumbent solution: [1.9999999999999718, 3.9999999999999987, 4.265226666057744e-13, 7.9999999999999725, 3.5978381138715143, 11.999999999999448]\n",
      "std deviation: [9.168647053049543e-07, 7.750870371443936e-07, 5.205362038777831e-07, 1.7987225487387954e-06, 3.3660959493305e-06, 3.1354346230099658e-06]\n",
      "Optimization restart 1/10, f = 49.335194574522944\n",
      "Optimization restart 2/10, f = 49.335194574523115\n",
      "Optimization restart 3/10, f = 58.176479861391535\n",
      "Optimization restart 4/10, f = 58.17647986139157\n",
      "Optimization restart 5/10, f = 49.33519457452588\n",
      "Optimization restart 6/10, f = 49.335194574523626\n",
      "Optimization restart 7/10, f = 49.33519457452296\n",
      "Optimization restart 8/10, f = 58.17647986139157\n",
      "Optimization restart 9/10, f = 273.6916568932833\n",
      "Optimization restart 10/10, f = 845175685.9875358\n",
      "(4_w,9)-aCMA-ES (mu_w=2.8,w_1=49%) in dimension 6 (seed=614722, Sun Apr 10 00:43:16 2022)\n",
      "Iterat #Fevals   function value  axis ratio  sigma  min&max std  t[m:s]\n",
      "    1      9 -5.167124735115221e-03 1.0e+00 2.27e-01  2e-01  2e-01 0:00.0\n",
      "    2     18 -5.560949228640442e-03 1.3e+00 2.34e-01  2e-01  3e-01 0:00.0\n",
      "    3     27 -5.897325592959305e-03 1.5e+00 2.70e-01  2e-01  3e-01 0:00.1\n",
      "  100    900 -7.674780377360486e-03 8.1e+00 6.94e-04  4e-05  3e-04 0:02.7\n",
      "  134   1206 -7.674780415309179e-03 8.6e+00 4.90e-05  1e-06  1e-05 0:03.4\n"
     ]
    },
    {
     "name": "stderr",
     "output_type": "stream",
     "text": [
      "reconstraining parameters GP_regression.Mat52.lengthscale\n",
      "reconstraining parameters GP_regression.Mat52.variance\n",
      "reconstraining parameters GP_regression.Gaussian_noise.variance\n"
     ]
    },
    {
     "name": "stdout",
     "output_type": "stream",
     "text": [
      "termination on tolfun=1e-11 (Sun Apr 10 00:43:20 2022)\n",
      "final/bestever f-value = -7.674780e-03 -7.674780e-03\n",
      "incumbent solution: [1.999999999999851, 3.9999999999999387, 2.1193776889551052e-14, 7.99999999994888, 9.999999999996215, 5.036191152436178]\n",
      "std deviation: [1.5406876605612875e-06, 1.896109805440896e-06, 1.3697111521381072e-06, 9.93714757968516e-06, 6.758526198138645e-06, 7.927408699086422e-06]\n",
      "Optimization restart 1/10, f = 50.63344047419913\n",
      "Optimization restart 2/10, f = 280.36706315897317\n",
      "Optimization restart 3/10, f = 50.633440474199226\n",
      "Optimization restart 4/10, f = 59.59541839459639\n",
      "Optimization restart 5/10, f = 59.59541839459628\n",
      "Optimization restart 6/10, f = 280.36706315897317\n",
      "Optimization restart 7/10, f = 867044474.3405797\n",
      "Optimization restart 8/10, f = 59.595418394596265\n",
      "Optimization restart 9/10, f = 868648858.941755\n",
      "Optimization restart 10/10, f = 865975917.8116661\n",
      "(4_w,9)-aCMA-ES (mu_w=2.8,w_1=49%) in dimension 6 (seed=644388, Sun Apr 10 00:43:23 2022)\n",
      "Iterat #Fevals   function value  axis ratio  sigma  min&max std  t[m:s]\n",
      "    1      9 -4.619094332126224e-04 1.0e+00 3.05e-01  3e-01  3e-01 0:00.0\n",
      "    2     18 -7.062058546543869e-04 1.2e+00 3.63e-01  3e-01  4e-01 0:00.0\n",
      "    3     27 -9.873956934630460e-04 1.3e+00 4.67e-01  4e-01  5e-01 0:00.1\n",
      "  100    900 -5.161940229414852e-03 8.9e+00 1.21e-02  7e-04  6e-03 0:02.5\n",
      "  156   1404 -5.161949127857890e-03 1.0e+01 4.94e-05  9e-07  8e-06 0:03.3\n"
     ]
    },
    {
     "name": "stderr",
     "output_type": "stream",
     "text": [
      "reconstraining parameters GP_regression.Mat52.lengthscale\n",
      "reconstraining parameters GP_regression.Mat52.variance\n",
      "reconstraining parameters GP_regression.Gaussian_noise.variance\n"
     ]
    },
    {
     "name": "stdout",
     "output_type": "stream",
     "text": [
      "termination on tolfun=1e-11 (Sun Apr 10 00:43:26 2022)\n",
      "final/bestever f-value = -5.161949e-03 -5.161949e-03\n",
      "incumbent solution: [2.4113941496888355e-13, 1.6782708643239608e-13, 5.999999999998381, 1.1227982663269816e-12, 9.999999999987015, 11.999999999995962]\n",
      "std deviation: [9.120916864921109e-07, 9.52277899807565e-07, 3.6161103813443327e-06, 9.760802083691614e-07, 7.877688043044166e-06, 4.0778447380724506e-06]\n",
      "Optimization restart 1/10, f = 51.20926390129427\n",
      "Optimization restart 2/10, f = 51.20926390129296\n",
      "Optimization restart 3/10, f = 51.209263901292964\n",
      "Optimization restart 4/10, f = 51.209263901321556\n",
      "Optimization restart 5/10, f = 816521483.5086422\n",
      "Optimization restart 6/10, f = 61.01435692780092\n",
      "Optimization restart 7/10, f = 51.20926390129473\n",
      "Optimization restart 8/10, f = 287.04246942466307\n",
      "Optimization restart 9/10, f = 287.04246942466307\n",
      "Optimization restart 10/10, f = 51.209263901293\n",
      "(4_w,9)-aCMA-ES (mu_w=2.8,w_1=49%) in dimension 6 (seed=667261, Sun Apr 10 00:43:29 2022)\n",
      "Iterat #Fevals   function value  axis ratio  sigma  min&max std  t[m:s]\n",
      "    1      9 -8.911785236800788e-04 1.0e+00 2.19e-01  2e-01  2e-01 0:00.0\n",
      "    2     18 -1.281326267596777e-03 1.2e+00 2.10e-01  2e-01  2e-01 0:00.0\n",
      "    3     27 -2.167328322599846e-03 1.3e+00 2.36e-01  2e-01  2e-01 0:00.1\n",
      "  100    900 -9.742644018190767e-03 6.7e+00 1.21e-03  1e-04  6e-04 0:01.5\n",
      "  141   1269 -9.742644496229278e-03 7.2e+00 2.83e-05  9e-07  6e-06 0:02.0\n"
     ]
    },
    {
     "name": "stderr",
     "output_type": "stream",
     "text": [
      "reconstraining parameters GP_regression.Mat52.lengthscale\n",
      "reconstraining parameters GP_regression.Mat52.variance\n",
      "reconstraining parameters GP_regression.Gaussian_noise.variance\n"
     ]
    },
    {
     "name": "stdout",
     "output_type": "stream",
     "text": [
      "termination on tolfun=1e-11 (Sun Apr 10 00:43:31 2022)\n",
      "final/bestever f-value = -9.742644e-03 -9.742644e-03\n",
      "incumbent solution: [1.9999999999999996, 8.009566625461091e-12, 4.7173304745937674e-12, 2.953425804149255e-13, 4.966554075855403e-12, 4.88636320147687]\n",
      "std deviation: [1.141920861623157e-06, 2.4387233468508774e-06, 1.0701492436720916e-06, 9.136232944836031e-07, 1.7510071826922475e-06, 6.268935318495145e-06]\n",
      "Optimization restart 1/10, f = 52.746070294589884\n",
      "Optimization restart 2/10, f = 62.433295461005606\n",
      "Optimization restart 3/10, f = 62.43329546149672\n",
      "Optimization restart 4/10, f = 828088191.0670862\n",
      "Optimization restart 5/10, f = 293.7178756903529\n",
      "Optimization restart 6/10, f = 293.7178756903529\n",
      "Optimization restart 7/10, f = 293.7178756903529\n",
      "Optimization restart 8/10, f = 62.43329546100609\n",
      "Optimization restart 9/10, f = 831636399.8966815\n",
      "Optimization restart 10/10, f = 52.74607029456921\n",
      "(4_w,9)-aCMA-ES (mu_w=2.8,w_1=49%) in dimension 6 (seed=642814, Sun Apr 10 00:43:33 2022)\n",
      "Iterat #Fevals   function value  axis ratio  sigma  min&max std  t[m:s]\n",
      "    1      9 -1.485822694170730e-04 1.0e+00 2.42e-01  2e-01  2e-01 0:00.0\n",
      "    2     18 -4.397203181584581e-04 1.2e+00 2.84e-01  3e-01  3e-01 0:00.0\n",
      "    3     27 -5.156985372793440e-04 1.7e+00 3.09e-01  3e-01  4e-01 0:00.1\n",
      "  100    900 -1.283794588833735e-02 6.1e+00 6.09e-03  4e-04  2e-03 0:01.2\n",
      "  163   1467 -1.283795860564334e-02 7.6e+00 1.74e-05  2e-07  2e-06 0:02.0\n"
     ]
    },
    {
     "name": "stderr",
     "output_type": "stream",
     "text": [
      "reconstraining parameters GP_regression.Mat52.lengthscale\n",
      "reconstraining parameters GP_regression.Mat52.variance\n",
      "reconstraining parameters GP_regression.Gaussian_noise.variance\n"
     ]
    },
    {
     "name": "stdout",
     "output_type": "stream",
     "text": [
      "termination on tolfun=1e-11 (Sun Apr 10 00:43:35 2022)\n",
      "final/bestever f-value = -1.283796e-02 -1.283796e-02\n",
      "incumbent solution: [1.999999999998572, 3.9999999999999982, 5.999999999999999, 1.8727696721868634e-13, 6.257754394349095, 9.148720452391914e-14]\n",
      "std deviation: [1.4858508926446094e-06, 9.319284347512465e-07, 8.721740153201513e-07, 3.0364289997225456e-07, 1.5094441533422088e-06, 2.2328571391301477e-07]\n",
      "Optimization restart 1/10, f = 54.05542493245978\n",
      "Optimization restart 2/10, f = 113.74678064415576\n",
      "Optimization restart 3/10, f = 63.85223399421028\n",
      "Optimization restart 4/10, f = 54.05542493257629\n",
      "Optimization restart 5/10, f = 63.85223399421027\n",
      "Optimization restart 6/10, f = 300.3932819560427\n",
      "Optimization restart 7/10, f = 872449766.0676725\n",
      "Optimization restart 8/10, f = 54.05542493240749\n",
      "Optimization restart 9/10, f = 300.3932819560427\n",
      "Optimization restart 10/10, f = 300.3932819560427\n",
      "(4_w,9)-aCMA-ES (mu_w=2.8,w_1=49%) in dimension 6 (seed=633478, Sun Apr 10 00:43:39 2022)\n",
      "Iterat #Fevals   function value  axis ratio  sigma  min&max std  t[m:s]\n",
      "    1      9 -3.848522543796881e-04 1.0e+00 2.23e-01  2e-01  2e-01 0:00.0\n",
      "    2     18 -3.997180250797550e-04 1.3e+00 2.25e-01  2e-01  2e-01 0:00.0\n",
      "    3     27 -4.295215029154510e-04 1.3e+00 2.30e-01  2e-01  2e-01 0:00.1\n",
      "  100    900 -7.309438477902195e-03 6.1e+00 1.88e-03  1e-04  7e-04 0:01.2\n",
      "  152   1368 -7.309439257181805e-03 5.4e+00 2.10e-05  5e-07  2e-06 0:01.8\n"
     ]
    },
    {
     "name": "stderr",
     "output_type": "stream",
     "text": [
      "reconstraining parameters GP_regression.Mat52.lengthscale\n",
      "reconstraining parameters GP_regression.Mat52.variance\n",
      "reconstraining parameters GP_regression.Gaussian_noise.variance\n"
     ]
    },
    {
     "name": "stdout",
     "output_type": "stream",
     "text": [
      "termination on tolfun=1e-11 (Sun Apr 10 00:43:41 2022)\n",
      "final/bestever f-value = -7.309439e-03 -7.309439e-03\n",
      "incumbent solution: [1.9999999999999551, 3.9999999999979083, 3.6048471029151923, 3.451672488264787e-14, 2.8288151355295625e-17, 6.369122197243168]\n",
      "std deviation: [5.580351690588579e-07, 9.772939111888415e-07, 1.5859638637074424e-06, 8.61444254341322e-07, 4.855150426218786e-07, 2.300066166419386e-06]\n",
      "Optimization restart 1/10, f = 55.51720976700045\n",
      "Optimization restart 2/10, f = 307.0686882217325\n",
      "Optimization restart 3/10, f = 307.0686882217325\n",
      "Optimization restart 4/10, f = 65.27117252741498\n",
      "Optimization restart 5/10, f = 65.27117252741493\n",
      "Optimization restart 6/10, f = 55.517209766945314\n",
      "Optimization restart 7/10, f = 55.517209766946934\n",
      "Optimization restart 8/10, f = 65.27117252741495\n",
      "Optimization restart 9/10, f = 65.27117252741495\n",
      "Optimization restart 10/10, f = 65.27117252741496\n",
      "(4_w,9)-aCMA-ES (mu_w=2.8,w_1=49%) in dimension 6 (seed=634123, Sun Apr 10 00:43:43 2022)\n",
      "Iterat #Fevals   function value  axis ratio  sigma  min&max std  t[m:s]\n",
      "    1      9 -3.916262581864557e-04 1.0e+00 2.36e-01  2e-01  2e-01 0:00.0\n",
      "    2     18 -7.663020672828971e-04 1.3e+00 2.68e-01  2e-01  3e-01 0:00.1\n",
      "    3     27 -1.042929733835588e-03 1.7e+00 3.27e-01  3e-01  4e-01 0:00.2\n",
      "  100    900 -1.087328639952390e-02 1.1e+01 1.02e-02  8e-04  8e-03 0:01.3\n",
      "  166   1494 -1.087331091844451e-02 9.8e+00 2.70e-05  6e-07  4e-06 0:02.4\n"
     ]
    },
    {
     "name": "stderr",
     "output_type": "stream",
     "text": [
      "reconstraining parameters GP_regression.Mat52.lengthscale\n",
      "reconstraining parameters GP_regression.Mat52.variance\n",
      "reconstraining parameters GP_regression.Gaussian_noise.variance\n"
     ]
    },
    {
     "name": "stdout",
     "output_type": "stream",
     "text": [
      "termination on tolfun=1e-11 (Sun Apr 10 00:43:46 2022)\n",
      "final/bestever f-value = -1.087331e-02 -1.087331e-02\n",
      "incumbent solution: [0.4541120663239856, 3.9999999999996554, 2.066188003176549e-12, 8.511955562119651e-13, 9.99999999999326, 2.2557362996187567e-12]\n",
      "std deviation: [5.993902133832099e-07, 1.8313344886224158e-06, 5.520351424824159e-07, 6.797857641172381e-07, 4.44697725761715e-06, 1.3540141598442145e-06]\n",
      "Optimization restart 1/10, f = 56.45621279107206\n",
      "Optimization restart 2/10, f = 56.45621279118667\n",
      "Optimization restart 3/10, f = 66.69011106061981\n",
      "Optimization restart 4/10, f = 313.74409448742233\n",
      "Optimization restart 5/10, f = 1000029325.679873\n",
      "Optimization restart 6/10, f = 56.45621279106256\n",
      "Optimization restart 7/10, f = 56.45621279106308\n",
      "Optimization restart 8/10, f = 66.69011106061964\n",
      "Optimization restart 9/10, f = 2347425.0075032366\n",
      "Optimization restart 10/10, f = 118.29858515184674\n",
      "(4_w,9)-aCMA-ES (mu_w=2.8,w_1=49%) in dimension 6 (seed=650775, Sun Apr 10 00:43:48 2022)\n",
      "Iterat #Fevals   function value  axis ratio  sigma  min&max std  t[m:s]\n",
      "    1      9 -2.587806497683972e-04 1.0e+00 2.33e-01  2e-01  2e-01 0:00.0\n",
      "    2     18 -6.698932673430170e-04 1.2e+00 2.67e-01  2e-01  3e-01 0:00.0\n",
      "    3     27 -6.660686434824996e-04 1.5e+00 3.06e-01  3e-01  4e-01 0:00.1\n",
      "  100    900 -1.089674321552728e-02 3.6e+00 1.65e-01  2e-02  6e-02 0:01.3\n",
      "  200   1800 -1.092681969460082e-02 8.7e+00 2.26e-05  3e-07  2e-06 0:02.5\n",
      "  201   1809 -1.092681969459830e-02 8.5e+00 2.13e-05  2e-07  2e-06 0:02.5\n"
     ]
    },
    {
     "name": "stderr",
     "output_type": "stream",
     "text": [
      "reconstraining parameters GP_regression.Mat52.lengthscale\n",
      "reconstraining parameters GP_regression.Mat52.variance\n",
      "reconstraining parameters GP_regression.Gaussian_noise.variance\n"
     ]
    },
    {
     "name": "stdout",
     "output_type": "stream",
     "text": [
      "termination on tolfun=1e-11 (Sun Apr 10 00:43:51 2022)\n",
      "final/bestever f-value = -1.092682e-02 -1.092682e-02\n",
      "incumbent solution: [0.9377046357755701, 2.1224380200209563, 9.774513368219472e-13, 3.885945600710884e-13, 9.999999999999181, 1.6165936568927066e-13]\n",
      "std deviation: [3.758192658785586e-07, 5.631197850542843e-07, 5.079937971019046e-07, 2.4200202487900093e-07, 1.820714034246837e-06, 4.897856012816593e-07]\n",
      "Optimization restart 1/10, f = 59.99328693425517\n",
      "Optimization restart 2/10, f = 1015280774.0903262\n",
      "Optimization restart 3/10, f = 59.9932869342357\n",
      "Optimization restart 4/10, f = 68.1090495938243\n",
      "Optimization restart 5/10, f = 68.1090495938243\n",
      "Optimization restart 6/10, f = 59.99328693423735\n",
      "Optimization restart 7/10, f = 320.4195007531122\n",
      "Optimization restart 8/10, f = 68.1090495938243\n",
      "Optimization restart 9/10, f = 68.10904959382466\n",
      "Optimization restart 10/10, f = 68.1090495938243\n",
      "(4_w,9)-aCMA-ES (mu_w=2.8,w_1=49%) in dimension 6 (seed=682465, Sun Apr 10 00:43:53 2022)\n",
      "Iterat #Fevals   function value  axis ratio  sigma  min&max std  t[m:s]\n",
      "    1      9 -2.270653166959827e-03 1.0e+00 2.47e-01  2e-01  3e-01 0:00.0\n",
      "    2     18 -2.375994626309217e-03 1.3e+00 2.47e-01  2e-01  3e-01 0:00.0\n",
      "    3     27 -2.536888813251568e-03 1.5e+00 2.58e-01  2e-01  3e-01 0:00.1\n",
      "  100    900 -2.121018580126363e-02 9.6e+00 4.91e-01  4e-02  3e-01 0:01.4\n",
      "  200   1800 -2.168847241581211e-02 7.9e+01 1.45e-03  1e-05  7e-04 0:02.6\n",
      "  233   2097 -2.168847243416604e-02 5.9e+01 8.37e-05  3e-07  2e-05 0:03.1\n"
     ]
    },
    {
     "name": "stderr",
     "output_type": "stream",
     "text": [
      "reconstraining parameters GP_regression.Mat52.lengthscale\n",
      "reconstraining parameters GP_regression.Mat52.variance\n",
      "reconstraining parameters GP_regression.Gaussian_noise.variance\n"
     ]
    },
    {
     "name": "stdout",
     "output_type": "stream",
     "text": [
      "termination on tolfun=1e-11 (Sun Apr 10 00:43:57 2022)\n",
      "final/bestever f-value = -2.168847e-02 -2.168847e-02\n",
      "incumbent solution: [1.1873071545800078, 3.9999999999995755, 9.737480091453634e-13, 1.7380827345023936e-12, 9.999999999964885, 4.056774483113406]\n",
      "std deviation: [3.157079083335878e-07, 4.7026118081248387e-07, 4.702993330660802e-07, 1.0741332899839444e-06, 1.768066596325553e-05, 1.9484290489081982e-06]\n",
      "Optimization restart 1/10, f = 63.17463436315572\n",
      "Optimization restart 2/10, f = 327.09490701880196\n",
      "Optimization restart 3/10, f = 63.17463436315367\n",
      "Optimization restart 4/10, f = 128.0157538694752\n",
      "Optimization restart 5/10, f = 1071619001.6976044\n",
      "Optimization restart 6/10, f = 69.52798812702895\n",
      "Optimization restart 7/10, f = 69.52798812702896\n",
      "Optimization restart 8/10, f = 1069941585.9242675\n",
      "Optimization restart 9/10, f = 69.52798812702896\n",
      "Optimization restart 10/10, f = 63.17463436315826\n",
      "(4_w,9)-aCMA-ES (mu_w=2.8,w_1=49%) in dimension 6 (seed=627724, Sun Apr 10 00:44:00 2022)\n",
      "Iterat #Fevals   function value  axis ratio  sigma  min&max std  t[m:s]\n",
      "    1      9 -2.079354521060169e-03 1.0e+00 2.72e-01  3e-01  3e-01 0:00.0\n",
      "    2     18 -2.244265367041455e-03 1.4e+00 3.26e-01  3e-01  4e-01 0:00.1\n",
      "    3     27 -2.886043149364564e-03 1.5e+00 3.72e-01  3e-01  4e-01 0:00.1\n",
      "  100    900 -1.609627292926182e-02 8.0e+00 1.18e-02  9e-04  6e-03 0:01.2\n",
      "  171   1539 -1.609634172411918e-02 8.0e+00 1.86e-05  3e-07  2e-06 0:02.0\n"
     ]
    },
    {
     "name": "stderr",
     "output_type": "stream",
     "text": [
      "reconstraining parameters GP_regression.Mat52.lengthscale\n",
      "reconstraining parameters GP_regression.Mat52.variance\n",
      "reconstraining parameters GP_regression.Gaussian_noise.variance\n"
     ]
    },
    {
     "name": "stdout",
     "output_type": "stream",
     "text": [
      "termination on tolfun=1e-11 (Sun Apr 10 00:44:02 2022)\n",
      "final/bestever f-value = -1.609634e-02 -1.609634e-02\n",
      "incumbent solution: [1.09088727603424, 3.9999999999996394, 1.1275255633783046, 2.4536798504348683e-13, 7.178723279136477, 1.835084622514736e-13]\n",
      "std deviation: [3.296664485858757e-07, 5.676263964523449e-07, 1.6155866213734777e-06, 7.013315664905365e-07, 2.121415108390907e-06, 3.1561987995033e-07]\n",
      "Optimization restart 1/10, f = 64.96206814002407\n",
      "Optimization restart 2/10, f = 333.7703132844918\n",
      "Optimization restart 3/10, f = 1097958809.6849303\n",
      "Optimization restart 4/10, f = 70.94692666023364\n",
      "Optimization restart 5/10, f = 70.94692666023374\n",
      "Optimization restart 6/10, f = 64.96206814002389\n",
      "Optimization restart 7/10, f = 131.8755792296056\n",
      "Optimization restart 8/10, f = 1098337971.386058\n",
      "Optimization restart 9/10, f = 70.94692666023364\n",
      "Optimization restart 10/10, f = 70.94692666023363\n",
      "(4_w,9)-aCMA-ES (mu_w=2.8,w_1=49%) in dimension 6 (seed=596739, Sun Apr 10 00:44:05 2022)\n",
      "Iterat #Fevals   function value  axis ratio  sigma  min&max std  t[m:s]\n",
      "    1      9 -2.371831256466027e-03 1.0e+00 2.56e-01  2e-01  3e-01 0:00.0\n",
      "    2     18 -2.552978641202089e-03 1.4e+00 2.69e-01  2e-01  3e-01 0:00.0\n",
      "    3     27 -2.550291448287730e-03 1.6e+00 3.12e-01  3e-01  4e-01 0:00.1\n",
      "  100    900 -2.730788239196349e-02 1.0e+01 7.30e-03  3e-04  3e-03 0:01.3\n",
      "  168   1512 -2.730798697688838e-02 1.2e+01 1.71e-05  2e-07  2e-06 0:02.3\n"
     ]
    },
    {
     "name": "stderr",
     "output_type": "stream",
     "text": [
      "reconstraining parameters GP_regression.Mat52.lengthscale\n",
      "reconstraining parameters GP_regression.Mat52.variance\n",
      "reconstraining parameters GP_regression.Gaussian_noise.variance\n"
     ]
    },
    {
     "name": "stdout",
     "output_type": "stream",
     "text": [
      "termination on tolfun=1e-11 (Sun Apr 10 00:44:07 2022)\n",
      "final/bestever f-value = -2.730799e-02 -2.730799e-02\n",
      "incumbent solution: [1.5383479621061176, 3.999999999999937, 3.4932789451945387, 4.965738225409134, 2.9835550846806624, 6.3449495492118295]\n",
      "std deviation: [1.634942908066844e-07, 5.679780837448503e-07, 5.763762626961562e-07, 8.959429409711561e-07, 1.5968080155950217e-06, 1.163650518705571e-06]\n",
      "Optimization restart 1/10, f = 63.814247676817985\n",
      "Optimization restart 2/10, f = 1141607899.7070143\n",
      "Optimization restart 3/10, f = 63.81424767684101\n",
      "Optimization restart 4/10, f = 63.81424767681797\n",
      "Optimization restart 5/10, f = 72.36586519343831\n",
      "Optimization restart 6/10, f = 72.3658651934383\n",
      "Optimization restart 7/10, f = 129.574334484787\n",
      "Optimization restart 8/10, f = 72.36586519343831\n",
      "Optimization restart 9/10, f = 72.3658651934383\n",
      "Optimization restart 10/10, f = 340.4457195501816\n",
      "(4_w,9)-aCMA-ES (mu_w=2.8,w_1=49%) in dimension 6 (seed=638000, Sun Apr 10 00:44:10 2022)\n",
      "Iterat #Fevals   function value  axis ratio  sigma  min&max std  t[m:s]\n",
      "    1      9 -2.290495454047326e-03 1.0e+00 2.45e-01  2e-01  3e-01 0:00.0\n",
      "    2     18 -3.053377291319126e-03 1.3e+00 2.85e-01  3e-01  4e-01 0:00.0\n",
      "    3     27 -2.915669694478876e-03 1.6e+00 2.92e-01  3e-01  4e-01 0:00.1\n",
      "  100    900 -7.167521973561481e-03 3.2e+00 1.72e-03  2e-04  4e-04 0:01.3\n",
      "  142   1278 -7.167521987720953e-03 2.9e+00 3.94e-05  2e-06  4e-06 0:01.8\n",
      "termination on tolfun=1e-11 (Sun Apr 10 00:44:12 2022)\n",
      "final/bestever f-value = -7.167522e-03 -7.167522e-03\n",
      "incumbent solution: [1.9999999999994644, 1.5730272668088556, 2.030654358545693, 3.2382864031840936e-11, 1.937612165596381e-11, 11.999999999998481]\n",
      "std deviation: [1.5323018252193547e-06, 1.933116006602143e-06, 2.7800481893266268e-06, 2.744573915776913e-06, 2.6626778996219127e-06, 3.981750724280292e-06]\n"
     ]
    }
   ],
   "source": [
    "opt.optimise(20)\n"
   ]
  },
  {
   "cell_type": "code",
   "execution_count": 4,
   "id": "281c0bf8",
   "metadata": {},
   "outputs": [
    {
     "name": "stderr",
     "output_type": "stream",
     "text": [
      "reconstraining parameters GP_regression.Mat52.lengthscale\n",
      "reconstraining parameters GP_regression.Mat52.variance\n",
      "reconstraining parameters GP_regression.Gaussian_noise.variance\n"
     ]
    },
    {
     "name": "stdout",
     "output_type": "stream",
     "text": [
      "Optimization restart 1/10, f = 14.189385137580413\n",
      "Optimization restart 2/10, f = 113803685.177837\n",
      "Optimization restart 3/10, f = 66.75406265689837\n",
      "Optimization restart 4/10, f = 13.601289570233279\n",
      "Optimization restart 5/10, f = 13.601289570236457\n",
      "Optimization restart 6/10, f = 14.18938533204786\n",
      "Optimization restart 7/10, f = 13.60128957036991\n",
      "Optimization restart 8/10, f = 13.601289570233085\n",
      "Optimization restart 9/10, f = 66.75406132726847\n",
      "Optimization restart 10/10, f = 14.189385332047138\n"
     ]
    },
    {
     "name": "stderr",
     "output_type": "stream",
     "text": [
      "reconstraining parameters GP_regression.Mat52.lengthscale\n",
      "reconstraining parameters GP_regression.Mat52.variance\n",
      "reconstraining parameters GP_regression.Gaussian_noise.variance\n"
     ]
    },
    {
     "name": "stdout",
     "output_type": "stream",
     "text": [
      "Optimization restart 1/10, f = 14.189385239898165\n",
      "Optimization restart 2/10, f = 66.75406265689837\n",
      "Optimization restart 3/10, f = 66.75406265689837\n",
      "Optimization restart 4/10, f = 66.75405971839443\n",
      "Optimization restart 5/10, f = 12.353411274708442\n",
      "Optimization restart 6/10, f = 28.573981810810967\n",
      "Optimization restart 7/10, f = 14.189385332046728\n",
      "Optimization restart 8/10, f = 14.189385332046783\n",
      "Optimization restart 9/10, f = 12.353411274711474\n",
      "Optimization restart 10/10, f = 14.189385332051351\n",
      "(4_w,9)-aCMA-ES (mu_w=2.8,w_1=49%) in dimension 6 (seed=681092, Sun Apr 10 00:38:11 2022)\n",
      "Iterat #Fevals   function value  axis ratio  sigma  min&max std  t[m:s]\n",
      "    1      9 -4.390225743224594e-01 1.0e+00 2.49e-01  2e-01  3e-01 0:00.0\n",
      "    2     18 -4.404933166281545e-01 1.3e+00 2.62e-01  2e-01  3e-01 0:00.0\n",
      "    3     27 -4.417523229979290e-01 1.5e+00 2.34e-01  2e-01  2e-01 0:00.0\n",
      "  100    900 -4.953521490974359e-01 3.0e+01 2.67e-03  1e-04  2e-03 0:01.1\n",
      "  148   1332 -4.953521505108738e-01 2.6e+01 2.65e-05  3e-07  8e-06 0:01.6\n"
     ]
    },
    {
     "name": "stderr",
     "output_type": "stream",
     "text": [
      "reconstraining parameters GP_regression.Mat52.lengthscale\n",
      "reconstraining parameters GP_regression.Mat52.variance\n",
      "reconstraining parameters GP_regression.Gaussian_noise.variance\n"
     ]
    },
    {
     "name": "stdout",
     "output_type": "stream",
     "text": [
      "termination on tolfun=1e-11 (Sun Apr 10 00:38:13 2022)\n",
      "final/bestever f-value = -4.953522e-01 -4.953522e-01\n",
      "incumbent solution: [1.9999999999999085, 3.999999999999954, 5.999999999997605, 1.2396536675835441, 1.0253670809768839e-13, 11.999999999997407]\n",
      "std deviation: [3.386632563987068e-07, 8.628976107483814e-07, 1.86067795115793e-06, 1.930908283855565e-06, 5.860427635398157e-07, 8.019428321133372e-06]\n",
      "Optimization restart 1/10, f = 14.745341430068803\n",
      "Optimization restart 2/10, f = 15.6083238652514\n",
      "Optimization restart 3/10, f = 14.745341430068853\n",
      "Optimization restart 4/10, f = 14.745341430079954\n",
      "Optimization restart 5/10, f = 15.608323865251402\n",
      "Optimization restart 6/10, f = 15.608323865251403\n",
      "Optimization restart 7/10, f = 549397.3421816084\n",
      "Optimization restart 8/10, f = 14.745341430071939\n"
     ]
    },
    {
     "name": "stderr",
     "output_type": "stream",
     "text": [
      "reconstraining parameters GP_regression.Mat52.lengthscale\n",
      "reconstraining parameters GP_regression.Mat52.variance\n",
      "reconstraining parameters GP_regression.Gaussian_noise.variance\n"
     ]
    },
    {
     "name": "stdout",
     "output_type": "stream",
     "text": [
      "Optimization restart 9/10, f = 15.6083238652514\n",
      "Optimization restart 10/10, f = 73.4294689225882\n",
      "Optimization restart 1/10, f = 13.950254396275913\n",
      "Optimization restart 2/10, f = 73.4294689225882\n",
      "Optimization restart 3/10, f = 15.608323865253018\n",
      "Optimization restart 4/10, f = 13.950254396286311\n",
      "Optimization restart 5/10, f = 13.95025439627598\n",
      "Optimization restart 6/10, f = 13.950254396275906\n",
      "Optimization restart 7/10, f = 73.42946644674072\n",
      "Optimization restart 8/10, f = 13.950254396276243\n",
      "Optimization restart 9/10, f = 13.950254396278652\n",
      "Optimization restart 10/10, f = 15.608323865251402\n",
      "(4_w,9)-aCMA-ES (mu_w=2.8,w_1=49%) in dimension 6 (seed=616221, Sun Apr 10 00:38:14 2022)\n",
      "Iterat #Fevals   function value  axis ratio  sigma  min&max std  t[m:s]\n",
      "    1      9 -3.808477338776403e-01 1.0e+00 2.48e-01  2e-01  3e-01 0:00.0\n",
      "    2     18 -3.899293364708267e-01 1.3e+00 2.86e-01  3e-01  3e-01 0:00.0\n",
      "    3     27 -3.896024416538623e-01 1.6e+00 3.36e-01  3e-01  4e-01 0:00.1\n",
      "  100    900 -4.610490112048401e-01 4.0e+01 3.66e-02  5e-03  3e-02 0:01.6\n",
      "  200   1800 -4.610596988646879e-01 9.5e+03 2.07e-04  1e-05  7e-05 0:03.3\n",
      "  240   2160 -4.610596988791394e-01 1.2e+05 5.14e-05  2e-06  2e-05 0:03.7\n",
      "termination on tolfun=1e-11 (Sun Apr 10 00:38:18 2022)\n",
      "final/bestever f-value = -4.610597e-01 -4.610597e-01\n",
      "incumbent solution: [1.3685371809960365, 3.5570564531427538, 3.1910950642133606, 3.3478330553085396, 3.7342082323169574, 4.578880069213773]\n",
      "std deviation: [2.3358535223640523e-06, 4.240073100820505e-06, 7.23130848554166e-06, 6.569679364450409e-06, 1.428316516808054e-05, 1.6003231065557004e-05]\n"
     ]
    }
   ],
   "source": [
    "from testsuite.directed_optimisers import DirectedSaf\n",
    "multi_surrogate = MultiSurrogate(GP, scaled=True)\n",
    "opt2 = DirectedSaf(objective_function=objective_function, ei=False, targets=t, w=0.5, \n",
    "                   limits=limits, surrogate=multi_surrogate, n_initial=10, budget=12, log_dir=\"./test_results\", seed=seed)\n",
    "opt2.optimise(2)"
   ]
  },
  {
   "cell_type": "code",
   "execution_count": 12,
   "id": "9efdf3f1",
   "metadata": {},
   "outputs": [
    {
     "name": "stderr",
     "output_type": "stream",
     "text": [
      "reconstraining parameters GP_regression.Mat52.lengthscale\n",
      "reconstraining parameters GP_regression.Mat52.variance\n",
      "reconstraining parameters GP_regression.Gaussian_noise.variance\n"
     ]
    },
    {
     "name": "stdout",
     "output_type": "stream",
     "text": [
      "Optimization restart 1/10, f = 15.625765428691556\n",
      "Optimization restart 2/10, f = 80.10487518827804\n",
      "Optimization restart 3/10, f = 15.6257654286914\n",
      "Optimization restart 4/10, f = 17.027262398456074\n",
      "Optimization restart 5/10, f = 15.625765428699383\n",
      "Optimization restart 6/10, f = 15.62576542869268\n",
      "Optimization restart 7/10, f = 15.625765429010261\n",
      "Optimization restart 8/10, f = 80.10487518827804\n",
      "Optimization restart 9/10, f = 17.02726239845607\n"
     ]
    },
    {
     "name": "stderr",
     "output_type": "stream",
     "text": [
      "reconstraining parameters GP_regression.Mat52.lengthscale\n",
      "reconstraining parameters GP_regression.Mat52.variance\n",
      "reconstraining parameters GP_regression.Gaussian_noise.variance\n"
     ]
    },
    {
     "name": "stdout",
     "output_type": "stream",
     "text": [
      "Optimization restart 10/10, f = 15.625765428726755\n",
      "Optimization restart 1/10, f = 14.581984241544994\n",
      "Optimization restart 2/10, f = 14.581984241519498\n",
      "Optimization restart 3/10, f = 14.581984241519034\n",
      "Optimization restart 4/10, f = 14.581984241522584\n",
      "Optimization restart 5/10, f = 14.581984241519027\n",
      "Optimization restart 6/10, f = 80.10487319943321\n",
      "Optimization restart 7/10, f = 80.10487518827804\n",
      "Optimization restart 8/10, f = 14.581984241522834\n",
      "Optimization restart 9/10, f = 14.581984241519026\n",
      "Optimization restart 10/10, f = 80.10487404515115\n",
      "(4_w,9)-aCMA-ES (mu_w=2.8,w_1=49%) in dimension 6 (seed=702734, Sun Apr 10 00:39:44 2022)\n",
      "Iterat #Fevals   function value  axis ratio  sigma  min&max std  t[m:s]\n",
      "    1      9 -4.184396736454542e-01 1.0e+00 2.73e-01  3e-01  3e-01 0:00.0\n",
      "    2     18 -4.276556381288857e-01 1.4e+00 3.35e-01  3e-01  4e-01 0:00.0\n",
      "    3     27 -4.278425614356271e-01 1.6e+00 3.74e-01  4e-01  4e-01 0:00.1\n",
      "  100    900 -4.834453725952857e-01 8.1e+01 8.72e-03  8e-04  6e-03 0:01.6\n",
      "  200   1800 -4.834455251027620e-01 5.5e+03 2.75e-04  1e-05  8e-05 0:02.9\n",
      "  244   2196 -4.834455251475789e-01 7.3e+04 6.01e-05  2e-06  1e-05 0:03.7\n"
     ]
    },
    {
     "name": "stderr",
     "output_type": "stream",
     "text": [
      "reconstraining parameters GP_regression.Mat52.lengthscale\n",
      "reconstraining parameters GP_regression.Mat52.variance\n",
      "reconstraining parameters GP_regression.Gaussian_noise.variance\n"
     ]
    },
    {
     "name": "stdout",
     "output_type": "stream",
     "text": [
      "termination on tolfun=1e-11 (Sun Apr 10 00:39:48 2022)\n",
      "final/bestever f-value = -4.834455e-01 -4.834455e-01\n",
      "incumbent solution: [1.619000936834214, 3.9999999999960223, 2.752002887578926, 2.6874341505817467, 2.1010480464876315, 2.905239588159506]\n",
      "std deviation: [1.6055908278239032e-06, 2.817371481882796e-06, 5.239120661377538e-06, 5.951471709898125e-06, 7.419135844456206e-06, 1.4468342956983241e-05]\n",
      "Optimization restart 1/10, f = 16.363402163790788\n",
      "Optimization restart 2/10, f = 222579278.3498641\n",
      "Optimization restart 3/10, f = 18.446200931661632\n",
      "Optimization restart 4/10, f = 16.36340216385324\n",
      "Optimization restart 5/10, f = 16.363402163802302\n",
      "Optimization restart 6/10, f = 18.446200931660947\n",
      "Optimization restart 7/10, f = 18.446200931660744\n",
      "Optimization restart 8/10, f = 18.446200931660744\n",
      "Optimization restart 9/10, f = 18.446200931660773\n"
     ]
    },
    {
     "name": "stderr",
     "output_type": "stream",
     "text": [
      "reconstraining parameters GP_regression.Mat52.lengthscale\n",
      "reconstraining parameters GP_regression.Mat52.variance\n",
      "reconstraining parameters GP_regression.Gaussian_noise.variance\n"
     ]
    },
    {
     "name": "stdout",
     "output_type": "stream",
     "text": [
      "Optimization restart 10/10, f = 16.363402163792692\n",
      "Optimization restart 1/10, f = 14.690057769611851\n",
      "Optimization restart 2/10, f = 14.69005776961159\n",
      "Optimization restart 3/10, f = 14.690057769611489\n",
      "Optimization restart 4/10, f = 18.445792345132734\n",
      "Optimization restart 5/10, f = 18.446200931660776\n",
      "Optimization restart 6/10, f = 14.690057769613091\n",
      "Optimization restart 7/10, f = 37.93069287916969\n",
      "Optimization restart 8/10, f = 18.446200931660748\n",
      "Optimization restart 9/10, f = 14.690057769612245\n",
      "Optimization restart 10/10, f = 14.690057769612704\n",
      "(4_w,9)-aCMA-ES (mu_w=2.8,w_1=49%) in dimension 6 (seed=618217, Sun Apr 10 00:39:50 2022)\n",
      "Iterat #Fevals   function value  axis ratio  sigma  min&max std  t[m:s]\n",
      "    1      9 -4.061119576023405e-01 1.0e+00 2.49e-01  2e-01  3e-01 0:00.0\n",
      "    2     18 -4.284671181041968e-01 1.3e+00 2.92e-01  3e-01  4e-01 0:00.0\n",
      "    3     27 -4.384489432435456e-01 1.7e+00 3.24e-01  3e-01  4e-01 0:00.1\n",
      "  100    900 -4.689309288657142e-01 1.2e+02 6.55e-03  8e-04  4e-03 0:01.2\n",
      "  200   1800 -4.689315440086936e-01 1.6e+04 1.49e-04  7e-06  5e-05 0:02.2\n",
      "  233   2097 -4.689315440249640e-01 1.1e+05 4.37e-05  2e-06  1e-05 0:02.6\n"
     ]
    },
    {
     "name": "stderr",
     "output_type": "stream",
     "text": [
      "reconstraining parameters GP_regression.Mat52.lengthscale\n",
      "reconstraining parameters GP_regression.Mat52.variance\n",
      "reconstraining parameters GP_regression.Gaussian_noise.variance\n"
     ]
    },
    {
     "name": "stdout",
     "output_type": "stream",
     "text": [
      "termination on tolfun=1e-11 (Sun Apr 10 00:39:53 2022)\n",
      "final/bestever f-value = -4.689315e-01 -4.689315e-01\n",
      "incumbent solution: [1.4734779144507568, 3.999999999999474, 3.1794813666611903, 3.403072118695289, 3.457226306318694, 4.200539664212744]\n",
      "std deviation: [1.5646704942056214e-06, 3.423364539152095e-06, 4.899143891986484e-06, 5.949252775356894e-06, 6.599546713222669e-06, 1.1529151709807115e-05]\n",
      "Optimization restart 1/10, f = 16.104907756835228\n",
      "Optimization restart 2/10, f = 16.10490775684092\n",
      "Optimization restart 3/10, f = 16.10490775683927\n",
      "Optimization restart 4/10, f = 16.104907756834237\n",
      "Optimization restart 5/10, f = 16.104907756835882\n",
      "Optimization restart 6/10, f = 93.4556877196577\n",
      "Optimization restart 7/10, f = 16.104907756834223\n",
      "Optimization restart 8/10, f = 19.86513946486542\n"
     ]
    },
    {
     "name": "stderr",
     "output_type": "stream",
     "text": [
      "reconstraining parameters GP_regression.Mat52.lengthscale\n",
      "reconstraining parameters GP_regression.Mat52.variance\n",
      "reconstraining parameters GP_regression.Gaussian_noise.variance\n"
     ]
    },
    {
     "name": "stdout",
     "output_type": "stream",
     "text": [
      "Optimization restart 9/10, f = 16.104907756836926\n",
      "Optimization restart 10/10, f = 16.10490775683656\n",
      "Optimization restart 1/10, f = 15.84366141182933\n",
      "Optimization restart 2/10, f = 15.843661411829324\n",
      "Optimization restart 3/10, f = 15.843661411829473\n",
      "Optimization restart 4/10, f = 15.843661411829306\n",
      "Optimization restart 5/10, f = 19.865139464865415\n",
      "Optimization restart 6/10, f = 19.86513946486542\n",
      "Optimization restart 7/10, f = 93.4556877196577\n",
      "Optimization restart 8/10, f = 15.843661411829299\n",
      "Optimization restart 9/10, f = 15.843661411834542\n",
      "Optimization restart 10/10, f = 170162802.1588885\n",
      "(4_w,9)-aCMA-ES (mu_w=2.8,w_1=49%) in dimension 6 (seed=687064, Sun Apr 10 00:39:54 2022)\n",
      "Iterat #Fevals   function value  axis ratio  sigma  min&max std  t[m:s]\n",
      "    1      9 -4.051474823555150e-01 1.0e+00 2.49e-01  2e-01  3e-01 0:00.0\n",
      "    2     18 -4.117785896874948e-01 1.3e+00 2.59e-01  2e-01  3e-01 0:00.0\n",
      "    3     27 -4.147551246762012e-01 1.4e+00 2.80e-01  3e-01  3e-01 0:00.1\n",
      "  100    900 -4.807263339069359e-01 4.6e+01 1.64e-01  1e-02  1e-01 0:01.1\n",
      "  200   1800 -4.807813249133446e-01 1.5e+02 2.46e-02  3e-04  4e-03 0:02.4\n",
      "  300   2700 -4.807823053736835e-01 5.9e+02 1.77e-02  7e-05  8e-04 0:03.7\n",
      "  400   3600 -4.807823222248545e-01 7.4e+03 8.36e-04  1e-06  1e-05 0:05.4\n",
      "  421   3789 -4.807823222272916e-01 2.2e+04 5.33e-04  7e-07  8e-06 0:05.6\n"
     ]
    },
    {
     "name": "stderr",
     "output_type": "stream",
     "text": [
      "reconstraining parameters GP_regression.Mat52.lengthscale\n",
      "reconstraining parameters GP_regression.Mat52.variance\n",
      "reconstraining parameters GP_regression.Gaussian_noise.variance\n"
     ]
    },
    {
     "name": "stdout",
     "output_type": "stream",
     "text": [
      "termination on tolfun=1e-11 (Sun Apr 10 00:40:00 2022)\n",
      "final/bestever f-value = -4.807823e-01 -4.807823e-01\n",
      "incumbent solution: [1.3618814510385386, 3.9999999994973297, 3.2015676628633742, 4.297022474817272, 4.8377389330039815, 3.9317354180958928]\n",
      "std deviation: [7.354321651918926e-07, 5.072748699762118e-06, 3.2962961225097565e-06, 3.7439472755421645e-06, 4.54096313238874e-06, 7.5734022767591545e-06]\n",
      "Optimization restart 1/10, f = 16.898193935105816\n",
      "Optimization restart 2/10, f = 16.89819393510599\n",
      "Optimization restart 3/10, f = 100.13109398534753\n",
      "Optimization restart 4/10, f = 261651522.61602274\n",
      "Optimization restart 5/10, f = 16.89819393511351\n",
      "Optimization restart 6/10, f = 16.898193935139474\n",
      "Optimization restart 7/10, f = 16.898193935105866\n",
      "Optimization restart 8/10, f = 262085556.1341794\n",
      "Optimization restart 9/10, f = 100.13109398534753\n"
     ]
    },
    {
     "name": "stderr",
     "output_type": "stream",
     "text": [
      "reconstraining parameters GP_regression.Mat52.lengthscale\n",
      "reconstraining parameters GP_regression.Mat52.variance\n",
      "reconstraining parameters GP_regression.Gaussian_noise.variance\n"
     ]
    },
    {
     "name": "stdout",
     "output_type": "stream",
     "text": [
      "Optimization restart 10/10, f = 16.898193935105873\n",
      "Optimization restart 1/10, f = 15.735430213993203\n",
      "Optimization restart 2/10, f = 15.735430213994848\n",
      "Optimization restart 3/10, f = 37.24065541850263\n",
      "Optimization restart 4/10, f = 21.28407799807046\n",
      "Optimization restart 5/10, f = 15.735430213993212\n",
      "Optimization restart 6/10, f = 15.735430213993421\n",
      "Optimization restart 7/10, f = 21.284077998070092\n",
      "Optimization restart 8/10, f = 199544231.2809059\n",
      "Optimization restart 9/10, f = 15.735430213993201\n",
      "Optimization restart 10/10, f = 37.240582763704715\n",
      "(4_w,9)-aCMA-ES (mu_w=2.8,w_1=49%) in dimension 6 (seed=727951, Sun Apr 10 00:40:01 2022)\n",
      "Iterat #Fevals   function value  axis ratio  sigma  min&max std  t[m:s]\n",
      "    1      9 -4.068624761645091e-01 1.0e+00 2.46e-01  2e-01  3e-01 0:00.0\n",
      "    2     18 -4.077770965277897e-01 1.3e+00 2.70e-01  3e-01  3e-01 0:00.0\n",
      "    3     27 -4.108999167737449e-01 1.6e+00 2.96e-01  3e-01  3e-01 0:00.0\n",
      "  100    900 -4.754689438456070e-01 5.4e+01 1.39e-01  2e-02  1e-01 0:01.1\n",
      "  200   1800 -4.763083505777712e-01 1.1e+02 1.03e-01  3e-03  2e-02 0:02.1\n",
      "  300   2700 -4.763140289431917e-01 2.1e+03 6.45e-04  6e-06  4e-05 0:03.3\n",
      "  345   3105 -4.763140289601913e-01 1.9e+04 7.34e-05  4e-07  3e-06 0:04.0\n"
     ]
    },
    {
     "name": "stderr",
     "output_type": "stream",
     "text": [
      "reconstraining parameters GP_regression.Mat52.lengthscale\n",
      "reconstraining parameters GP_regression.Mat52.variance\n",
      "reconstraining parameters GP_regression.Gaussian_noise.variance\n"
     ]
    },
    {
     "name": "stdout",
     "output_type": "stream",
     "text": [
      "termination on tolfun=1e-11 (Sun Apr 10 00:40:06 2022)\n",
      "final/bestever f-value = -4.763140e-01 -4.763140e-01\n",
      "incumbent solution: [1.2828992107149688, 3.812578816015984, 3.4176994880206424, 3.6403358820315557, 4.623425197329635, 4.474204817386313]\n",
      "std deviation: [4.336863152991834e-07, 5.840707610545447e-07, 1.8574765077443973e-06, 2.0045258865967056e-06, 2.7951805725260064e-06, 2.4301466199147812e-06]\n",
      "Optimization restart 1/10, f = 17.7422941849575\n",
      "Optimization restart 2/10, f = 40.45831414130006\n",
      "Optimization restart 3/10, f = 22.703016531276383\n",
      "Optimization restart 4/10, f = 22.703016531274763\n",
      "Optimization restart 5/10, f = 106.80650025103739\n",
      "Optimization restart 6/10, f = 17.74229418495731\n",
      "Optimization restart 7/10, f = 17.74229418495731\n",
      "Optimization restart 8/10, f = 17.742294184958205\n",
      "Optimization restart 9/10, f = 38.04354552642967\n"
     ]
    },
    {
     "name": "stderr",
     "output_type": "stream",
     "text": [
      "reconstraining parameters GP_regression.Mat52.lengthscale\n",
      "reconstraining parameters GP_regression.Mat52.variance\n",
      "reconstraining parameters GP_regression.Gaussian_noise.variance\n"
     ]
    },
    {
     "name": "stdout",
     "output_type": "stream",
     "text": [
      "Optimization restart 10/10, f = 17.742294184957657\n",
      "Optimization restart 1/10, f = 15.151844580443544\n",
      "Optimization restart 2/10, f = 22.703016531274876\n",
      "Optimization restart 3/10, f = 106.80645314773192\n",
      "Optimization restart 4/10, f = 106.80650025103739\n",
      "Optimization restart 5/10, f = 22.703016531274763\n",
      "Optimization restart 6/10, f = 22.703016531272613\n",
      "Optimization restart 7/10, f = 106.80650025103739\n",
      "Optimization restart 8/10, f = 15.151844580443237\n",
      "Optimization restart 9/10, f = 22.70301653127849\n",
      "Optimization restart 10/10, f = 15.151844580449765\n",
      "(4_w,9)-aCMA-ES (mu_w=2.8,w_1=49%) in dimension 6 (seed=672221, Sun Apr 10 00:40:08 2022)\n",
      "Iterat #Fevals   function value  axis ratio  sigma  min&max std  t[m:s]\n",
      "    1      9 -4.184990488778341e-01 1.0e+00 2.71e-01  3e-01  3e-01 0:00.0\n",
      "    2     18 -4.208379272802313e-01 1.4e+00 3.18e-01  3e-01  4e-01 0:00.1\n",
      "    3     27 -4.258694373977758e-01 1.6e+00 3.89e-01  3e-01  5e-01 0:00.1\n",
      "  100    900 -4.840505332834348e-01 4.5e+01 5.11e-02  8e-03  5e-02 0:01.3\n",
      "  200   1800 -4.840593044658199e-01 2.2e+02 2.61e-04  8e-06  4e-05 0:02.4\n",
      "  250   2250 -4.840593044924906e-01 1.9e+03 7.41e-05  2e-06  9e-06 0:03.0\n"
     ]
    },
    {
     "name": "stderr",
     "output_type": "stream",
     "text": [
      "reconstraining parameters GP_regression.Mat52.lengthscale\n",
      "reconstraining parameters GP_regression.Mat52.variance\n",
      "reconstraining parameters GP_regression.Gaussian_noise.variance\n"
     ]
    },
    {
     "name": "stdout",
     "output_type": "stream",
     "text": [
      "termination on tolfun=1e-11 (Sun Apr 10 00:40:11 2022)\n",
      "final/bestever f-value = -4.840593e-01 -4.840593e-01\n",
      "incumbent solution: [1.6073055967436003, 3.966214134136256, 2.4446088130168944, 4.879262790725131, 4.150114257070554, 3.961412351117441]\n",
      "std deviation: [1.539200334850224e-06, 4.735877528741645e-06, 4.510076093965028e-06, 4.6634169321903945e-06, 6.621505600242103e-06, 8.601582845351278e-06]\n",
      "Optimization restart 1/10, f = 18.5257702697646\n",
      "Optimization restart 2/10, f = 24.121955064479444\n",
      "Optimization restart 3/10, f = 18.525770269755505\n",
      "Optimization restart 4/10, f = 24.121955064479437\n",
      "Optimization restart 5/10, f = 18.525770269759466\n",
      "Optimization restart 6/10, f = 18.52577026976244\n",
      "Optimization restart 7/10, f = 18.525770269757878\n",
      "Optimization restart 8/10, f = 24.121955064479437\n"
     ]
    },
    {
     "name": "stderr",
     "output_type": "stream",
     "text": [
      "reconstraining parameters GP_regression.Mat52.lengthscale\n",
      "reconstraining parameters GP_regression.Mat52.variance\n",
      "reconstraining parameters GP_regression.Gaussian_noise.variance\n"
     ]
    },
    {
     "name": "stdout",
     "output_type": "stream",
     "text": [
      "Optimization restart 9/10, f = 24.121955064479522\n",
      "Optimization restart 10/10, f = 42.37888025194151\n",
      "Optimization restart 1/10, f = 14.992010932533306\n",
      "Optimization restart 2/10, f = 14.992010932428311\n",
      "Optimization restart 3/10, f = 14.992010932429405\n",
      "Optimization restart 4/10, f = 221401680.1170192\n",
      "Optimization restart 5/10, f = 14.992010932428322\n",
      "Optimization restart 6/10, f = 35.53334632746908\n",
      "Optimization restart 7/10, f = 14.992010932428252\n",
      "Optimization restart 8/10, f = 24.121955064479515\n",
      "Optimization restart 9/10, f = 24.12195506447944\n",
      "Optimization restart 10/10, f = 113.48190651672722\n",
      "(4_w,9)-aCMA-ES (mu_w=2.8,w_1=49%) in dimension 6 (seed=641445, Sun Apr 10 00:40:14 2022)\n",
      "Iterat #Fevals   function value  axis ratio  sigma  min&max std  t[m:s]\n",
      "    1      9 -3.939412818889904e-01 1.0e+00 2.56e-01  2e-01  3e-01 0:00.0\n",
      "    2     18 -3.932597006358427e-01 1.4e+00 2.90e-01  3e-01  3e-01 0:00.0\n",
      "    3     27 -3.943087063049801e-01 1.5e+00 3.26e-01  3e-01  4e-01 0:00.1\n",
      "  100    900 -4.785976424480919e-01 4.6e+01 1.65e-01  3e-02  1e-01 0:01.1\n",
      "  200   1800 -4.787446773539427e-01 1.1e+03 1.52e-03  5e-05  4e-04 0:02.2\n",
      "  278   2502 -4.787446782271616e-01 5.7e+04 4.63e-05  9e-07  6e-06 0:03.0\n"
     ]
    },
    {
     "name": "stderr",
     "output_type": "stream",
     "text": [
      "reconstraining parameters GP_regression.Mat52.lengthscale\n",
      "reconstraining parameters GP_regression.Mat52.variance\n",
      "reconstraining parameters GP_regression.Gaussian_noise.variance\n"
     ]
    },
    {
     "name": "stdout",
     "output_type": "stream",
     "text": [
      "termination on tolfun=1e-11 (Sun Apr 10 00:40:17 2022)\n",
      "final/bestever f-value = -4.787447e-01 -4.787447e-01\n",
      "incumbent solution: [1.3650374969888017, 3.599789499086154, 3.4488454942654228, 4.519880112366412, 4.204136869468539, 2.5260639825559075]\n",
      "std deviation: [1.0844029830597915e-06, 9.005777942512624e-07, 2.409287824339935e-06, 5.074778834240207e-06, 5.7352077378110994e-06, 5.586940189379776e-06]\n",
      "Optimization restart 1/10, f = 19.04099169465211\n",
      "Optimization restart 2/10, f = 19.040991694681885\n",
      "Optimization restart 3/10, f = 19.0409916946503\n",
      "Optimization restart 4/10, f = 19.040991694650298\n",
      "Optimization restart 5/10, f = 19.040991694876052\n",
      "Optimization restart 6/10, f = 19.04099169465176\n",
      "Optimization restart 7/10, f = 19.0409916946503\n",
      "Optimization restart 8/10, f = 338582316.51699674\n"
     ]
    },
    {
     "name": "stderr",
     "output_type": "stream",
     "text": [
      "reconstraining parameters GP_regression.Mat52.lengthscale\n"
     ]
    },
    {
     "name": "stdout",
     "output_type": "stream",
     "text": [
      "Optimization restart 9/10, f = 120.15731278241705\n",
      "Optimization restart 10/10, f = 25.540893597684114\n"
     ]
    },
    {
     "name": "stderr",
     "output_type": "stream",
     "text": [
      "reconstraining parameters GP_regression.Mat52.variance\n",
      "reconstraining parameters GP_regression.Gaussian_noise.variance\n"
     ]
    },
    {
     "name": "stdout",
     "output_type": "stream",
     "text": [
      "Optimization restart 1/10, f = 16.035105966133187\n",
      "Optimization restart 2/10, f = 16.035105966132924\n",
      "Optimization restart 3/10, f = 16.035105966133\n",
      "Optimization restart 4/10, f = 16.035105966132797\n",
      "Optimization restart 5/10, f = 16.035105966132704\n",
      "Optimization restart 6/10, f = 120.15731278241705\n",
      "Optimization restart 7/10, f = 120.15731278241705\n",
      "Optimization restart 8/10, f = 234392202.77070418\n",
      "Optimization restart 9/10, f = 25.540893597684118\n",
      "Optimization restart 10/10, f = 16.035105966147526\n",
      "(4_w,9)-aCMA-ES (mu_w=2.8,w_1=49%) in dimension 6 (seed=677208, Sun Apr 10 00:40:20 2022)\n",
      "Iterat #Fevals   function value  axis ratio  sigma  min&max std  t[m:s]\n",
      "    1      9 -4.000214308146559e-01 1.0e+00 2.53e-01  2e-01  3e-01 0:00.0\n",
      "    2     18 -4.050897097336997e-01 1.3e+00 2.77e-01  2e-01  3e-01 0:00.0\n",
      "    3     27 -4.107086930597803e-01 1.6e+00 3.21e-01  3e-01  5e-01 0:00.1\n",
      "  100    900 -4.801937182443913e-01 1.0e+02 2.68e-02  4e-03  2e-02 0:01.1\n",
      "  200   1800 -4.801969606538572e-01 4.7e+03 1.12e-04  5e-06  5e-05 0:02.6\n",
      "  250   2250 -4.801969606917071e-01 5.0e+04 3.29e-05  8e-07  9e-06 0:03.1\n"
     ]
    },
    {
     "name": "stderr",
     "output_type": "stream",
     "text": [
      "reconstraining parameters GP_regression.Mat52.lengthscale\n",
      "reconstraining parameters GP_regression.Mat52.variance\n",
      "reconstraining parameters GP_regression.Gaussian_noise.variance\n"
     ]
    },
    {
     "name": "stdout",
     "output_type": "stream",
     "text": [
      "termination on tolfun=1e-11 (Sun Apr 10 00:40:24 2022)\n",
      "final/bestever f-value = -4.801970e-01 -4.801970e-01\n",
      "incumbent solution: [1.324978135744493, 3.8390175281304186, 2.3855658478684383, 4.071028757872205, 5.253107280631321, 5.163597833681803]\n",
      "std deviation: [1.190688756780198e-06, 7.695720648104305e-07, 1.8301819552429046e-06, 4.881002840305498e-06, 8.769468242232679e-06, 6.699498303996444e-06]\n",
      "Optimization restart 1/10, f = 19.46411759009839\n",
      "Optimization restart 2/10, f = 126.8327190481069\n",
      "Optimization restart 3/10, f = 19.464117590120246\n",
      "Optimization restart 4/10, f = 19.464117590098876\n",
      "Optimization restart 5/10, f = 26.959832130888785\n",
      "Optimization restart 6/10, f = 19.46411759009831\n",
      "Optimization restart 7/10, f = 26.95983213089322\n",
      "Optimization restart 8/10, f = 126.8327190481069\n"
     ]
    },
    {
     "name": "stderr",
     "output_type": "stream",
     "text": [
      "reconstraining parameters GP_regression.Mat52.lengthscale\n",
      "reconstraining parameters GP_regression.Mat52.variance\n",
      "reconstraining parameters GP_regression.Gaussian_noise.variance\n"
     ]
    },
    {
     "name": "stdout",
     "output_type": "stream",
     "text": [
      "Optimization restart 9/10, f = 19.464117590098624\n",
      "Optimization restart 10/10, f = 19.46411759009934\n",
      "Optimization restart 1/10, f = 15.652216471247916\n",
      "Optimization restart 2/10, f = 15.652216471247709\n",
      "Optimization restart 3/10, f = 262398724.5767792\n",
      "Optimization restart 4/10, f = 15.652216471260633\n",
      "Optimization restart 5/10, f = 15.652216471247696\n",
      "Optimization restart 6/10, f = 26.95983213088878\n",
      "Optimization restart 7/10, f = 15.652216471247863\n",
      "Optimization restart 8/10, f = 948959.0455864146\n",
      "Optimization restart 9/10, f = 15.652216471291942\n",
      "Optimization restart 10/10, f = 262303349.47721905\n",
      "(4_w,9)-aCMA-ES (mu_w=2.8,w_1=49%) in dimension 6 (seed=635344, Sun Apr 10 00:40:26 2022)\n",
      "Iterat #Fevals   function value  axis ratio  sigma  min&max std  t[m:s]\n",
      "    1      9 -3.833059365451852e-01 1.0e+00 2.72e-01  3e-01  3e-01 0:00.0\n",
      "    2     18 -4.011750106629763e-01 1.3e+00 2.66e-01  3e-01  3e-01 0:00.0\n",
      "    3     27 -4.075158266604088e-01 1.4e+00 2.92e-01  3e-01  3e-01 0:00.1\n",
      "  100    900 -4.713760641715026e-01 2.1e+01 3.03e-01  3e-02  2e-01 0:01.4\n",
      "  200   1800 -4.724727274100705e-01 7.5e+01 8.97e-03  2e-04  2e-03 0:02.8\n",
      "  300   2700 -4.724727701357569e-01 1.3e+04 8.68e-05  1e-06  7e-06 0:04.8\n",
      "  313   2817 -4.724727701374420e-01 3.7e+04 5.35e-05  7e-07  4e-06 0:04.9\n"
     ]
    },
    {
     "name": "stderr",
     "output_type": "stream",
     "text": [
      "reconstraining parameters GP_regression.Mat52.lengthscale\n"
     ]
    },
    {
     "name": "stdout",
     "output_type": "stream",
     "text": [
      "termination on tolfun=1e-11 (Sun Apr 10 00:40:32 2022)\n",
      "final/bestever f-value = -4.724728e-01 -4.724728e-01\n",
      "incumbent solution: [1.454234765525053, 3.755693641558086, 2.7472559214786982, 3.534468531683642, 4.089197567709204, 5.02999224287098]\n",
      "std deviation: [7.125620379321399e-07, 6.919608584147198e-07, 1.6281792652627862e-06, 2.9532166496776506e-06, 4.455342166549576e-06, 3.7271143797830977e-06]\n"
     ]
    },
    {
     "name": "stderr",
     "output_type": "stream",
     "text": [
      "reconstraining parameters GP_regression.Mat52.variance\n",
      "reconstraining parameters GP_regression.Gaussian_noise.variance\n"
     ]
    },
    {
     "name": "stdout",
     "output_type": "stream",
     "text": [
      "Optimization restart 1/10, f = 21.079481012476155\n",
      "Optimization restart 2/10, f = 133.50812531379674\n",
      "Optimization restart 3/10, f = 390981650.67386854\n",
      "Optimization restart 4/10, f = 133.50812531379674\n",
      "Optimization restart 5/10, f = 21.079481012509504\n",
      "Optimization restart 6/10, f = 28.37877066409346\n",
      "Optimization restart 7/10, f = 21.079481012476112\n",
      "Optimization restart 8/10, f = 133.50812531379674\n",
      "Optimization restart 9/10, f = 21.07948101248282\n"
     ]
    },
    {
     "name": "stderr",
     "output_type": "stream",
     "text": [
      "reconstraining parameters GP_regression.Mat52.lengthscale\n"
     ]
    },
    {
     "name": "stdout",
     "output_type": "stream",
     "text": [
      "Optimization restart 10/10, f = 28.37877066409345\n"
     ]
    },
    {
     "name": "stderr",
     "output_type": "stream",
     "text": [
      "reconstraining parameters GP_regression.Mat52.variance\n",
      "reconstraining parameters GP_regression.Gaussian_noise.variance\n"
     ]
    },
    {
     "name": "stdout",
     "output_type": "stream",
     "text": [
      "Optimization restart 1/10, f = 14.33540127061099\n",
      "Optimization restart 2/10, f = 14.335401270589328\n",
      "Optimization restart 3/10, f = 34.37597974746039\n",
      "Optimization restart 4/10, f = 34.375676118844886\n",
      "Optimization restart 5/10, f = 14.335401270589225\n",
      "Optimization restart 6/10, f = 133.50812531379674\n",
      "Optimization restart 7/10, f = 14.335401270595703\n",
      "Optimization restart 8/10, f = 14.335401270588964\n",
      "Optimization restart 9/10, f = 28.378770664093455\n",
      "Optimization restart 10/10, f = 14.33540127058917\n",
      "(4_w,9)-aCMA-ES (mu_w=2.8,w_1=49%) in dimension 6 (seed=649028, Sun Apr 10 00:40:34 2022)\n",
      "Iterat #Fevals   function value  axis ratio  sigma  min&max std  t[m:s]\n",
      "    1      9 -4.129165331702265e-01 1.0e+00 2.62e-01  3e-01  3e-01 0:00.0\n",
      "    2     18 -4.108122288322336e-01 1.3e+00 2.71e-01  3e-01  3e-01 0:00.0\n",
      "    3     27 -4.209816697694112e-01 1.5e+00 3.41e-01  3e-01  4e-01 0:00.0\n",
      "  100    900 -4.920196316280239e-01 7.9e+00 4.43e-04  2e-05  1e-04 0:01.1\n",
      "  146   1314 -4.920196317429267e-01 5.8e+00 6.97e-06  1e-07  6e-07 0:01.6\n"
     ]
    },
    {
     "name": "stderr",
     "output_type": "stream",
     "text": [
      "reconstraining parameters GP_regression.Mat52.lengthscale\n",
      "reconstraining parameters GP_regression.Mat52.variance\n",
      "reconstraining parameters GP_regression.Gaussian_noise.variance\n"
     ]
    },
    {
     "name": "stdout",
     "output_type": "stream",
     "text": [
      "termination on tolfun=1e-11 (Sun Apr 10 00:40:36 2022)\n",
      "final/bestever f-value = -4.920196e-01 -4.920196e-01\n",
      "incumbent solution: [1.7170048129989068, 3.9999999999999516, 2.466258715172797, 2.888029219560153, 4.451105653841409, 6.063166103637106]\n",
      "std deviation: [1.20914934032661e-07, 5.248138564409717e-07, 2.591001227469561e-07, 3.7115599785985526e-07, 4.647224597271183e-07, 6.469499080144645e-07]\n",
      "Optimization restart 1/10, f = 21.93028046228921\n",
      "Optimization restart 2/10, f = 21.930280462210753\n",
      "Optimization restart 3/10, f = 29.797709197298126\n",
      "Optimization restart 4/10, f = 29.79770919729865\n",
      "Optimization restart 5/10, f = 29.797709197298126\n",
      "Optimization restart 6/10, f = 140.18352549861567\n"
     ]
    },
    {
     "name": "stderr",
     "output_type": "stream",
     "text": [
      "reconstraining parameters GP_regression.Mat52.lengthscale\n",
      "reconstraining parameters GP_regression.Mat52.variance\n",
      "reconstraining parameters GP_regression.Gaussian_noise.variance\n"
     ]
    },
    {
     "name": "stdout",
     "output_type": "stream",
     "text": [
      "Optimization restart 7/10, f = 21.930280462210767\n",
      "Optimization restart 8/10, f = 29.797709197298126\n",
      "Optimization restart 9/10, f = 21.930280462210717\n",
      "Optimization restart 10/10, f = 409783849.57591087\n",
      "Optimization restart 1/10, f = 15.236776539183097\n",
      "Optimization restart 2/10, f = 15.236776539182948\n",
      "Optimization restart 3/10, f = 15.236776539182776\n",
      "Optimization restart 4/10, f = 15.236776539308778\n",
      "Optimization restart 5/10, f = 15.236776539182827\n",
      "Optimization restart 6/10, f = 15.236776539183243\n",
      "Optimization restart 7/10, f = 29.797709197298133\n",
      "Optimization restart 8/10, f = 39.49131206725034\n",
      "Optimization restart 9/10, f = 140.18353157948656\n",
      "Optimization restart 10/10, f = 15.236776539186884\n",
      "(4_w,9)-aCMA-ES (mu_w=2.8,w_1=49%) in dimension 6 (seed=685038, Sun Apr 10 00:40:38 2022)\n",
      "Iterat #Fevals   function value  axis ratio  sigma  min&max std  t[m:s]\n",
      "    1      9 -4.035515544244455e-01 1.0e+00 2.45e-01  2e-01  3e-01 0:00.0\n",
      "    2     18 -4.034868127380380e-01 1.3e+00 2.77e-01  2e-01  3e-01 0:00.0\n",
      "    3     27 -4.186165200570111e-01 1.5e+00 3.50e-01  3e-01  4e-01 0:00.1\n",
      "  100    900 -4.809420112889482e-01 2.8e+01 3.34e-03  4e-04  2e-03 0:01.5\n",
      "  200   1800 -4.809420748381063e-01 4.3e+03 6.66e-05  3e-06  2e-05 0:02.6\n",
      "  231   2079 -4.809420748435564e-01 2.1e+04 1.23e-05  5e-07  3e-06 0:02.9\n"
     ]
    },
    {
     "name": "stderr",
     "output_type": "stream",
     "text": [
      "reconstraining parameters GP_regression.Mat52.lengthscale\n",
      "reconstraining parameters GP_regression.Mat52.variance\n",
      "reconstraining parameters GP_regression.Gaussian_noise.variance\n"
     ]
    },
    {
     "name": "stdout",
     "output_type": "stream",
     "text": [
      "termination on tolfun=1e-11 (Sun Apr 10 00:40:42 2022)\n",
      "final/bestever f-value = -4.809421e-01 -4.809421e-01\n",
      "incumbent solution: [1.4591783236685583, 3.987192157405974, 2.433508801991631, 3.4650590834645523, 3.8434355013361383, 5.309925176640748]\n",
      "std deviation: [4.517633517956969e-07, 1.1786259825793134e-06, 1.0557379964133973e-06, 1.4268710673794534e-06, 1.3491752863465157e-06, 3.390933655039005e-06]\n",
      "Optimization restart 1/10, f = 21.723012127483315\n",
      "Optimization restart 2/10, f = 21.723012127251447\n",
      "Optimization restart 3/10, f = 146.8589378451764\n",
      "Optimization restart 4/10, f = 146.8589378451764\n",
      "Optimization restart 5/10, f = 146.8589378451764\n",
      "Optimization restart 6/10, f = 47.21988498675321\n",
      "Optimization restart 7/10, f = 47.21988610283608\n",
      "Optimization restart 8/10, f = 21.72301212725151\n",
      "Optimization restart 9/10, f = 1098794.684363217\n"
     ]
    },
    {
     "name": "stderr",
     "output_type": "stream",
     "text": [
      "reconstraining parameters GP_regression.Mat52.lengthscale\n",
      "reconstraining parameters GP_regression.Mat52.variance\n",
      "reconstraining parameters GP_regression.Gaussian_noise.variance\n"
     ]
    },
    {
     "name": "stdout",
     "output_type": "stream",
     "text": [
      "Optimization restart 10/10, f = 21.723012127251685\n",
      "Optimization restart 1/10, f = 15.195198116339608\n",
      "Optimization restart 2/10, f = 15.195198116350065\n",
      "Optimization restart 3/10, f = 15.195198116340553\n",
      "Optimization restart 4/10, f = 37.77631921886665\n",
      "Optimization restart 5/10, f = 146.8589378451764\n",
      "Optimization restart 6/10, f = 146.8589378451764\n",
      "Optimization restart 7/10, f = 146.8589378451764\n",
      "Optimization restart 8/10, f = 15.195198116357332\n",
      "Optimization restart 9/10, f = 15.195198116339306\n",
      "Optimization restart 10/10, f = 31.2166477305028\n",
      "(4_w,9)-aCMA-ES (mu_w=2.8,w_1=49%) in dimension 6 (seed=646459, Sun Apr 10 00:40:44 2022)\n",
      "Iterat #Fevals   function value  axis ratio  sigma  min&max std  t[m:s]\n",
      "    1      9 -4.067375845851756e-01 1.0e+00 2.49e-01  2e-01  3e-01 0:00.0\n",
      "    2     18 -4.089375075252940e-01 1.3e+00 2.52e-01  2e-01  3e-01 0:00.1\n",
      "    3     27 -4.123058711782304e-01 1.4e+00 2.70e-01  2e-01  3e-01 0:00.1\n",
      "  100    900 -4.790402569000366e-01 2.7e+01 3.89e-02  3e-03  3e-02 0:01.2\n",
      "  200   1800 -4.790529334690622e-01 4.8e+03 2.48e-04  7e-06  7e-05 0:02.2\n",
      "  262   2358 -4.790529336007648e-01 1.3e+05 9.51e-06  2e-07  2e-06 0:02.9\n"
     ]
    },
    {
     "name": "stderr",
     "output_type": "stream",
     "text": [
      "reconstraining parameters GP_regression.Mat52.lengthscale\n",
      "reconstraining parameters GP_regression.Mat52.variance\n",
      "reconstraining parameters GP_regression.Gaussian_noise.variance\n"
     ]
    },
    {
     "name": "stdout",
     "output_type": "stream",
     "text": [
      "termination on tolfun=1e-11 (Sun Apr 10 00:40:48 2022)\n",
      "final/bestever f-value = -4.790529e-01 -4.790529e-01\n",
      "incumbent solution: [1.427989957528827, 3.8356275054412703, 2.2808416786754186, 3.4276014931455596, 3.5957458081550877, 5.571078647777883]\n",
      "std deviation: [2.8866786977930277e-07, 2.436956120763507e-07, 8.380646498346897e-07, 6.674040269989012e-07, 1.1733957135003255e-06, 1.5639804507495625e-06]\n",
      "Optimization restart 1/10, f = 22.16951597544893\n",
      "Optimization restart 2/10, f = 22.169515975448945\n",
      "Optimization restart 3/10, f = 22.16951597545052\n",
      "Optimization restart 4/10, f = 32.635586263707474\n",
      "Optimization restart 5/10, f = 153.53434411086621\n",
      "Optimization restart 6/10, f = 153.53433784303638\n",
      "Optimization restart 7/10, f = 22.169515975470215\n",
      "Optimization restart 8/10, f = 447963246.4902975\n",
      "Optimization restart 9/10, f = 22.169515975449073\n"
     ]
    },
    {
     "name": "stderr",
     "output_type": "stream",
     "text": [
      "reconstraining parameters GP_regression.Mat52.lengthscale\n",
      "reconstraining parameters GP_regression.Mat52.variance\n",
      "reconstraining parameters GP_regression.Gaussian_noise.variance\n"
     ]
    },
    {
     "name": "stdout",
     "output_type": "stream",
     "text": [
      "Optimization restart 10/10, f = 22.169515975449166\n",
      "Optimization restart 1/10, f = 14.712941562137074\n",
      "Optimization restart 2/10, f = 14.71294156203017\n",
      "Optimization restart 3/10, f = 14.712941562034933\n",
      "Optimization restart 4/10, f = 14.712941562031686\n",
      "Optimization restart 5/10, f = 32.63558626370749\n",
      "Optimization restart 6/10, f = 32.63558626370752\n",
      "Optimization restart 7/10, f = 14.712941562031268\n",
      "Optimization restart 8/10, f = 14.712941562031556\n",
      "Optimization restart 9/10, f = 32.635586263707474\n",
      "Optimization restart 10/10, f = 14.712941562031748\n",
      "(4_w,9)-aCMA-ES (mu_w=2.8,w_1=49%) in dimension 6 (seed=664694, Sun Apr 10 00:40:50 2022)\n",
      "Iterat #Fevals   function value  axis ratio  sigma  min&max std  t[m:s]\n",
      "    1      9 -4.033715705848585e-01 1.0e+00 2.42e-01  2e-01  3e-01 0:00.0\n",
      "    2     18 -4.092440364874316e-01 1.3e+00 2.94e-01  3e-01  3e-01 0:00.0\n",
      "    3     27 -4.119196162246143e-01 1.4e+00 3.69e-01  3e-01  4e-01 0:00.1\n",
      "  100    900 -4.796208155324159e-01 1.7e+01 1.13e-02  1e-03  7e-03 0:01.1\n",
      "  200   1800 -4.796291022185317e-01 4.5e+03 1.76e-04  9e-06  6e-05 0:02.6\n",
      "  264   2376 -4.796291024697186e-01 1.1e+05 1.25e-05  4e-07  2e-06 0:03.3\n"
     ]
    },
    {
     "name": "stderr",
     "output_type": "stream",
     "text": [
      "reconstraining parameters GP_regression.Mat52.lengthscale\n",
      "reconstraining parameters GP_regression.Mat52.variance\n",
      "reconstraining parameters GP_regression.Gaussian_noise.variance\n"
     ]
    },
    {
     "name": "stdout",
     "output_type": "stream",
     "text": [
      "termination on tolfun=1e-11 (Sun Apr 10 00:40:54 2022)\n",
      "final/bestever f-value = -4.796291e-01 -4.796291e-01\n",
      "incumbent solution: [1.4929182586226972, 3.8746610426535626, 2.5054920834405867, 3.319386061943716, 4.277105651866245, 4.754634803250373]\n",
      "std deviation: [4.105725168549268e-07, 4.13965962283432e-07, 1.2932143728135895e-06, 1.4057910196879632e-06, 1.3644431255631012e-06, 2.309584315595797e-06]\n",
      "Optimization restart 1/10, f = 21.662557303128274\n",
      "Optimization restart 2/10, f = 21.662557303056357\n",
      "Optimization restart 3/10, f = 21.662557303055337\n",
      "Optimization restart 4/10, f = 34.05452479691223\n",
      "Optimization restart 5/10, f = 21.662557303053905\n",
      "Optimization restart 6/10, f = 34.05452479691215\n",
      "Optimization restart 7/10, f = 34.05452479691215\n",
      "Optimization restart 8/10, f = 160.2097503765561\n",
      "Optimization restart 9/10, f = 21.66255730305395\n"
     ]
    },
    {
     "name": "stderr",
     "output_type": "stream",
     "text": [
      "reconstraining parameters GP_regression.Mat52.lengthscale\n",
      "reconstraining parameters GP_regression.Mat52.variance\n",
      "reconstraining parameters GP_regression.Gaussian_noise.variance\n"
     ]
    },
    {
     "name": "stdout",
     "output_type": "stream",
     "text": [
      "Optimization restart 10/10, f = 21.66255730305789\n",
      "Optimization restart 1/10, f = 13.426202213352697\n",
      "Optimization restart 2/10, f = 13.42620221325769\n",
      "Optimization restart 3/10, f = 13.426202213159401\n",
      "Optimization restart 4/10, f = 34.05452479691215\n",
      "Optimization restart 5/10, f = 13.426202213160657\n",
      "Optimization restart 6/10, f = 302270219.40517294\n",
      "Optimization restart 7/10, f = 160.2097503765561\n",
      "Optimization restart 8/10, f = 13.42620221316268\n",
      "Optimization restart 9/10, f = 34.054524247550724\n",
      "Optimization restart 10/10, f = 13.42620221316691\n",
      "(4_w,9)-aCMA-ES (mu_w=2.8,w_1=49%) in dimension 6 (seed=723098, Sun Apr 10 00:40:56 2022)\n",
      "Iterat #Fevals   function value  axis ratio  sigma  min&max std  t[m:s]\n",
      "    1      9 -4.062220876785652e-01 1.0e+00 2.28e-01  2e-01  2e-01 0:00.0\n",
      "    2     18 -4.072721360332409e-01 1.2e+00 2.41e-01  2e-01  2e-01 0:00.0\n",
      "    3     27 -4.097633633933473e-01 1.4e+00 2.57e-01  2e-01  3e-01 0:00.1\n",
      "  100    900 -4.768909378957038e-01 1.2e+01 8.53e-02  7e-03  5e-02 0:01.1\n",
      "  200   1800 -4.769691520588988e-01 1.2e+03 6.93e-04  2e-05  1e-04 0:02.2\n",
      "  271   2439 -4.769691528265754e-01 6.0e+04 1.85e-05  3e-07  2e-06 0:03.0\n"
     ]
    },
    {
     "name": "stderr",
     "output_type": "stream",
     "text": [
      "reconstraining parameters GP_regression.Mat52.lengthscale\n",
      "reconstraining parameters GP_regression.Mat52.variance\n",
      "reconstraining parameters GP_regression.Gaussian_noise.variance\n"
     ]
    },
    {
     "name": "stdout",
     "output_type": "stream",
     "text": [
      "termination on tolfun=1e-11 (Sun Apr 10 00:41:00 2022)\n",
      "final/bestever f-value = -4.769692e-01 -4.769692e-01\n",
      "incumbent solution: [1.495136454925803, 3.9921098093173684, 2.392447683836246, 3.19426212751025, 4.353960721723335, 4.444933955577829]\n",
      "std deviation: [3.391083799046891e-07, 1.164297297813696e-06, 7.140268624128521e-07, 1.0679300343730986e-06, 1.7481308707505237e-06, 2.153167800236875e-06]\n",
      "Optimization restart 1/10, f = 21.271159745386157\n",
      "Optimization restart 2/10, f = 21.271159745378032\n",
      "Optimization restart 3/10, f = 35.473463330116815\n",
      "Optimization restart 4/10, f = 21.271159745376945\n",
      "Optimization restart 5/10, f = 21.27115974537621\n",
      "Optimization restart 6/10, f = 21.271159745730255\n",
      "Optimization restart 7/10, f = 21.27115974538318\n",
      "Optimization restart 8/10, f = 35.47346333011685\n"
     ]
    },
    {
     "name": "stderr",
     "output_type": "stream",
     "text": [
      "reconstraining parameters GP_regression.Mat52.lengthscale\n",
      "reconstraining parameters GP_regression.Mat52.variance\n",
      "reconstraining parameters GP_regression.Gaussian_noise.variance\n"
     ]
    },
    {
     "name": "stdout",
     "output_type": "stream",
     "text": [
      "Optimization restart 9/10, f = 21.27115974537557\n",
      "Optimization restart 10/10, f = 35.4734633301169\n",
      "Optimization restart 1/10, f = 11.332437587014773\n",
      "Optimization restart 2/10, f = 11.33243758701408\n",
      "Optimization restart 3/10, f = 44.949898184711124\n",
      "Optimization restart 4/10, f = 35.473463330046336\n",
      "Optimization restart 5/10, f = 11.332437587111372\n",
      "Optimization restart 6/10, f = 35.47346333011682\n",
      "Optimization restart 7/10, f = 11.332437587020618\n",
      "Optimization restart 8/10, f = 166.88515664224593\n",
      "Optimization restart 9/10, f = 11.332437587017601\n",
      "Optimization restart 10/10, f = 11.332437587028537\n",
      "(4_w,9)-aCMA-ES (mu_w=2.8,w_1=49%) in dimension 6 (seed=646043, Sun Apr 10 00:41:02 2022)\n",
      "Iterat #Fevals   function value  axis ratio  sigma  min&max std  t[m:s]\n",
      "    1      9 -3.975488269577458e-01 1.0e+00 2.47e-01  2e-01  3e-01 0:00.0\n",
      "    2     18 -4.022971636599101e-01 1.2e+00 2.93e-01  3e-01  3e-01 0:00.0\n",
      "    3     27 -4.102892036993057e-01 1.4e+00 3.45e-01  3e-01  4e-01 0:00.1\n",
      "  100    900 -4.752673370699939e-01 6.7e+00 1.54e-03  8e-05  5e-04 0:01.1\n",
      "  153   1377 -4.752673407336176e-01 8.8e+00 8.43e-06  1e-07  9e-07 0:01.7\n"
     ]
    },
    {
     "name": "stderr",
     "output_type": "stream",
     "text": [
      "reconstraining parameters GP_regression.Mat52.lengthscale\n",
      "reconstraining parameters GP_regression.Mat52.variance\n",
      "reconstraining parameters GP_regression.Gaussian_noise.variance\n"
     ]
    },
    {
     "name": "stdout",
     "output_type": "stream",
     "text": [
      "termination on tolfun=1e-11 (Sun Apr 10 00:41:04 2022)\n",
      "final/bestever f-value = -4.752673e-01 -4.752673e-01\n",
      "incumbent solution: [1.5178187012133346, 3.959223333055536, 2.491420833796865, 3.365228468427487, 4.289543958666789, 4.924402748930445]\n",
      "std deviation: [1.2485411097964574e-07, 9.252358317639227e-07, 2.4814596773560787e-07, 3.4495427615351676e-07, 5.162582382171802e-07, 4.872464776669375e-07]\n",
      "Optimization restart 1/10, f = 19.67240509686994\n",
      "Optimization restart 2/10, f = 36.89239209084267\n",
      "Optimization restart 3/10, f = 173.56056290793578\n",
      "Optimization restart 4/10, f = 19.67240509686947\n",
      "Optimization restart 5/10, f = 173.56056290793578\n",
      "Optimization restart 6/10, f = 19.672405096868864\n",
      "Optimization restart 7/10, f = 19.67240509686959\n",
      "Optimization restart 8/10, f = 36.89240186332148\n",
      "Optimization restart 9/10, f = 57.363074600129835\n"
     ]
    },
    {
     "name": "stderr",
     "output_type": "stream",
     "text": [
      "reconstraining parameters GP_regression.Mat52.lengthscale\n",
      "reconstraining parameters GP_regression.Mat52.variance\n",
      "reconstraining parameters GP_regression.Gaussian_noise.variance\n"
     ]
    },
    {
     "name": "stdout",
     "output_type": "stream",
     "text": [
      "Optimization restart 10/10, f = 36.89240186332164\n",
      "Optimization restart 1/10, f = 8.358458724193257\n",
      "Optimization restart 2/10, f = 8.358458724194008\n",
      "Optimization restart 3/10, f = 8.358458724185944\n",
      "Optimization restart 4/10, f = 8.358458724197773\n",
      "Optimization restart 5/10, f = 36.89240139256733\n",
      "Optimization restart 6/10, f = 8.358458724205752\n",
      "Optimization restart 7/10, f = 8.35845872419817\n",
      "Optimization restart 8/10, f = 36.89239990758701\n",
      "Optimization restart 9/10, f = 8.358458724193035\n",
      "Optimization restart 10/10, f = 8.358458724197416\n",
      "(4_w,9)-aCMA-ES (mu_w=2.8,w_1=49%) in dimension 6 (seed=600826, Sun Apr 10 00:41:08 2022)\n",
      "Iterat #Fevals   function value  axis ratio  sigma  min&max std  t[m:s]\n",
      "    1      9 -4.061418813562481e-01 1.0e+00 2.52e-01  2e-01  3e-01 0:00.0\n",
      "    2     18 -4.081094347524130e-01 1.2e+00 2.40e-01  2e-01  3e-01 0:00.1\n",
      "    3     27 -4.116159791532470e-01 1.4e+00 2.91e-01  3e-01  3e-01 0:00.1\n",
      "  100    900 -4.322128223937978e-01 5.7e+01 4.65e-02  7e-03  5e-02 0:01.6\n",
      "  200   1800 -4.322165960691089e-01 1.0e+03 6.10e-03  4e-04  2e-03 0:02.7\n",
      "  300   2700 -4.322168002405045e-01 1.4e+03 2.89e-02  5e-04  2e-03 0:04.0\n",
      "  400   3600 -4.322172442339309e-01 7.6e+02 1.11e-01  4e-04  2e-03 0:05.4\n",
      "  500   4500 -4.322183988897093e-01 3.9e+02 1.78e+00  1e-03  8e-03 0:06.9\n",
      "  600   5400 -4.322215273215236e-01 2.8e+02 5.87e+00  9e-04  9e-03 0:08.5\n",
      "  700   6300 -4.322341176153607e-01 1.6e+02 7.42e+01  3e-03  2e-02 0:09.7\n",
      "  800   7200 -4.324201575487819e-01 4.1e+01 1.65e+03  2e-02  9e-02 0:11.1\n",
      "  900   8100 -4.637546527915699e-01 3.6e+01 1.35e+04  2e-02  2e-01 0:12.2\n",
      " 1000   9000 -4.776698738307581e-01 3.7e+01 1.11e+03  4e-04  3e-03 0:13.7\n",
      "Iterat #Fevals   function value  axis ratio  sigma  min&max std  t[m:s]\n",
      " 1100   9900 -4.776704543491454e-01 5.0e+03 8.51e+00  1e-06  7e-06 0:15.0\n",
      " 1132  10188 -4.776704543630368e-01 3.5e+04 2.49e+00  4e-07  2e-06 0:15.5\n"
     ]
    },
    {
     "name": "stderr",
     "output_type": "stream",
     "text": [
      "reconstraining parameters GP_regression.Mat52.lengthscale\n",
      "reconstraining parameters GP_regression.Mat52.variance\n",
      "reconstraining parameters GP_regression.Gaussian_noise.variance\n"
     ]
    },
    {
     "name": "stdout",
     "output_type": "stream",
     "text": [
      "termination on tolfun=1e-11 (Sun Apr 10 00:41:25 2022)\n",
      "final/bestever f-value = -4.776705e-01 -4.776705e-01\n",
      "incumbent solution: [1.569476228279694, 3.9584586484991338, 2.4993129863318515, 3.4663190416745437, 4.415067161049868, 4.975855652389319]\n",
      "std deviation: [3.535839370444245e-07, 4.982982486554748e-07, 8.518607514865327e-07, 1.2468393500754567e-06, 1.9264999281178234e-06, 1.3175556301555268e-06]\n",
      "Optimization restart 1/10, f = 19.05283976913477\n",
      "Optimization restart 2/10, f = 19.052839769158787\n",
      "Optimization restart 3/10, f = 19.05283976913516\n",
      "Optimization restart 4/10, f = 38.31134039652739\n",
      "Optimization restart 5/10, f = 38.31134039652616\n",
      "Optimization restart 6/10, f = 19.052839769133428\n",
      "Optimization restart 7/10, f = 38.31134039652616\n",
      "Optimization restart 8/10, f = 180.23596917362562\n",
      "Optimization restart 9/10, f = 531841675.6281458\n"
     ]
    },
    {
     "name": "stderr",
     "output_type": "stream",
     "text": [
      "reconstraining parameters GP_regression.Mat52.lengthscale\n",
      "reconstraining parameters GP_regression.Mat52.variance\n",
      "reconstraining parameters GP_regression.Gaussian_noise.variance\n"
     ]
    },
    {
     "name": "stdout",
     "output_type": "stream",
     "text": [
      "Optimization restart 10/10, f = 180.23596917362562\n",
      "Optimization restart 1/10, f = 8.208637714255527\n",
      "Optimization restart 2/10, f = 38.31134039652713\n",
      "Optimization restart 3/10, f = 38.31134039652616\n",
      "Optimization restart 4/10, f = 8.208637714236641\n",
      "Optimization restart 5/10, f = 8.20863771422772\n",
      "Optimization restart 6/10, f = 43.98672828859391\n",
      "Optimization restart 7/10, f = 43.98673444674809\n",
      "Optimization restart 8/10, f = 8.208637714251932\n",
      "Optimization restart 9/10, f = 8.20863771424824\n",
      "Optimization restart 10/10, f = 8.208637714242332\n",
      "(4_w,9)-aCMA-ES (mu_w=2.8,w_1=49%) in dimension 6 (seed=676354, Sun Apr 10 00:41:30 2022)\n",
      "Iterat #Fevals   function value  axis ratio  sigma  min&max std  t[m:s]\n",
      "    1      9 -3.938451370583243e-01 1.0e+00 2.23e-01  2e-01  2e-01 0:00.0\n",
      "    2     18 -3.962401326696464e-01 1.2e+00 2.22e-01  2e-01  2e-01 0:00.1\n",
      "    3     27 -3.990054998405791e-01 1.3e+00 2.05e-01  2e-01  2e-01 0:00.1\n",
      "   77    693 -4.244920900748909e-01 3.9e+01 7.54e-02  1e-02  8e-02 0:03.2\n",
      "  100    900 -4.245079817499801e-01 1.1e+02 3.86e-02  6e-03  4e-02 0:04.4\n",
      "  200   1800 -4.245116981735258e-01 1.5e+04 3.78e-04  2e-05  2e-04 0:08.4\n",
      "  279   2511 -4.245116985772506e-01 2.1e+05 8.28e-05  2e-06  2e-05 0:10.3\n"
     ]
    },
    {
     "name": "stderr",
     "output_type": "stream",
     "text": [
      "reconstraining parameters GP_regression.Mat52.lengthscale\n",
      "reconstraining parameters GP_regression.Mat52.variance\n",
      "reconstraining parameters GP_regression.Gaussian_noise.variance\n"
     ]
    },
    {
     "name": "stdout",
     "output_type": "stream",
     "text": [
      "termination on tolfun=1e-11 (Sun Apr 10 00:41:42 2022)\n",
      "final/bestever f-value = -4.245117e-01 -4.245117e-01\n",
      "incumbent solution: [0.18499163718336148, 3.7737573754074942, 4.718184946256117e-13, 6.678807257905525, 6.216916481998143, 5.957195735126346]\n",
      "std deviation: [2.0494317505839276e-06, 1.91382657617918e-06, 7.3937923359702535e-06, 8.204791234485803e-06, 1.3653499220366919e-05, 1.762001600347234e-05]\n",
      "Optimization restart 1/10, f = 20.45950443274175\n",
      "Optimization restart 2/10, f = 20.459504432740196\n",
      "Optimization restart 3/10, f = 62.471147704013994\n",
      "Optimization restart 4/10, f = 20.459504432740946\n",
      "Optimization restart 5/10, f = 39.73027892973093\n",
      "Optimization restart 6/10, f = 39.730278929730844\n",
      "Optimization restart 7/10, f = 20.45950443273991\n",
      "Optimization restart 8/10, f = 20.459504432740598\n",
      "Optimization restart 9/10, f = 20.45950443273741\n"
     ]
    },
    {
     "name": "stderr",
     "output_type": "stream",
     "text": [
      "reconstraining parameters GP_regression.Mat52.lengthscale\n",
      "reconstraining parameters GP_regression.Mat52.variance\n",
      "reconstraining parameters GP_regression.Gaussian_noise.variance\n"
     ]
    },
    {
     "name": "stdout",
     "output_type": "stream",
     "text": [
      "Optimization restart 10/10, f = 1022822298.6501718\n",
      "Optimization restart 1/10, f = 10.582474531923118\n",
      "Optimization restart 2/10, f = 10.582474531938816\n",
      "Optimization restart 3/10, f = 10.582474531907621\n",
      "Optimization restart 4/10, f = 10.582474531896942\n",
      "Optimization restart 5/10, f = 10.582474531923536\n",
      "Optimization restart 6/10, f = 10.582474531880177\n",
      "Optimization restart 7/10, f = 497208586.6785013\n",
      "Optimization restart 8/10, f = 186.91137543931546\n",
      "Optimization restart 9/10, f = 497049018.6804065\n",
      "Optimization restart 10/10, f = 10.582474531911831\n",
      "(4_w,9)-aCMA-ES (mu_w=2.8,w_1=49%) in dimension 6 (seed=611856, Sun Apr 10 00:41:48 2022)\n",
      "Iterat #Fevals   function value  axis ratio  sigma  min&max std  t[m:s]\n",
      "    1      9 -4.484857216563047e-01 1.0e+00 2.48e-01  2e-01  3e-01 0:00.0\n",
      "    2     18 -4.496734448238590e-01 1.3e+00 2.89e-01  3e-01  4e-01 0:00.1\n",
      "    3     27 -4.522538272884106e-01 1.5e+00 3.33e-01  3e-01  4e-01 0:00.1\n",
      "  100    900 -4.879590972060257e-01 5.7e+01 3.91e-03  6e-05  2e-03 0:02.4\n",
      "  200   1800 -4.879594971284752e-01 9.6e+03 4.11e-05  2e-07  1e-05 0:04.2\n",
      "  257   2313 -4.879594972052032e-01 1.1e+05 2.23e-05  1e-07  4e-06 0:04.9\n"
     ]
    },
    {
     "name": "stderr",
     "output_type": "stream",
     "text": [
      "reconstraining parameters GP_regression.Mat52.lengthscale\n",
      "reconstraining parameters GP_regression.Mat52.variance\n",
      "reconstraining parameters GP_regression.Gaussian_noise.variance\n"
     ]
    },
    {
     "name": "stdout",
     "output_type": "stream",
     "text": [
      "termination on tolfun=1e-11 (Sun Apr 10 00:41:53 2022)\n",
      "final/bestever f-value = -4.879595e-01 -4.879595e-01\n",
      "incumbent solution: [1.4217637595916308, 3.9999999999993543, 2.540081279116733, 3.089026098539654, 4.444221089341417, 5.2942798652256435]\n",
      "std deviation: [9.641423363530927e-08, 1.2643146264743624e-06, 1.7615721811076494e-06, 2.2490283317831166e-06, 2.9482864723100173e-06, 3.91996339084507e-06]\n",
      "Optimization restart 1/10, f = 20.56318091652717\n",
      "Optimization restart 2/10, f = 20.563180916525422\n",
      "Optimization restart 3/10, f = 20.563180916524914\n",
      "Optimization restart 4/10, f = 20.56318091652423\n",
      "Optimization restart 5/10, f = 41.1492174629355\n",
      "Optimization restart 6/10, f = 20.563180916526655\n",
      "Optimization restart 7/10, f = 1064794567.7935632\n",
      "Optimization restart 8/10, f = 193.5867817050053\n",
      "Optimization restart 9/10, f = 20.56318091655546\n"
     ]
    },
    {
     "name": "stderr",
     "output_type": "stream",
     "text": [
      "reconstraining parameters GP_regression.Mat52.lengthscale\n",
      "reconstraining parameters GP_regression.Mat52.variance\n",
      "reconstraining parameters GP_regression.Gaussian_noise.variance\n"
     ]
    },
    {
     "name": "stdout",
     "output_type": "stream",
     "text": [
      "Optimization restart 10/10, f = 20.563180916518377\n",
      "Optimization restart 1/10, f = 9.2245438773306\n",
      "Optimization restart 2/10, f = 9.224543877265116\n",
      "Optimization restart 3/10, f = 9.224543877221844\n",
      "Optimization restart 4/10, f = 9.22454387725827\n",
      "Optimization restart 5/10, f = 9.224543877303473\n",
      "Optimization restart 6/10, f = 9.22454387731251\n",
      "Optimization restart 7/10, f = 9.224543877230015\n",
      "Optimization restart 8/10, f = 9.224543877257599\n",
      "Optimization restart 9/10, f = 46.20702269037231\n",
      "Optimization restart 10/10, f = 193.5867817050053\n",
      "(4_w,9)-aCMA-ES (mu_w=2.8,w_1=49%) in dimension 6 (seed=660303, Sun Apr 10 00:41:58 2022)\n",
      "Iterat #Fevals   function value  axis ratio  sigma  min&max std  t[m:s]\n",
      "    1      9 -4.160518668003785e-01 1.0e+00 2.64e-01  3e-01  3e-01 0:00.0\n",
      "    2     18 -4.168972779532438e-01 1.4e+00 2.83e-01  3e-01  3e-01 0:00.0\n",
      "    3     27 -4.184478679779562e-01 1.6e+00 2.83e-01  3e-01  4e-01 0:00.1\n",
      "  100    900 -4.850016875293035e-01 2.6e+01 3.71e-02  9e-04  2e-02 0:01.2\n",
      "  200   1800 -4.850338042469081e-01 6.8e+03 2.76e-04  6e-07  6e-05 0:02.3\n",
      "  260   2340 -4.850338044662611e-01 1.8e+05 1.38e-05  2e-08  2e-06 0:03.0\n"
     ]
    },
    {
     "name": "stderr",
     "output_type": "stream",
     "text": [
      "reconstraining parameters GP_regression.Mat52.lengthscale\n",
      "reconstraining parameters GP_regression.Mat52.variance\n",
      "reconstraining parameters GP_regression.Gaussian_noise.variance\n"
     ]
    },
    {
     "name": "stdout",
     "output_type": "stream",
     "text": [
      "termination on tolfun=1e-11 (Sun Apr 10 00:42:01 2022)\n",
      "final/bestever f-value = -4.850338e-01 -4.850338e-01\n",
      "incumbent solution: [1.4472113315124988, 3.9999999999999987, 2.469726358600239, 3.3278306482351945, 4.2688136410107465, 4.996798403767528]\n",
      "std deviation: [2.118568943760479e-08, 5.781148118970463e-07, 8.858441611562338e-07, 1.298483726137034e-06, 1.7664107456072068e-06, 1.5769259884710762e-06]\n",
      "Optimization restart 1/10, f = 20.57160881861648\n",
      "Optimization restart 2/10, f = 42.56815599614019\n",
      "Optimization restart 3/10, f = 20.571608818571605\n",
      "Optimization restart 4/10, f = 42.56815599614019\n",
      "Optimization restart 5/10, f = 1103812051.3470473\n",
      "Optimization restart 6/10, f = 20.57160881857143\n",
      "Optimization restart 7/10, f = 1498356.3877680236\n",
      "Optimization restart 8/10, f = 69.22775582888805\n",
      "Optimization restart 9/10, f = 42.568155996140185\n"
     ]
    },
    {
     "name": "stderr",
     "output_type": "stream",
     "text": [
      "reconstraining parameters GP_regression.Mat52.lengthscale\n",
      "reconstraining parameters GP_regression.Mat52.variance\n",
      "reconstraining parameters GP_regression.Gaussian_noise.variance\n"
     ]
    },
    {
     "name": "stdout",
     "output_type": "stream",
     "text": [
      "Optimization restart 10/10, f = 20.571608818578888\n",
      "Optimization restart 1/10, f = 7.668160364280961\n",
      "Optimization restart 2/10, f = 49.19795495796435\n",
      "Optimization restart 3/10, f = 7.668160364328298\n",
      "Optimization restart 4/10, f = 7.668160364280009\n",
      "Optimization restart 5/10, f = 42.568155996140185\n",
      "Optimization restart 6/10, f = 7.66816036426162\n",
      "Optimization restart 7/10, f = 7.668160364260157\n",
      "Optimization restart 8/10, f = 7.66816036426928\n",
      "Optimization restart 9/10, f = 7.668160364288941\n",
      "Optimization restart 10/10, f = 42.568155996140185\n",
      "(4_w,9)-aCMA-ES (mu_w=2.8,w_1=49%) in dimension 6 (seed=569128, Sun Apr 10 00:42:05 2022)\n",
      "Iterat #Fevals   function value  axis ratio  sigma  min&max std  t[m:s]\n",
      "    1      9 -4.252304211659611e-01 1.0e+00 2.39e-01  2e-01  2e-01 0:00.0\n",
      "    2     18 -4.286054627574741e-01 1.2e+00 2.75e-01  3e-01  3e-01 0:00.0\n",
      "    3     27 -4.297038695514163e-01 1.5e+00 2.85e-01  2e-01  3e-01 0:00.1\n",
      "  100    900 -4.860496172271233e-01 5.2e+00 3.39e-03  3e-04  1e-03 0:01.2\n",
      "  176   1584 -4.860496572917280e-01 6.2e+00 7.53e-06  9e-08  5e-07 0:02.3\n"
     ]
    },
    {
     "name": "stderr",
     "output_type": "stream",
     "text": [
      "reconstraining parameters GP_regression.Mat52.lengthscale\n",
      "reconstraining parameters GP_regression.Mat52.variance\n",
      "reconstraining parameters GP_regression.Gaussian_noise.variance\n"
     ]
    },
    {
     "name": "stdout",
     "output_type": "stream",
     "text": [
      "termination on tolfun=1e-11 (Sun Apr 10 00:42:07 2022)\n",
      "final/bestever f-value = -4.860497e-01 -4.860497e-01\n",
      "incumbent solution: [1.3991913593862046, 3.9999999999999196, 2.3606057462901116, 3.5136223150464407, 4.333528446357882, 4.845155334608323]\n",
      "std deviation: [9.357137691859327e-08, 2.6210335943637703e-07, 3.1559126028707466e-07, 3.3418838397752887e-07, 3.94784811098451e-07, 5.208904402360216e-07]\n",
      "Optimization restart 1/10, f = 21.470973669070556\n",
      "Optimization restart 2/10, f = 21.47097366906769\n",
      "Optimization restart 3/10, f = 43.98709452934485\n",
      "Optimization restart 4/10, f = 43.98709452934489\n",
      "Optimization restart 5/10, f = 43.987094529344844\n",
      "Optimization restart 6/10, f = 21.470973669069664\n",
      "Optimization restart 7/10, f = 21.470973669071004\n",
      "Optimization restart 8/10, f = 21.470973669066723\n",
      "Optimization restart 9/10, f = 21.47097366906285\n"
     ]
    },
    {
     "name": "stderr",
     "output_type": "stream",
     "text": [
      "reconstraining parameters GP_regression.Mat52.lengthscale\n",
      "reconstraining parameters GP_regression.Mat52.variance\n",
      "reconstraining parameters GP_regression.Gaussian_noise.variance\n"
     ]
    },
    {
     "name": "stdout",
     "output_type": "stream",
     "text": [
      "Optimization restart 10/10, f = 21.470973669063717\n",
      "Optimization restart 1/10, f = 7.702227014120133\n",
      "Optimization restart 2/10, f = 7.70222701407878\n",
      "Optimization restart 3/10, f = 7.702227014122563\n",
      "Optimization restart 4/10, f = 43.987094529344844\n",
      "Optimization restart 5/10, f = 7.7022270141243965\n",
      "Optimization restart 6/10, f = 43.987094528448466\n",
      "Optimization restart 7/10, f = 43.98709452934485\n",
      "Optimization restart 8/10, f = 54.10273514247987\n",
      "Optimization restart 9/10, f = 7.702227014106668\n",
      "Optimization restart 10/10, f = 7.702227014088315\n",
      "(4_w,9)-aCMA-ES (mu_w=2.8,w_1=49%) in dimension 6 (seed=649728, Sun Apr 10 00:42:11 2022)\n",
      "Iterat #Fevals   function value  axis ratio  sigma  min&max std  t[m:s]\n",
      "    1      9 -4.210893253497265e-01 1.0e+00 2.45e-01  2e-01  3e-01 0:00.0\n",
      "    2     18 -4.220642926729573e-01 1.3e+00 2.61e-01  2e-01  3e-01 0:00.0\n",
      "    3     27 -4.232960488434117e-01 1.5e+00 2.75e-01  2e-01  3e-01 0:00.1\n",
      "  100    900 -4.846735795538748e-01 1.4e+01 1.14e-02  4e-04  6e-03 0:01.7\n",
      "  200   1800 -4.846751195839482e-01 1.6e+03 1.30e-04  2e-07  2e-05 0:04.4\n",
      "  253   2277 -4.846751196160649e-01 3.6e+04 1.52e-05  1e-08  2e-06 0:05.2\n",
      "termination on tolfun=1e-11 (Sun Apr 10 00:42:17 2022)\n",
      "final/bestever f-value = -4.846751e-01 -4.846751e-01\n",
      "incumbent solution: [1.4315447619394033, 3.9999999999999964, 2.5227342215881596, 3.3064351021188574, 4.22025622772919, 4.9139672536915935]\n",
      "std deviation: [1.2954412076817767e-08, 8.630309796149718e-07, 8.209646767961105e-07, 1.1432939790395268e-06, 1.362065119705309e-06, 1.894977791211081e-06]\n"
     ]
    }
   ],
   "source": [
    "opt2.optimise(20)"
   ]
  },
  {
   "cell_type": "code",
   "execution_count": 14,
   "id": "5bc267c8",
   "metadata": {},
   "outputs": [
    {
     "data": {
      "text/plain": [
       "<matplotlib.collections.PathCollection at 0x7fd6e7f81160>"
      ]
     },
     "execution_count": 14,
     "metadata": {},
     "output_type": "execute_result"
    },
    {
     "data": {
      "image/png": "[encoded data removed]",
      "text/plain": [
       "<Figure size 432x288 with 1 Axes>"
      ]
     },
     "metadata": {
      "needs_background": "light"
     },
     "output_type": "display_data"
    }
   ],
   "source": [
    "%matplotlib inline\n",
    "import matplotlib.pyplot as plt\n",
    "fig = plt.figure()\n",
    "ax = fig.gca()\n",
    "\n",
    "ax.scatter(*t, c=\"magenta\")\n",
    "ax.scatter(*opt.y.T, c=\"C0\")\n",
    "ax.scatter(*opt2.y.T, c=\"C1\")"
   ]
  },
  {
   "cell_type": "code",
   "execution_count": null,
   "id": "a6577587",
   "metadata": {},
   "outputs": [],
   "source": []
  }
 ],
 "metadata": {
  "kernelspec": {
   "display_name": "testsuite",
   "language": "python",
   "name": "testsuite"
  },
  "language_info": {
   "codemirror_mode": {
    "name": "ipython",
    "version": 3
   },
   "file_extension": ".py",
   "mimetype": "text/x-python",
   "name": "python",
   "nbconvert_exporter": "python",
   "pygments_lexer": "ipython3",
   "version": "3.8.3"
  }
 },
 "nbformat": 4,
 "nbformat_minor": 5
}
