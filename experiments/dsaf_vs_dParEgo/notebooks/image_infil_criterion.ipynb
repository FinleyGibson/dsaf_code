{
 "cells": [
  {
   "cell_type": "code",
   "execution_count": 1,
   "id": "4ef7e8b8",
   "metadata": {},
   "outputs": [],
   "source": [
    "import rootpath\n",
    "import sys\n",
    "import os\n",
    "sys.path.append(rootpath.detect())\n"
   ]
  },
  {
   "cell_type": "code",
   "execution_count": 2,
   "id": "2e559dec",
   "metadata": {},
   "outputs": [],
   "source": [
    "import numpy as np\n",
    "import matplotlib.pyplot as plt"
   ]
  },
  {
   "cell_type": "code",
   "execution_count": 3,
   "id": "1a0c710f",
   "metadata": {},
   "outputs": [],
   "source": [
    "def image_infill(opt, front_value = 0., n_contours=20, uncertainty=0.1):\n",
    "    #figure_properties\n",
    "    fig = plt.figure(figsize=[8,7])\n",
    "    ax = fig.gca()\n",
    "    l_lims = opt.apply_weighting(np.array([[0, 0]]))\n",
    "    u_lims = opt.apply_weighting(np.array([[1.5, 1.5]]))\n",
    "    ax.set_xlim([0., 1.5])\n",
    "    ax.set_ylim([0., 1.5])\n",
    "    \n",
    "    # compute infill\n",
    "    M, N = 200, 200\n",
    "    x = np.linspace(0., 1.5, M)\n",
    "    y = np.linspace(0., 1.5, N)\n",
    "    xx, yy = np.meshgrid(x, y)\n",
    "    xy = np.vstack((xx.flat, yy.flat)).T\n",
    "    xyw = opt.apply_weighting(xy)\n",
    "    zz = np.array([opt._scalarise_y(xyi, np.ones_like(xyi)*uncertainty*opt.obj_weights, invert=False) for xyi in xyw])\n",
    "    zz = zz.reshape(N,M)\n",
    "    \n",
    "    #image infill\n",
    "    pcol = ax.pcolor(xx, yy, zz)\n",
    "    levels = np.linspace(zz.min(), zz.max(), n_contours+2)[1:-1]\n",
    "    ax.contour(xx, yy, zz, colors=\"white\", levels=levels)\n",
    "    if front_value is not None:\n",
    "        ax.contour(xx, yy, zz, colors=\"C3\", levels=[front_value])\n",
    "        front_legend = plt.Line2D([0], [0], c=\"C3\")\n",
    "    \n",
    "    # scatter samples\n",
    "    ax.scatter(opt.d[:,0], opt.d[:,1], facecolors='none', edgecolors=\"C3\", linewidth=2., label=\"dominated samples\")\n",
    "    ax.scatter(opt.p[:,0], opt.p[:,1], c=\"C3\", label=\"non-dominated samples\")\n",
    "    fig.colorbar(pcol)\n",
    "    handles, labels = ax.get_legend_handles_labels()\n",
    "    if front_value is not None:\n",
    "        handles.append(front_legend)\n",
    "        labels.append(\"{}\".format(front_value))\n",
    "    ax.legend(handles, labels)\n",
    "    \n",
    "    return fig"
   ]
  },
  {
   "cell_type": "code",
   "execution_count": 4,
   "id": "292ca40a",
   "metadata": {},
   "outputs": [],
   "source": [
    "seed = 1\n",
    "INVERT = True\n",
    "plt.rcParams['image.cmap'] = 'viridis'\n",
    "target = np.array([0.3, 0.1]).reshape(1, -1)"
   ]
  },
  {
   "cell_type": "code",
   "execution_count": 7,
   "id": "0ea73225",
   "metadata": {},
   "outputs": [
    {
     "name": "stderr",
     "output_type": "stream",
     "text": [
      " /tmp/ipykernel_44940/418229984.py:25: UserWarning:No contour levels were found within the data range.\n"
     ]
    },
    {
     "data": {
      "text/plain": [
       "Text(0, 0.5, '$f_2$')"
      ]
     },
     "execution_count": 7,
     "metadata": {},
     "output_type": "execute_result"
    },
    {
     "data": {
      "image/png": "[encoded data removed]",
      "text/plain": [
       "<Figure size 576x504 with 2 Axes>"
      ]
     },
     "metadata": {
      "needs_background": "light"
     },
     "output_type": "display_data"
    }
   ],
   "source": [
    "from testsuite.surrogates import GP, MultiSurrogate\n",
    "from testsuite.directed_optimisers import DirectedSaf\n",
    "\n",
    "saf_opt = DirectedSaf(objective_function=lambda x: x[0:2], w=0.0, targets= [[0.5, 0.1]], ei=False,  limits=[[0, 0, 0, 0, 0], [1,1,1,1,1]], surrogate=MultiSurrogate(GP), n_initial=10, seed=seed)\n",
    "# saf_opt.obj_weights = np.ones_like(saf_opt.obj_weights)\n",
    "fig_saf = image_infill(saf_opt)\n",
    "# fig_saf.axes[0].set_title(\"saf: $\\mu$\");\n",
    "fig_saf.gca().scatter(*np.array(saf_opt.targets).T, c=\"magenta\")\n",
    "fig_saf.gca().set_xlabel(\"$f_1$\")\n",
    "fig_saf.gca().set_ylabel(\"$f_2$\")\n",
    "# fig_saf.axes[0].scatter((saf_opt.y*saf_opt.obj_weights)[:,0], (saf_opt.y*saf_opt.obj_weights)[:,1], c=\"magenta\")"
   ]
  },
  {
   "cell_type": "code",
   "execution_count": null,
   "id": "80c487b6",
   "metadata": {},
   "outputs": [],
   "source": []
  }
 ],
 "metadata": {
  "kernelspec": {
   "display_name": "testsuite",
   "language": "python",
   "name": "testsuite"
  },
  "language_info": {
   "codemirror_mode": {
    "name": "ipython",
    "version": 3
   },
   "file_extension": ".py",
   "mimetype": "text/x-python",
   "name": "python",
   "nbconvert_exporter": "python",
   "pygments_lexer": "ipython3",
   "version": "3.8.3"
  }
 },
 "nbformat": 4,
 "nbformat_minor": 5
}
