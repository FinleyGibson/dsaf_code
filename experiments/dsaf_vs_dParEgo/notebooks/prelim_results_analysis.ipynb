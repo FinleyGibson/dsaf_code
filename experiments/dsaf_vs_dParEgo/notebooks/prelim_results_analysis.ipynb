{
 "cells": [
  {
   "cell_type": "code",
   "execution_count": 5,
   "id": "d2d981ce",
   "metadata": {},
   "outputs": [],
   "source": [
    "import sys\n",
    "import os\n",
    "import rootpath\n",
    "sys.path.append(rootpath.detect())"
   ]
  },
  {
   "cell_type": "code",
   "execution_count": 6,
   "id": "016f95b9",
   "metadata": {},
   "outputs": [],
   "source": [
    "import numpy as np\n",
    "import matplotlib.pyplot as plt\n",
    "import pickle"
   ]
  },
  {
   "cell_type": "code",
   "execution_count": 7,
   "id": "868fa242",
   "metadata": {},
   "outputs": [],
   "source": [
    "def load(p):\n",
    "    with open(p, \"rb\") as infile:\n",
    "        return pickle.load(infile)"
   ]
  },
  {
   "cell_type": "code",
   "execution_count": 8,
   "id": "c5543475",
   "metadata": {},
   "outputs": [],
   "source": [
    "path = os.path.join(rootpath.detect(), \"experiments/data/saf_directed/wfg6_2obj_6dim/log_data/OF_objective_function__opt_DirectedSaf__ninit_10__surrogate_MultiSurrogateGP__ei_False__target_2p09_1p35__w_0p5\")\n",
    "paths = [os.path.join(path, p) for p in os.listdir(path) if p[-9:] != \"model.pkl\"]\n",
    "dsaf_results = [load(p) for p in paths]"
   ]
  },
  {
   "cell_type": "code",
   "execution_count": 10,
   "id": "47a2d608",
   "metadata": {},
   "outputs": [],
   "source": [
    "path = os.path.join(rootpath.detect(), \"experiments/data/dParEgo/wfg6_2obj_6dim/log_data/OF_objective_function__opt_DirectedParEgo__ninit_10__target_2p09_1p35__rho_0p05__s_5\")\n",
    "paths = [os.path.join(path, p) for p in os.listdir(path) if p[-9:] != \"model.pkl\"]\n",
    "parego_results = [load(p) for p in paths]"
   ]
  },
  {
   "cell_type": "code",
   "execution_count": 13,
   "id": "6ecbef9f",
   "metadata": {},
   "outputs": [],
   "source": [
    "t = dsaf_results[0][\"targets\"]"
   ]
  },
  {
   "cell_type": "code",
   "execution_count": 75,
   "id": "678301d8",
   "metadata": {},
   "outputs": [],
   "source": [
    "seed_n = 8\n",
    "r_saf = dsaf_results\n",
    "r_par = parego_results\n",
    "r_saf = [r_saf[i] for i in np.argsort([r[\"seed\"] for r in r_saf])][seed_n]\n",
    "r_par = [r_par[i] for i in np.argsort([r[\"seed\"] for r in r_par])][seed_n]\n",
    "assert r_saf[\"seed\"] == r_par[\"seed\"]"
   ]
  },
  {
   "cell_type": "code",
   "execution_count": 76,
   "id": "f24bd744",
   "metadata": {},
   "outputs": [],
   "source": [
    "y_saf = r_saf[\"y\"][:20]\n",
    "y_par = r_par[\"y\"][:20]"
   ]
  },
  {
   "cell_type": "code",
   "execution_count": 77,
   "id": "64999810",
   "metadata": {},
   "outputs": [
    {
     "data": {
      "text/plain": [
       "<matplotlib.collections.PathCollection at 0x7f6060a67d90>"
      ]
     },
     "execution_count": 77,
     "metadata": {},
     "output_type": "execute_result"
    },
    {
     "data": {
      "image/png": "[encoded data removed]",
      "text/plain": [
       "<Figure size 432x288 with 1 Axes>"
      ]
     },
     "metadata": {
      "needs_background": "light"
     },
     "output_type": "display_data"
    }
   ],
   "source": [
    "%matplotlib inline\n",
    "import matplotlib.pyplot as plt\n",
    "fig = plt.figure()\n",
    "ax = fig.gca()\n",
    "\n",
    "ax.scatter(*y_saf.T, c=\"C0\")\n",
    "ax.scatter(*y_par.T, c=\"C1\")\n",
    "ax.scatter(*t.T, c=\"magenta\")"
   ]
  },
  {
   "cell_type": "code",
   "execution_count": null,
   "id": "83845d46",
   "metadata": {},
   "outputs": [],
   "source": []
  }
 ],
 "metadata": {
  "kernelspec": {
   "display_name": "testsuite",
   "language": "python",
   "name": "testsuite"
  },
  "language_info": {
   "codemirror_mode": {
    "name": "ipython",
    "version": 3
   },
   "file_extension": ".py",
   "mimetype": "text/x-python",
   "name": "python",
   "nbconvert_exporter": "python",
   "pygments_lexer": "ipython3",
   "version": "3.8.3"
  }
 },
 "nbformat": 4,
 "nbformat_minor": 5
}
