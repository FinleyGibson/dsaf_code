{
 "cells": [
  {
   "cell_type": "code",
   "execution_count": 5,
   "id": "cb10282a",
   "metadata": {},
   "outputs": [],
   "source": [
    "import sys\n",
    "import os\n",
    "import rootpath\n",
    "sys.path.append(rootpath.detect())"
   ]
  },
  {
   "cell_type": "code",
   "execution_count": 6,
   "id": "3ee214df",
   "metadata": {},
   "outputs": [],
   "source": [
    "import numpy as np\n",
    "import matplotlib.pyplot as plt\n",
    "import pickle"
   ]
  },
  {
   "cell_type": "code",
   "execution_count": 7,
   "id": "74e298e3",
   "metadata": {},
   "outputs": [],
   "source": [
    "def load(p):\n",
    "    with open(p, \"rb\") as infile:\n",
    "        return pickle.load(infile)"
   ]
  },
  {
   "cell_type": "code",
   "execution_count": 8,
   "id": "5125601a",
   "metadata": {},
   "outputs": [],
   "source": [
    "path = os.path.join(rootpath.detect(), \"experiments/data/saf_directed/wfg6_2obj_6dim/log_data/OF_objective_function__opt_DirectedSaf__ninit_10__surrogate_MultiSurrogateGP__ei_False__target_2p09_1p35__w_0p5\")\n",
    "paths = [os.path.join(path, p) for p in os.listdir(path) if p[-9:] != \"model.pkl\"]\n",
    "dsaf_results = [load(p) for p in paths]"
   ]
  },
  {
   "cell_type": "code",
   "execution_count": 10,
   "id": "8e002120",
   "metadata": {},
   "outputs": [],
   "source": [
    "path = os.path.join(rootpath.detect(), \"experiments/data/dParEgo/wfg6_2obj_6dim/log_data/OF_objective_function__opt_DirectedParEgo__ninit_10__target_2p09_1p35__rho_0p05__s_5\")\n",
    "paths = [os.path.join(path, p) for p in os.listdir(path) if p[-9:] != \"model.pkl\"]\n",
    "parego_results = [load(p) for p in paths]"
   ]
  },
  {
   "cell_type": "code",
   "execution_count": 13,
   "id": "e48145c0",
   "metadata": {},
   "outputs": [],
   "source": [
    "t = dsaf_results[0][\"targets\"]"
   ]
  },
  {
   "cell_type": "code",
   "execution_count": 99,
   "id": "a4a456a7",
   "metadata": {},
   "outputs": [
    {
     "data": {
      "text/plain": [
       "<matplotlib.legend.Legend at 0x7f6060290820>"
      ]
     },
     "execution_count": 99,
     "metadata": {},
     "output_type": "execute_result"
    },
    {
     "data": {
      "image/png": "[encoded data removed]",
      "text/plain": [
       "<Figure size 432x288 with 1 Axes>"
      ]
     },
     "metadata": {
      "needs_background": "light"
     },
     "output_type": "display_data"
    }
   ],
   "source": [
    "seed_n = 7\n",
    "r_saf = dsaf_results\n",
    "r_par = parego_results\n",
    "r_saf = [r_saf[i] for i in np.argsort([r[\"seed\"] for r in r_saf])][seed_n]\n",
    "r_par = [r_par[i] for i in np.argsort([r[\"seed\"] for r in r_par])][seed_n]\n",
    "assert r_saf[\"seed\"] == r_par[\"seed\"]\n",
    "\n",
    "y_saf = r_saf[\"y\"][:]\n",
    "y_par = r_par[\"y\"][:]\n",
    "\n",
    "%matplotlib inline\n",
    "import matplotlib.pyplot as plt\n",
    "fig = plt.figure()\n",
    "ax = fig.gca()\n",
    "\n",
    "ax.scatter(*y_saf.T, c=\"C0\", label=\"DSAF\")\n",
    "ax.scatter(*y_par.T, c=\"C1\", label=\"ParEgo\")\n",
    "ax.scatter(*t.T, c=\"magenta\")\n",
    "ax.legend()"
   ]
  },
  {
   "cell_type": "code",
   "execution_count": 78,
   "id": "4f143849",
   "metadata": {},
   "outputs": [],
   "source": [
    "dsaf_result = dsaf_results[0]"
   ]
  },
  {
   "cell_type": "code",
   "execution_count": 81,
   "id": "1728c516",
   "metadata": {},
   "outputs": [
    {
     "data": {
      "text/plain": [
       "array([[2.094, 1.347]])"
      ]
     },
     "execution_count": 81,
     "metadata": {},
     "output_type": "execute_result"
    }
   ],
   "source": [
    "dsaf_result[\"targets\"]"
   ]
  },
  {
   "cell_type": "code",
   "execution_count": null,
   "id": "1156f015",
   "metadata": {},
   "outputs": [],
   "source": []
  }
 ],
 "metadata": {
  "kernelspec": {
   "display_name": "testsuite",
   "language": "python",
   "name": "testsuite"
  },
  "language_info": {
   "codemirror_mode": {
    "name": "ipython",
    "version": 3
   },
   "file_extension": ".py",
   "mimetype": "text/x-python",
   "name": "python",
   "nbconvert_exporter": "python",
   "pygments_lexer": "ipython3",
   "version": "3.8.3"
  }
 },
 "nbformat": 4,
 "nbformat_minor": 5
}
