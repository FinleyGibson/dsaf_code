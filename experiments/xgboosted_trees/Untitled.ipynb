{
 "cells": [
  {
   "cell_type": "code",
   "execution_count": 77,
   "id": "7db64769",
   "metadata": {},
   "outputs": [],
   "source": [
    "import xgboost as xgb\n",
    "import numpy as np\n",
    "import matplotlib.pyplot as plt"
   ]
  },
  {
   "cell_type": "code",
   "execution_count": 17,
   "id": "f4a51787",
   "metadata": {},
   "outputs": [],
   "source": [
    "from sklearn.datasets import load_boston\n",
    "from sklearn.model_selection import train_test_split\n",
    "boston = load_boston()"
   ]
  },
  {
   "cell_type": "code",
   "execution_count": 92,
   "id": "e66b5225",
   "metadata": {},
   "outputs": [],
   "source": [
    "import rootpath\n",
    "import sys\n",
    "sys.path.append(rootpath.detect())\n",
    "from testsuite.surrogates import GP"
   ]
  },
  {
   "cell_type": "code",
   "execution_count": 18,
   "id": "3bab2fc6",
   "metadata": {},
   "outputs": [
    {
     "data": {
      "text/plain": [
       "dict_keys(['data', 'target', 'feature_names', 'DESCR', 'filename'])"
      ]
     },
     "execution_count": 18,
     "metadata": {},
     "output_type": "execute_result"
    }
   ],
   "source": [
    "boston.keys()"
   ]
  },
  {
   "cell_type": "code",
   "execution_count": 19,
   "id": "06b85628",
   "metadata": {},
   "outputs": [
    {
     "name": "stdout",
     "output_type": "stream",
     "text": [
      "(506, 13)\n",
      "(506,)\n"
     ]
    }
   ],
   "source": [
    "x = boston[\"data\"]\n",
    "y = boston[\"target\"]\n",
    "\n",
    "print(x.shape)\n",
    "print(y.shape)"
   ]
  },
  {
   "cell_type": "code",
   "execution_count": 22,
   "id": "8d6642e8",
   "metadata": {},
   "outputs": [],
   "source": [
    "x_tr, x_te, y_tr, y_te = train_test_split(x, y, test_size=0.2)"
   ]
  },
  {
   "cell_type": "code",
   "execution_count": 23,
   "id": "889b5454",
   "metadata": {},
   "outputs": [],
   "source": [
    "data_dmatrix = xgb.DMatrix(data=x,label=y)"
   ]
  },
  {
   "cell_type": "code",
   "execution_count": 93,
   "id": "82dda976",
   "metadata": {},
   "outputs": [],
   "source": [
    "xg_reg = xgb.XGBRegressor(objective ='reg:squarederror', colsample_bytree = 0.3, learning_rate = 0.01,\n",
    "                max_depth = 20, alpha = 10, n_estimators = 1000)"
   ]
  },
  {
   "cell_type": "code",
   "execution_count": 94,
   "id": "507707a7",
   "metadata": {},
   "outputs": [
    {
     "data": {
      "text/plain": [
       "XGBRegressor(alpha=10, base_score=0.5, booster='gbtree', callbacks=None,\n",
       "             colsample_bylevel=1, colsample_bynode=1, colsample_bytree=0.3,\n",
       "             early_stopping_rounds=None, enable_categorical=False,\n",
       "             eval_metric=None, gamma=0, gpu_id=-1, grow_policy='depthwise',\n",
       "             importance_type=None, interaction_constraints='',\n",
       "             learning_rate=0.01, max_bin=256, max_cat_to_onehot=4,\n",
       "             max_delta_step=0, max_depth=20, max_leaves=0, min_child_weight=1,\n",
       "             missing=nan, monotone_constraints='()', n_estimators=1000,\n",
       "             n_jobs=0, num_parallel_tree=1, predictor='auto', random_state=0,\n",
       "             reg_alpha=10, ...)"
      ]
     },
     "execution_count": 94,
     "metadata": {},
     "output_type": "execute_result"
    }
   ],
   "source": [
    "xg_reg.fit(x_tr, y_tr)"
   ]
  },
  {
   "cell_type": "code",
   "execution_count": 121,
   "id": "82869f8f",
   "metadata": {},
   "outputs": [],
   "source": [
    "xg_preds = xg_reg.predict(x_te)"
   ]
  },
  {
   "cell_type": "code",
   "execution_count": 122,
   "id": "88486c18",
   "metadata": {},
   "outputs": [
    {
     "data": {
      "text/plain": [
       "15.816689783681568"
      ]
     },
     "execution_count": 122,
     "metadata": {},
     "output_type": "execute_result"
    }
   ],
   "source": [
    "## compare to random\n",
    "sum((np.random.choice(y_tr, 102)-y_te)**2)/sum((xg_preds-y_te)**2)"
   ]
  },
  {
   "cell_type": "code",
   "execution_count": 123,
   "id": "d17f259b",
   "metadata": {},
   "outputs": [
    {
     "name": "stderr",
     "output_type": "stream",
     "text": [
      "reconstraining parameters GP_regression.Mat52.lengthscale\n",
      "reconstraining parameters GP_regression.Mat52.variance\n",
      "reconstraining parameters GP_regression.Gaussian_noise.variance\n"
     ]
    },
    {
     "name": "stdout",
     "output_type": "stream",
     "text": [
      "Optimization restart 1/10, f = 243.27446820503428\n",
      "Optimization restart 2/10, f = 573.2511674146876\n",
      "Optimization restart 3/10, f = 573.2511674146876\n",
      "Optimization restart 4/10, f = 573.25116741469\n",
      "Optimization restart 5/10, f = 243.2744682057384\n",
      "Optimization restart 6/10, f = 573.2511674146876\n",
      "Optimization restart 7/10, f = 573.2511674146878\n",
      "Optimization restart 8/10, f = 243.27446820503434\n",
      "Optimization restart 9/10, f = 573.2511674146876\n",
      "Optimization restart 10/10, f = 573.2511674146876\n"
     ]
    }
   ],
   "source": [
    "gp = GP()\n",
    "gp.update(x_tr, y_tr)"
   ]
  },
  {
   "cell_type": "code",
   "execution_count": 124,
   "id": "c2fb4f57",
   "metadata": {},
   "outputs": [
    {
     "data": {
      "text/plain": [
       "13.138244676680982"
      ]
     },
     "execution_count": 124,
     "metadata": {},
     "output_type": "execute_result"
    }
   ],
   "source": [
    "gp_preds = gp.predict(x_te)[0][:, 0]\n",
    "sum((np.random.choice(y_tr, 102)-y_te)**2)/sum((gp_preds-y_te)**2)"
   ]
  },
  {
   "cell_type": "code",
   "execution_count": 126,
   "id": "f57ba693",
   "metadata": {},
   "outputs": [
    {
     "data": {
      "text/plain": [
       "<matplotlib.collections.PathCollection at 0x7fee485aad90>"
      ]
     },
     "execution_count": 126,
     "metadata": {},
     "output_type": "execute_result"
    },
    {
     "data": {
      "image/png": "[encoded data removed]",
      "text/plain": [
       "<Figure size 720x720 with 1 Axes>"
      ]
     },
     "metadata": {
      "needs_background": "light"
     },
     "output_type": "display_data"
    }
   ],
   "source": [
    "plt.figure(figsize=[10, 10])\n",
    "plt.scatter(range(len(y_te)), y_te[np.argsort(y_te)], s=10)\n",
    "plt.scatter(range(len(y_te)), xg_preds[np.argsort(y_te)], s=5)\n",
    "plt.scatter(range(len(y_te)), gp_preds[np.argsort(y_te)], s=5)"
   ]
  },
  {
   "cell_type": "code",
   "execution_count": null,
   "id": "e77bdec5",
   "metadata": {},
   "outputs": [],
   "source": []
  }
 ],
 "metadata": {
  "kernelspec": {
   "display_name": "testsuite",
   "language": "python",
   "name": "testsuite"
  },
  "language_info": {
   "codemirror_mode": {
    "name": "ipython",
    "version": 3
   },
   "file_extension": ".py",
   "mimetype": "text/x-python",
   "name": "python",
   "nbconvert_exporter": "python",
   "pygments_lexer": "ipython3",
   "version": "3.8.3"
  }
 },
 "nbformat": 4,
 "nbformat_minor": 5
}
