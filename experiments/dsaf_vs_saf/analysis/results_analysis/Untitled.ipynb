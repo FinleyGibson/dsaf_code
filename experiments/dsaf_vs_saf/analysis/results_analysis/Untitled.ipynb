{
 "cells": [
  {
   "cell_type": "code",
   "execution_count": 129,
   "id": "b903c34c",
   "metadata": {},
   "outputs": [],
   "source": [
    "import os\n",
    "import rootpath\n",
    "import sys\n",
    "sys.path.append(rootpath.detect())"
   ]
  },
  {
   "cell_type": "code",
   "execution_count": 130,
   "id": "db486a69",
   "metadata": {},
   "outputs": [],
   "source": [
    "import numpy as np\n",
    "import pandas as pd\n",
    "import matplotlib.pyplot as plt"
   ]
  },
  {
   "cell_type": "code",
   "execution_count": 131,
   "id": "ed033f31",
   "metadata": {},
   "outputs": [],
   "source": [
    "from testsuite.results import ResultsContainer, Result"
   ]
  },
  {
   "cell_type": "code",
   "execution_count": 132,
   "id": "4d92b587",
   "metadata": {},
   "outputs": [],
   "source": [
    "def load_result(file_name, PATH_TO_PROCESSED_RESULTS):\n",
    "    path = os.path.join(PATH_TO_PROCESSED_RESULTS, file_name)\n",
    "    assert os.path.isfile(path)\n",
    "    return ResultsContainer(path)"
   ]
  },
  {
   "cell_type": "code",
   "execution_count": 133,
   "id": "93fa1f02",
   "metadata": {},
   "outputs": [],
   "source": [
    "PATH_TO_REPORT_REPO = \"/home/finley/phd/papers/gecco_2022/DSAF_EMO/\"\n",
    "PATH_TO_PROCESSED_RESULTS = os.path.join(\n",
    "    rootpath.detect(),\n",
    "    \"experiments/dsaf_vs_dParEgo/analysis/processing_scripts/dual_hypervolume_processing/processed_results\")\n",
    "assert os.path.isdir(PATH_TO_PROCESSED_RESULTS)"
   ]
  },
  {
   "cell_type": "code",
   "execution_count": 134,
   "id": "19d89710",
   "metadata": {},
   "outputs": [],
   "source": [
    "PATH_TO_SAF_RESULTS = os.path.join(\n",
    "    rootpath.detect(),\n",
    "    \"experiments/dsaf_vs_saf/analysis/processing_scripts/dual_hypervolume_processing/processed_results\")\n",
    "assert os.path.isdir(PATH_TO_PROCESSED_RESULTS)"
   ]
  },
  {
   "cell_type": "code",
   "execution_count": 135,
   "id": "3741ab22",
   "metadata": {},
   "outputs": [],
   "source": [
    "RESULT_FILES_LIST = sorted(os.listdir(PATH_TO_PROCESSED_RESULTS))"
   ]
  },
  {
   "cell_type": "code",
   "execution_count": 136,
   "id": "234d2a81",
   "metadata": {},
   "outputs": [],
   "source": [
    "SAF_FILES_LIST = sorted(os.listdir(PATH_TO_SAF_RESULTS))"
   ]
  },
  {
   "cell_type": "code",
   "execution_count": 137,
   "id": "288cb26e",
   "metadata": {},
   "outputs": [
    {
     "data": {
      "text/plain": [
       "['wfg1_2obj_3dim_0.json',\n",
       " 'wfg1_2obj_3dim_1.json',\n",
       " 'wfg1_2obj_3dim_2.json',\n",
       " 'wfg1_2obj_3dim_3.json',\n",
       " 'wfg1_2obj_3dim_4.json',\n",
       " 'wfg1_2obj_3dim_5.json',\n",
       " 'wfg1_3obj_4dim_0.json',\n",
       " 'wfg1_3obj_4dim_1.json',\n",
       " 'wfg1_3obj_4dim_2.json',\n",
       " 'wfg1_3obj_4dim_3.json',\n",
       " 'wfg1_3obj_4dim_4.json',\n",
       " 'wfg1_3obj_4dim_5.json',\n",
       " 'wfg1_4obj_5dim_0.json',\n",
       " 'wfg1_4obj_5dim_1.json',\n",
       " 'wfg1_4obj_5dim_2.json',\n",
       " 'wfg1_4obj_5dim_3.json',\n",
       " 'wfg1_4obj_5dim_4.json',\n",
       " 'wfg1_4obj_5dim_5.json',\n",
       " 'wfg2_2obj_6dim_0.json',\n",
       " 'wfg2_2obj_6dim_1.json',\n",
       " 'wfg2_2obj_6dim_2.json',\n",
       " 'wfg2_2obj_6dim_3.json',\n",
       " 'wfg2_2obj_6dim_4.json',\n",
       " 'wfg2_2obj_6dim_5.json',\n",
       " 'wfg2_3obj_6dim_0.json',\n",
       " 'wfg2_3obj_6dim_1.json',\n",
       " 'wfg2_3obj_6dim_2.json',\n",
       " 'wfg2_3obj_6dim_3.json',\n",
       " 'wfg2_3obj_6dim_4.json',\n",
       " 'wfg2_3obj_6dim_5.json',\n",
       " 'wfg2_4obj_10dim_0.json',\n",
       " 'wfg2_4obj_10dim_1.json',\n",
       " 'wfg2_4obj_10dim_2.json',\n",
       " 'wfg2_4obj_10dim_3.json',\n",
       " 'wfg2_4obj_10dim_4.json',\n",
       " 'wfg2_4obj_10dim_5.json',\n",
       " 'wfg3_2obj_6dim_0.json',\n",
       " 'wfg3_2obj_6dim_1.json',\n",
       " 'wfg3_2obj_6dim_2.json',\n",
       " 'wfg3_2obj_6dim_3.json',\n",
       " 'wfg3_2obj_6dim_4.json',\n",
       " 'wfg3_2obj_6dim_5.json',\n",
       " 'wfg3_3obj_10dim_0.json',\n",
       " 'wfg3_3obj_10dim_1.json',\n",
       " 'wfg3_3obj_10dim_2.json',\n",
       " 'wfg3_3obj_10dim_3.json',\n",
       " 'wfg3_3obj_10dim_4.json',\n",
       " 'wfg3_3obj_10dim_5.json',\n",
       " 'wfg3_4obj_10dim_0.json',\n",
       " 'wfg3_4obj_10dim_1.json',\n",
       " 'wfg3_4obj_10dim_2.json',\n",
       " 'wfg3_4obj_10dim_3.json',\n",
       " 'wfg3_4obj_10dim_4.json',\n",
       " 'wfg3_4obj_10dim_5.json',\n",
       " 'wfg4_2obj_6dim_0.json',\n",
       " 'wfg4_2obj_6dim_1.json',\n",
       " 'wfg4_2obj_6dim_2.json',\n",
       " 'wfg4_2obj_6dim_3.json',\n",
       " 'wfg4_2obj_6dim_4.json',\n",
       " 'wfg4_2obj_6dim_5.json',\n",
       " 'wfg4_3obj_8dim_0.json',\n",
       " 'wfg4_3obj_8dim_1.json',\n",
       " 'wfg4_3obj_8dim_2.json',\n",
       " 'wfg4_3obj_8dim_3.json',\n",
       " 'wfg4_3obj_8dim_4.json',\n",
       " 'wfg4_3obj_8dim_5.json',\n",
       " 'wfg4_4obj_8dim_0.json',\n",
       " 'wfg4_4obj_8dim_1.json',\n",
       " 'wfg4_4obj_8dim_2.json',\n",
       " 'wfg4_4obj_8dim_3.json',\n",
       " 'wfg4_4obj_8dim_4.json',\n",
       " 'wfg4_4obj_8dim_5.json',\n",
       " 'wfg5_2obj_6dim_0.json',\n",
       " 'wfg5_2obj_6dim_1.json',\n",
       " 'wfg5_2obj_6dim_2.json',\n",
       " 'wfg5_2obj_6dim_3.json',\n",
       " 'wfg5_2obj_6dim_4.json',\n",
       " 'wfg5_2obj_6dim_5.json',\n",
       " 'wfg5_3obj_8dim_0.json',\n",
       " 'wfg5_3obj_8dim_1.json',\n",
       " 'wfg5_3obj_8dim_2.json',\n",
       " 'wfg5_3obj_8dim_3.json',\n",
       " 'wfg5_3obj_8dim_4.json',\n",
       " 'wfg5_3obj_8dim_5.json',\n",
       " 'wfg5_4obj_10dim_0.json',\n",
       " 'wfg5_4obj_10dim_1.json',\n",
       " 'wfg5_4obj_10dim_2.json',\n",
       " 'wfg5_4obj_10dim_3.json',\n",
       " 'wfg5_4obj_10dim_4.json',\n",
       " 'wfg5_4obj_10dim_5.json',\n",
       " 'wfg6_2obj_6dim_0.json',\n",
       " 'wfg6_2obj_6dim_1.json',\n",
       " 'wfg6_2obj_6dim_2.json',\n",
       " 'wfg6_2obj_6dim_3.json',\n",
       " 'wfg6_2obj_6dim_4.json',\n",
       " 'wfg6_2obj_6dim_5.json',\n",
       " 'wfg6_3obj_8dim_0.json',\n",
       " 'wfg6_3obj_8dim_1.json',\n",
       " 'wfg6_3obj_8dim_2.json',\n",
       " 'wfg6_3obj_8dim_3.json',\n",
       " 'wfg6_3obj_8dim_4.json',\n",
       " 'wfg6_3obj_8dim_5.json',\n",
       " 'wfg6_4obj_10dim_0.json',\n",
       " 'wfg6_4obj_10dim_1.json',\n",
       " 'wfg6_4obj_10dim_2.json',\n",
       " 'wfg6_4obj_10dim_3.json',\n",
       " 'wfg6_4obj_10dim_4.json',\n",
       " 'wfg6_4obj_10dim_5.json']"
      ]
     },
     "execution_count": 137,
     "metadata": {},
     "output_type": "execute_result"
    }
   ],
   "source": [
    "RESULT_FILES_LIST"
   ]
  },
  {
   "cell_type": "code",
   "execution_count": 138,
   "id": "426cf54d",
   "metadata": {},
   "outputs": [
    {
     "data": {
      "text/plain": [
       "['wfg1_2obj_3dim_0.json',\n",
       " 'wfg1_2obj_3dim_1.json',\n",
       " 'wfg1_2obj_3dim_2.json',\n",
       " 'wfg1_2obj_3dim_3.json',\n",
       " 'wfg1_2obj_3dim_4.json',\n",
       " 'wfg1_2obj_3dim_5.json',\n",
       " 'wfg1_3obj_4dim_0.json',\n",
       " 'wfg1_3obj_4dim_1.json',\n",
       " 'wfg1_3obj_4dim_2.json',\n",
       " 'wfg1_3obj_4dim_3.json',\n",
       " 'wfg1_3obj_4dim_4.json',\n",
       " 'wfg1_3obj_4dim_5.json',\n",
       " 'wfg1_4obj_5dim_0.json',\n",
       " 'wfg1_4obj_5dim_1.json',\n",
       " 'wfg1_4obj_5dim_2.json',\n",
       " 'wfg1_4obj_5dim_3.json',\n",
       " 'wfg1_4obj_5dim_4.json',\n",
       " 'wfg1_4obj_5dim_5.json',\n",
       " 'wfg2_2obj_6dim_0.json',\n",
       " 'wfg2_2obj_6dim_1.json',\n",
       " 'wfg2_2obj_6dim_2.json',\n",
       " 'wfg2_2obj_6dim_3.json',\n",
       " 'wfg2_2obj_6dim_4.json',\n",
       " 'wfg2_2obj_6dim_5.json',\n",
       " 'wfg2_3obj_6dim_0.json',\n",
       " 'wfg2_3obj_6dim_1.json',\n",
       " 'wfg2_3obj_6dim_2.json',\n",
       " 'wfg2_3obj_6dim_3.json',\n",
       " 'wfg2_3obj_6dim_4.json',\n",
       " 'wfg2_3obj_6dim_5.json',\n",
       " 'wfg2_4obj_10dim_0.json',\n",
       " 'wfg2_4obj_10dim_1.json',\n",
       " 'wfg2_4obj_10dim_2.json',\n",
       " 'wfg2_4obj_10dim_3.json',\n",
       " 'wfg2_4obj_10dim_4.json',\n",
       " 'wfg2_4obj_10dim_5.json',\n",
       " 'wfg3_2obj_6dim_0.json',\n",
       " 'wfg3_2obj_6dim_1.json',\n",
       " 'wfg3_2obj_6dim_2.json',\n",
       " 'wfg3_2obj_6dim_3.json',\n",
       " 'wfg3_2obj_6dim_4.json',\n",
       " 'wfg3_2obj_6dim_5.json',\n",
       " 'wfg3_3obj_10dim_0.json',\n",
       " 'wfg3_3obj_10dim_1.json',\n",
       " 'wfg3_3obj_10dim_2.json',\n",
       " 'wfg3_3obj_10dim_3.json',\n",
       " 'wfg3_3obj_10dim_4.json',\n",
       " 'wfg3_3obj_10dim_5.json',\n",
       " 'wfg3_4obj_10dim_0.json',\n",
       " 'wfg3_4obj_10dim_1.json',\n",
       " 'wfg3_4obj_10dim_2.json',\n",
       " 'wfg3_4obj_10dim_3.json',\n",
       " 'wfg3_4obj_10dim_4.json',\n",
       " 'wfg3_4obj_10dim_5.json',\n",
       " 'wfg4_2obj_6dim_0.json',\n",
       " 'wfg4_2obj_6dim_1.json',\n",
       " 'wfg4_2obj_6dim_2.json',\n",
       " 'wfg4_2obj_6dim_3.json',\n",
       " 'wfg4_2obj_6dim_4.json',\n",
       " 'wfg4_2obj_6dim_5.json',\n",
       " 'wfg4_3obj_8dim_0.json',\n",
       " 'wfg4_3obj_8dim_1.json',\n",
       " 'wfg4_3obj_8dim_2.json',\n",
       " 'wfg4_3obj_8dim_3.json',\n",
       " 'wfg4_3obj_8dim_4.json',\n",
       " 'wfg4_3obj_8dim_5.json',\n",
       " 'wfg4_4obj_8dim_0.json',\n",
       " 'wfg4_4obj_8dim_1.json',\n",
       " 'wfg4_4obj_8dim_2.json',\n",
       " 'wfg4_4obj_8dim_3.json',\n",
       " 'wfg4_4obj_8dim_4.json',\n",
       " 'wfg4_4obj_8dim_5.json',\n",
       " 'wfg5_2obj_6dim_0.json',\n",
       " 'wfg5_2obj_6dim_1.json',\n",
       " 'wfg5_2obj_6dim_2.json',\n",
       " 'wfg5_2obj_6dim_3.json',\n",
       " 'wfg5_2obj_6dim_4.json',\n",
       " 'wfg5_2obj_6dim_5.json',\n",
       " 'wfg5_3obj_8dim_0.json',\n",
       " 'wfg5_3obj_8dim_1.json',\n",
       " 'wfg5_3obj_8dim_2.json',\n",
       " 'wfg5_3obj_8dim_3.json',\n",
       " 'wfg5_3obj_8dim_4.json',\n",
       " 'wfg5_3obj_8dim_5.json',\n",
       " 'wfg5_4obj_10dim_0.json',\n",
       " 'wfg5_4obj_10dim_1.json',\n",
       " 'wfg5_4obj_10dim_2.json',\n",
       " 'wfg5_4obj_10dim_3.json',\n",
       " 'wfg5_4obj_10dim_4.json',\n",
       " 'wfg5_4obj_10dim_5.json',\n",
       " 'wfg6_2obj_6dim_0.json',\n",
       " 'wfg6_2obj_6dim_1.json',\n",
       " 'wfg6_2obj_6dim_2.json',\n",
       " 'wfg6_2obj_6dim_3.json',\n",
       " 'wfg6_2obj_6dim_4.json',\n",
       " 'wfg6_2obj_6dim_5.json',\n",
       " 'wfg6_3obj_8dim_0.json',\n",
       " 'wfg6_3obj_8dim_1.json',\n",
       " 'wfg6_3obj_8dim_2.json',\n",
       " 'wfg6_3obj_8dim_3.json',\n",
       " 'wfg6_3obj_8dim_4.json',\n",
       " 'wfg6_3obj_8dim_5.json',\n",
       " 'wfg6_4obj_10dim_0.json',\n",
       " 'wfg6_4obj_10dim_1.json',\n",
       " 'wfg6_4obj_10dim_2.json',\n",
       " 'wfg6_4obj_10dim_3.json',\n",
       " 'wfg6_4obj_10dim_4.json',\n",
       " 'wfg6_4obj_10dim_5.json']"
      ]
     },
     "execution_count": 138,
     "metadata": {},
     "output_type": "execute_result"
    }
   ],
   "source": [
    "SAF_FILES_LIST"
   ]
  },
  {
   "cell_type": "code",
   "execution_count": 483,
   "id": "c2087d63",
   "metadata": {},
   "outputs": [
    {
     "name": "stdout",
     "output_type": "stream",
     "text": [
      "wfg5_4obj_10dim_1.json\n",
      "wfg5_4obj_10dim_1.json\n"
     ]
    }
   ],
   "source": [
    "n_ = 85\n",
    "seed = 3\n",
    "print(RESULT_FILES_LIST[n_])\n",
    "print(SAF_FILES_LIST[n_])"
   ]
  },
  {
   "cell_type": "code",
   "execution_count": 484,
   "id": "01059b77",
   "metadata": {},
   "outputs": [],
   "source": [
    "result_parego = load_result(RESULT_FILES_LIST[n_], PATH_TO_PROCESSED_RESULTS)\n",
    "result_saf = load_result(SAF_FILES_LIST[n_], PATH_TO_SAF_RESULTS)"
   ]
  },
  {
   "cell_type": "code",
   "execution_count": 487,
   "id": "74047929",
   "metadata": {},
   "outputs": [
    {
     "data": {
      "text/plain": [
       "<matplotlib.legend.Legend at 0x7fc840b84370>"
      ]
     },
     "execution_count": 487,
     "metadata": {},
     "output_type": "execute_result"
    }
   ],
   "source": [
    "fig= plt.figure()\n",
    "ax = fig.gca()\n",
    "\n",
    "ax.plot(result_saf.dual_hpv_hist_x, np.median(result_saf.dual_hpv_history[0][:], axis=0), c=\"C0\", label=\"dsaf\")\n",
    "# ax.plot(result.dual_hpv_hist_x, np.mean(result_saf.dual_hpvref_history[0][:], axis=0), c=\"C1\", label=\"saf\")\n",
    "ax.plot(result_parego.dual_hpv_hist_x, np.median(result_parego.dual_hpv_history[0][:], axis=0), c=\"C2\", label=\"parego\")\n",
    "ax.legend()"
   ]
  },
  {
   "cell_type": "code",
   "execution_count": 486,
   "id": "df318ee6",
   "metadata": {},
   "outputs": [
    {
     "name": "stderr",
     "output_type": "stream",
     "text": [
      "/tmp/ipykernel_40722/2830587575.py:4: MatplotlibDeprecationWarning: Calling gca() with keyword arguments was deprecated in Matplotlib 3.4. Starting two minor releases later, gca() will take no keyword arguments. The gca() function should only be used to get the current axes, or if no axes exist, create new axes with default keyword arguments. To create a new axes with non-default arguments, use plt.axes() or plt.subplot().\n",
      "  ax = fig.gca(projection=\"3d\")\n",
      "/home/finley/.local/lib/python3.8/site-packages/mpl_toolkits/mplot3d/art3d.py:900: FutureWarning: elementwise comparison failed; returning scalar instead, but in the future will perform elementwise comparison\n",
      "  if zdir == 'x':\n",
      "/home/finley/.local/lib/python3.8/site-packages/mpl_toolkits/mplot3d/art3d.py:902: FutureWarning: elementwise comparison failed; returning scalar instead, but in the future will perform elementwise comparison\n",
      "  elif zdir == 'y':\n"
     ]
    },
    {
     "data": {
      "text/plain": [
       "<mpl_toolkits.mplot3d.art3d.Path3DCollection at 0x7fc840d85190>"
      ]
     },
     "execution_count": 486,
     "metadata": {},
     "output_type": "execute_result"
    }
   ],
   "source": [
    "%matplotlib qt\n",
    "fig= plt.figure()\n",
    "# ax = fig.gca()\n",
    "ax = fig.gca(projection=\"3d\")\n",
    "ax.scatter(*result_saf[seed].y.T, c=\"C0\", alpha=0.3)\n",
    "ax.scatter(*result_parego[seed].y.T, c=\"C1\", alpha=0.3)\n",
    "ax.scatter(*result_saf[seed].targets.T, c=\"magenta\")"
   ]
  },
  {
   "cell_type": "code",
   "execution_count": 376,
   "id": "49a5a5c4",
   "metadata": {},
   "outputs": [
    {
     "data": {
      "text/plain": [
       "(150, 2)"
      ]
     },
     "execution_count": 376,
     "metadata": {},
     "output_type": "execute_result"
    }
   ],
   "source": [
    "result_saf[seed].y.shape"
   ]
  },
  {
   "cell_type": "code",
   "execution_count": null,
   "id": "88e0b4d9",
   "metadata": {},
   "outputs": [],
   "source": []
  }
 ],
 "metadata": {
  "kernelspec": {
   "display_name": "testsuite",
   "language": "python",
   "name": "testsuite"
  },
  "language_info": {
   "codemirror_mode": {
    "name": "ipython",
    "version": 3
   },
   "file_extension": ".py",
   "mimetype": "text/x-python",
   "name": "python",
   "nbconvert_exporter": "python",
   "pygments_lexer": "ipython3",
   "version": "3.8.3"
  }
 },
 "nbformat": 4,
 "nbformat_minor": 5
}
