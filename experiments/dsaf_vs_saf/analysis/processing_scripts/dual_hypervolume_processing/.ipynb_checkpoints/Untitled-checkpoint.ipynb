{
 "cells": [
  {
   "cell_type": "code",
   "execution_count": 1,
   "metadata": {},
   "outputs": [],
   "source": [
    "import os\n",
    "import sys\n",
    "import rootpath\n",
    "sys.path.append(rootpath.detect())\n",
    "%config Completer.use_jedi = False"
   ]
  },
  {
   "cell_type": "code",
   "execution_count": 2,
   "metadata": {},
   "outputs": [],
   "source": [
    "import matplotlib.pyplot as plt\n",
    "import numpy as np\n",
    "import json"
   ]
  },
  {
   "cell_type": "code",
   "execution_count": 3,
   "metadata": {},
   "outputs": [],
   "source": [
    "from tqdm import tqdm"
   ]
  },
  {
   "cell_type": "code",
   "execution_count": 4,
   "metadata": {},
   "outputs": [],
   "source": [
    "import wfg\n",
    "from testsuite.analysis_tools import draw_samples, attainment_sample, get_target_dict\n",
    "from testsuite.utilities import KDTree_distance, dominates\n",
    "from itertools import groupby"
   ]
  },
  {
   "cell_type": "code",
   "execution_count": 23,
   "metadata": {},
   "outputs": [],
   "source": [
    "def draw_points_which_dominate_target(func, n_obj, n_dim, n_to_draw, t):\n",
    "    P_x, P_y = np.zeros((0, n_dim)), np.zeros((0, n_obj))\n",
    "    pbar = tqdm(total=n_to_draw)\n",
    "    while P_y.shape[0]<n_to_draw:\n",
    "        pareto_x, pareto_y = draw_samples(func, n_obj, n_dim, 1000, bar=False)\n",
    "        box_l, box_u = find_box(pareto_y, t)\n",
    "        inbox_inds, outbox_inds = in_box(pareto_y, box_l, box_u);\n",
    "        pareto_x, pareto_y = pareto_x[inbox_inds], pareto_y[inbox_inds]\n",
    "        P_x = np.vstack([P_x, pareto_x])\n",
    "        P_y = np.vstack([P_y, pareto_y])\n",
    "        if P_y.shape[0]<=n_to_draw:\n",
    "            pbar.update(pareto_y.shape[0]);\n",
    "        else:\n",
    "            n = pareto_y.shape[0]-(P_y.shape[0]-n_to_draw)\n",
    "            pbar.update(n);\n",
    "    return P_x[:n_to_draw], P_y[:n_to_draw]\n",
    "\n",
    "def find_box(P, t):\n",
    "    n_dim = P.shape[1]\n",
    "    stack = []\n",
    "    for dim in range(n_dim):\n",
    "        P_ = P[np.argsort(P[:,dim])]\n",
    "        dominated = np.where([dominates(pi, t)[0] for pi in P_])[0]\n",
    "        \n",
    "        # check contigous\n",
    "        try:\n",
    "            l_dim, u_dim = int(dominated.min()-1), int(dominated.max()+1)\n",
    "            l = P_[l_dim]\n",
    "            u = P_[u_dim]\n",
    "            stack.append([u, l])\n",
    "        except ValueError:\n",
    "            # if no points drawn are dominated. \n",
    "            stack.append([t, t])\n",
    "    stack = np.vstack(stack)\n",
    "    return stack.min(axis=0), t# stack.max(axis=0)\n",
    "        \n",
    "def in_box(p, box_l, box_u):\n",
    "    inds = np.all(np.logical_and(p>box_l, p<box_u),axis=1)\n",
    "    return inds, np.logical_not(inds)"
   ]
  },
  {
   "cell_type": "code",
   "execution_count": 6,
   "metadata": {},
   "outputs": [],
   "source": [
    "# config variables\n",
    "n_prob = 1\n",
    "n_obj = 2\n",
    "n_dim = 3\n",
    "n_target = 2"
   ]
  },
  {
   "cell_type": "code",
   "execution_count": 7,
   "metadata": {},
   "outputs": [],
   "source": [
    "# load targets\n",
    "D_targets = get_target_dict()"
   ]
  },
  {
   "cell_type": "code",
   "execution_count": 8,
   "metadata": {},
   "outputs": [
    {
     "data": {
      "text/plain": [
       "<function wfg.WFG1>"
      ]
     },
     "execution_count": 8,
     "metadata": {},
     "output_type": "execute_result"
    }
   ],
   "source": [
    "# func config\n",
    "func = getattr(wfg, f\"WFG{n_prob}\")\n",
    "func"
   ]
  },
  {
   "cell_type": "code",
   "execution_count": 9,
   "metadata": {},
   "outputs": [
    {
     "name": "stdout",
     "output_type": "stream",
     "text": [
      " [0.354 3.139]\n",
      " [0.393 3.487]\n",
      "\u001b[1m [0.433 3.836] \u001b[0m \t <-target\n",
      " [1.508 0.979]\n",
      " [1.675 1.088]\n",
      " [1.843 1.197]\n"
     ]
    }
   ],
   "source": [
    "targets = D_targets[f\"wfg{n_prob}_{n_obj}obj_{n_dim}dim\"]\n",
    "target = targets[n_target]\n",
    "for t in targets:\n",
    "    if not np.array_equal(t, target):\n",
    "        print(\"\",t)\n",
    "    else:\n",
    "        print(\"\\033[1m\", t, '\\033[0m \\t <-target')"
   ]
  },
  {
   "cell_type": "code",
   "execution_count": 31,
   "metadata": {},
   "outputs": [
    {
     "name": "stderr",
     "output_type": "stream",
     "text": [
      "\n",
      "\n",
      "\n",
      "\n",
      "\n",
      "\n",
      "\n",
      "100%|██████████| 500/500 [00:00<00:00, 73885.01it/s][A\u001b[A\u001b[A\n"
     ]
    }
   ],
   "source": [
    "pareto_x, pareto_y = draw_samples(func, 2, 3, 500, bar=True)"
   ]
  },
  {
   "cell_type": "code",
   "execution_count": 32,
   "metadata": {},
   "outputs": [],
   "source": [
    "box_l, box_u = find_box(pareto_y, target)\n",
    "inbox_inds, outbox_inds = in_box(pareto_y, box_l, box_u) "
   ]
  },
  {
   "cell_type": "code",
   "execution_count": 34,
   "metadata": {
    "scrolled": false
   },
   "outputs": [
    {
     "data": {
      "text/plain": [
       "<matplotlib.collections.PathCollection at 0x7f9df1c6cf10>"
      ]
     },
     "execution_count": 34,
     "metadata": {},
     "output_type": "execute_result"
    },
    {
     "data": {
      "image/png": "[encoded data removed]",
      "text/plain": [
       "<Figure size 720x720 with 1 Axes>"
      ]
     },
     "metadata": {
      "needs_background": "light"
     },
     "output_type": "display_data"
    }
   ],
   "source": [
    "fig = plt.figure(figsize=[10, 10])\n",
    "ax = fig.gca()\n",
    "ax.scatter(*pareto_y[inbox_inds].T, s=5, c=\"C3\")\n",
    "ax.scatter(*pareto_y[outbox_inds].T, s=5, c=\"C0\")\n",
    "ax.scatter(*target, s=10, c=\"magenta\")\n",
    "ax.scatter(*box_l, s=10, c=\"cyan\")\n",
    "ax.scatter(*box_u, s=10, c=\"cyan\")"
   ]
  },
  {
   "cell_type": "code",
   "execution_count": 35,
   "metadata": {},
   "outputs": [
    {
     "name": "stderr",
     "output_type": "stream",
     "text": [
      " 95%|█████████▍| 947/1000 [00:00<00:00, 3668.37it/s]"
     ]
    }
   ],
   "source": [
    "P_x, P_y = draw_points_which_dominate_target(func, 2, 3, 1000, target);"
   ]
  },
  {
   "cell_type": "code",
   "execution_count": 36,
   "metadata": {
    "scrolled": false
   },
   "outputs": [
    {
     "name": "stderr",
     "output_type": "stream",
     "text": [
      "100%|██████████| 1000/1000 [00:04<00:00, 249.12it/s]\n"
     ]
    },
    {
     "data": {
      "text/plain": [
       "(3.0, 4.0)"
      ]
     },
     "execution_count": 36,
     "metadata": {},
     "output_type": "execute_result"
    },
    {
     "data": {
      "image/png": "[encoded data removed]",
      "text/plain": [
       "<Figure size 720x720 with 1 Axes>"
      ]
     },
     "metadata": {
      "needs_background": "light"
     },
     "output_type": "display_data"
    }
   ],
   "source": [
    "fig = plt.figure(figsize=[10, 10])\n",
    "ax = fig.gca()\n",
    "ax.scatter(*P_y.T, s=2, c=\"C3\")\n",
    "ax.scatter(*pareto_y[outbox_inds].T, s=2, c=\"C0\")\n",
    "ax.scatter(*target, s=10, c=\"magenta\")\n",
    "ax.scatter(*box_l, s=10, c=\"cyan\")\n",
    "ax.scatter(*box_u, s=10, c=\"cyan\")\n",
    "ax.set_xlim([0.25, 0.5])\n",
    "ax.set_ylim([3, 4])"
   ]
  },
  {
   "cell_type": "markdown",
   "metadata": {},
   "source": [
    "### 3D"
   ]
  },
  {
   "cell_type": "code",
   "execution_count": 37,
   "metadata": {},
   "outputs": [],
   "source": [
    "# config variables\n",
    "n_prob = 1\n",
    "n_obj = 3\n",
    "n_dim = 4\n",
    "n_target = 2"
   ]
  },
  {
   "cell_type": "code",
   "execution_count": 38,
   "metadata": {},
   "outputs": [
    {
     "name": "stdout",
     "output_type": "stream",
     "text": [
      " [0.332 1.352 1.308]\n",
      " [0.369 1.502 1.453]\n",
      "\u001b[1m [0.406 1.652 1.599] \u001b[0m \t <-target\n",
      " [0.805 0.31  1.894]\n",
      " [0.895 0.345 2.104]\n",
      " [0.984 0.379 2.314]\n"
     ]
    }
   ],
   "source": [
    "targets = D_targets[f\"wfg{n_prob}_{n_obj}obj_{n_dim}dim\"]\n",
    "target = targets[n_target]\n",
    "for t in targets:\n",
    "    if not np.array_equal(t, target):\n",
    "        print(\"\",t)\n",
    "    else:\n",
    "        print(\"\\033[1m\", t, '\\033[0m \\t <-target')"
   ]
  },
  {
   "cell_type": "code",
   "execution_count": 39,
   "metadata": {
    "scrolled": true
   },
   "outputs": [
    {
     "name": "stderr",
     "output_type": "stream",
     "text": [
      "100%|██████████| 10000/10000 [01:34<00:00, 34.18it/s]"
     ]
    }
   ],
   "source": [
    "P_x, P_y = draw_points_which_dominate_target(func, n_obj, n_dim, 10000, target)"
   ]
  },
  {
   "cell_type": "code",
   "execution_count": 42,
   "metadata": {},
   "outputs": [
    {
     "name": "stderr",
     "output_type": "stream",
     "text": [
      "\n",
      "  0%|          | 0/10000 [00:00<?, ?it/s]\u001b[A\n",
      "100%|██████████| 10000/10000 [00:00<00:00, 87547.49it/s][A\n"
     ]
    },
    {
     "data": {
      "text/plain": [
       "(10000, 3)"
      ]
     },
     "execution_count": 42,
     "metadata": {},
     "output_type": "execute_result"
    }
   ],
   "source": [
    "pareto_x, pareto_y = draw_samples(func, n_obj, n_dim, 10000);\n",
    "pareto_y.shape"
   ]
  },
  {
   "cell_type": "code",
   "execution_count": 43,
   "metadata": {},
   "outputs": [
    {
     "name": "stdout",
     "output_type": "stream",
     "text": [
      "[0.2100784  0.3576841  1.39490708]\n",
      "[0.406 1.652 1.599]\n"
     ]
    }
   ],
   "source": [
    "box_l, box_u = find_box(pareto_y, target)\n",
    "print(box_l)\n",
    "print(box_u)"
   ]
  },
  {
   "cell_type": "code",
   "execution_count": 44,
   "metadata": {},
   "outputs": [],
   "source": [
    "inbox_inds, outbox_inds = in_box(pareto_y, box_l, box_u);"
   ]
  },
  {
   "cell_type": "code",
   "execution_count": 45,
   "metadata": {},
   "outputs": [],
   "source": [
    "dom_inds = np.asarray([dominates(pi, target)[0] for pi in pareto_y])"
   ]
  },
  {
   "cell_type": "code",
   "execution_count": 46,
   "metadata": {},
   "outputs": [
    {
     "name": "stdout",
     "output_type": "stream",
     "text": [
      "40\n",
      "40\n"
     ]
    }
   ],
   "source": [
    "print(sum(inbox_inds))\n",
    "print(sum(dom_inds))"
   ]
  },
  {
   "cell_type": "code",
   "execution_count": 47,
   "metadata": {},
   "outputs": [
    {
     "name": "stdout",
     "output_type": "stream",
     "text": [
      "(10000,)\n",
      "(10000,)\n"
     ]
    }
   ],
   "source": [
    "print(inbox_inds.shape)\n",
    "print(dom_inds.shape)"
   ]
  },
  {
   "cell_type": "code",
   "execution_count": 50,
   "metadata": {},
   "outputs": [
    {
     "data": {
      "text/plain": [
       "(1.1112252456834408, 1.7588686068971557)"
      ]
     },
     "execution_count": 50,
     "metadata": {},
     "output_type": "execute_result"
    }
   ],
   "source": [
    "%matplotlib qt\n",
    "\n",
    "fig = plt.figure(figsize=[10, 10])\n",
    "ax = fig.gca(projection=\"3d\")\n",
    "# ax.scatter(*pareto_y[inbox_inds].T, s=2, c=\"C3\")\n",
    "ax.scatter(*P_y.T, s=2, c=\"C3\")\n",
    "ax.scatter(*pareto_y[outbox_inds].T, s=2, c=\"C0\")\n",
    "ax.scatter(*target, s=10, c=\"magenta\")\n",
    "ax.scatter(*box_l, s=10, c=\"cyan\")\n",
    "ax.scatter(*box_u, s=10, c=\"cyan\")\n",
    "\n",
    "ax.set_xlim(P_y.min(axis=0)[0]*0.8, P_y.max(axis=0)[0]*1.1)\n",
    "ax.set_ylim(P_y.min(axis=0)[1]*0.8, P_y.max(axis=0)[1]*1.1)\n",
    "ax.set_zlim(P_y.min(axis=0)[2]*0.8, P_y.max(axis=0)[2]*1.1)"
   ]
  },
  {
   "cell_type": "code",
   "execution_count": null,
   "metadata": {},
   "outputs": [],
   "source": []
  }
 ],
 "metadata": {
  "kernelspec": {
   "display_name": "testsuite",
   "language": "python",
   "name": "testsuite"
  },
  "language_info": {
   "codemirror_mode": {
    "name": "ipython",
    "version": 3
   },
   "file_extension": ".py",
   "mimetype": "text/x-python",
   "name": "python",
   "nbconvert_exporter": "python",
   "pygments_lexer": "ipython3",
   "version": "3.8.3"
  }
 },
 "nbformat": 4,
 "nbformat_minor": 4
}
