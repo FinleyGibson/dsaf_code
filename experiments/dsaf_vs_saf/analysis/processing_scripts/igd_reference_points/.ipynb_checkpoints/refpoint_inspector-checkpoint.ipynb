{
 "cells": [
  {
   "cell_type": "code",
   "execution_count": 1,
   "metadata": {},
   "outputs": [],
   "source": [
    "import rootpath\n",
    "import os\n",
    "import sys\n",
    "sys.path.append(rootpath.detect())\n",
    "\n",
    "import json \n",
    "import numpy as np\n",
    "import wfg\n",
    "import time\n",
    "import matplotlib.pyplot as plt\n",
    "\n",
    "from IPython.display import Markdown as md\n",
    "from testsuite.analysis_tools import strip_problem_names, draw_samples, get_igd_refpoint_dict, get_target_dict, dominates, attainment_sample, find_neighbours\n",
    "from testsuite.utilities import PROBLEM_CONFIGURATIONS\n",
    "\n",
    "%matplotlib qt"
   ]
  },
  {
   "cell_type": "code",
   "execution_count": 2,
   "metadata": {},
   "outputs": [],
   "source": [
    "def generate_nonuniform_samples(name, n_samples):\n",
    "    n_prob, n_obj, n_dim = strip_problem_names(name)\n",
    "    problem = getattr(wfg, f\"WFG{n_prob}\") \n",
    "    return draw_samples(problem, n_obj, n_dim, n_samples, False, True)\n",
    "\n",
    "def target_from_dict(D, t):\n",
    "    try:\n",
    "        return D[t]\n",
    "    except KeyError:\n",
    "        prob, obj, dim = strip_problem_names(t)\n",
    "        return D[f'ellipsoid_{obj}obj']\n",
    "        \n",
    "\n",
    "def plot_2d(samples_y, uniform_y):\n",
    "    fig = plt.figure(figsize=[8,8])\n",
    "    ax = fig.gca()\n",
    "    ax.scatter(*samples_y.T, c=\"C0\", s=15, alpha=0.2)\n",
    "    ax.scatter(*uniform_y.T, c=\"C3\", s=2, alpha=1.0)\n",
    "    ax.set_xlabel(\"x\")\n",
    "    ax.set_ylabel(\"y\")\n",
    "    return fig\n",
    "\n",
    "def plot_3d(samples_y, uniform_y):\n",
    "    fig = plt.figure(figsize=[8,8])\n",
    "    ax = fig.gca(projection=\"3d\")\n",
    "    ax.scatter(*samples_y.T, c=\"C0\", s=15, alpha=0.2)\n",
    "    ax.scatter(*uniform_y.T, c=\"C3\", s=2, alpha=1.0)\n",
    "    ax.set_xlabel(\"x\")\n",
    "    ax.set_ylabel(\"y\")\n",
    "    ax.set_zlabel(\"z\")\n",
    "    return fig\n",
    "\n",
    "def plot_4d(samples_y, uniform_y):\n",
    "    fig = plt.figure(figsize=[8,8])\n",
    "    ax = fig.gca(projection=\"3d\")\n",
    "    ax.scatter(*samples_y[:, :3].T, c=\"C0\", s=8, alpha=0.3)\n",
    "    ax.scatter(*uniform_y[:, :3].T, c=\"C3\", s=2, alpha=1.0)\n",
    "    return fig\n",
    "    \n",
    "\n",
    "def plot_igd_points(problem_name):\n",
    "    \n",
    "    prob, obj, dim = strip_problem_names(problem_name)\n",
    "    prob = getattr(wfg, f\"WFG{prob}\")\n",
    "    print(problem_name, f\"\\t:\\t function {prob}, obj {obj}, dims {dim}\")\n",
    "    \n",
    "    print(f\"drawing {N_POINTS[obj]} random samples.\")\n",
    "    samples_x, samples_y = draw_samples(func=prob, n_obj=obj, n_dim=dim, n_samples=N_POINTS[obj], random=False)\n",
    "    \n",
    "    uniform_y = np.asarray(refpoint_dict[problem_name])\n",
    "    \n",
    "    if obj == 2:\n",
    "        fig = plot_2d(samples_y, uniform_y)\n",
    "    elif obj == 3:\n",
    "        fig = plot_3d(samples_y, uniform_y)\n",
    "    elif obj == 4:\n",
    "        fig = plot_4d(samples_y, uniform_y)\n",
    "    return fig"
   ]
  },
  {
   "cell_type": "code",
   "execution_count": 3,
   "metadata": {},
   "outputs": [],
   "source": [
    "D_igd = get_igd_refpoint_dict()\n",
    "D_targets = get_target_dict()"
   ]
  },
  {
   "cell_type": "markdown",
   "metadata": {},
   "source": [
    "steps:\n",
    "\n",
    "    - Draw non-uniform samples: many\n",
    "    \n",
    "    - find those which dominate target \n",
    "    \n",
    "    - attainment sample these\n",
    "    \n",
    "    - attainment sample diff"
   ]
  },
  {
   "cell_type": "code",
   "execution_count": 4,
   "metadata": {},
   "outputs": [
    {
     "data": {
      "text/plain": [
       "'wfg1_2obj_3dim'"
      ]
     },
     "execution_count": 4,
     "metadata": {},
     "output_type": "execute_result"
    }
   ],
   "source": [
    "problem = PROBLEM_CONFIGURATIONS[0]\n",
    "targets = D_targets[problem]\n",
    "problem"
   ]
  },
  {
   "cell_type": "code",
   "execution_count": 5,
   "metadata": {},
   "outputs": [],
   "source": [
    "problem = \"wfg4_3obj_4dim\""
   ]
  },
  {
   "cell_type": "code",
   "execution_count": 6,
   "metadata": {},
   "outputs": [],
   "source": [
    "targets = D_targets[\"wfg4_3obj_8dim\"]"
   ]
  },
  {
   "cell_type": "code",
   "execution_count": 7,
   "metadata": {},
   "outputs": [
    {
     "name": "stderr",
     "output_type": "stream",
     "text": [
      "100%|████████████████████████████████████████████████████████████████████████████████████████████████████████████████████████████████████████████████████████| 1000000/1000000 [00:04<00:00, 202087.64it/s]\n"
     ]
    }
   ],
   "source": [
    "P = generate_nonuniform_samples(problem, 1000000)[1]"
   ]
  },
  {
   "cell_type": "code",
   "execution_count": 110,
   "metadata": {},
   "outputs": [
    {
     "data": {
      "text/plain": [
       "'\\nto check for which of b by are dominated by ANY of a do:\\n    ans = dominates(a, b)\\n'"
      ]
     },
     "execution_count": 110,
     "metadata": {},
     "output_type": "execute_result"
    }
   ],
   "source": [
    "\"\"\"\n",
    "to check for which of b by are dominated by ANY of a do:\n",
    "    ans = dominates(a, b)\n",
    "\"\"\""
   ]
  },
  {
   "cell_type": "code",
   "execution_count": 111,
   "metadata": {},
   "outputs": [
    {
     "name": "stdout",
     "output_type": "stream",
     "text": [
      "7.915997266769409\n"
     ]
    }
   ],
   "source": [
    "tic = time.time()\n",
    "print(time.time()-tic)"
   ]
  },
  {
   "cell_type": "code",
   "execution_count": 112,
   "metadata": {},
   "outputs": [
    {
     "name": "stderr",
     "output_type": "stream",
     "text": [
      "100%|██████████████████████████████████████████████████████████████████████████████████████████████████████████████████████████████████████████████████████████████████| 5000/5000 [01:16<00:00, 65.37it/s]"
     ]
    },
    {
     "name": "stdout",
     "output_type": "stream",
     "text": [
      "76.49594902992249\n"
     ]
    },
    {
     "name": "stderr",
     "output_type": "stream",
     "text": [
      "\n"
     ]
    }
   ],
   "source": [
    "tic = time.time()\n",
    "print(time.time()-tic)"
   ]
  },
  {
   "cell_type": "code",
   "execution_count": 116,
   "metadata": {},
   "outputs": [
    {
     "name": "stderr",
     "output_type": "stream",
     "text": [
      "/tmp/ipykernel_706838/731819538.py:2: MatplotlibDeprecationWarning: Calling gca() with keyword arguments was deprecated in Matplotlib 3.4. Starting two minor releases later, gca() will take no keyword arguments. The gca() function should only be used to get the current axes, or if no axes exist, create new axes with default keyword arguments. To create a new axes with non-default arguments, use plt.axes() or plt.subplot().\n",
      "  ax = fig.gca(projection=\"3d\")\n"
     ]
    },
    {
     "data": {
      "text/plain": [
       "<mpl_toolkits.mplot3d.art3d.Path3DCollection at 0x7f20b0958040>"
      ]
     },
     "execution_count": 116,
     "metadata": {},
     "output_type": "execute_result"
    }
   ],
   "source": [
    "fig = plt.figure()\n",
    "ax = fig.gca(projection=\"3d\")\n",
    "ax.scatter(*A[:1000].T, c=\"C3\")\n",
    "ax.scatter(*P[:1000].T, c=\"C2\")"
   ]
  },
  {
   "cell_type": "code",
   "execution_count": 142,
   "metadata": {},
   "outputs": [],
   "source": [
    "from scipy.spatial import distance_matrix\n",
    "def find_selection_threshold(P ,target, show_fig=True):\n",
    "    \n",
    "    # down_sample P to only those which dominate/are dominated by targets\n",
    "    P_dom_inds = [dominates(target, ai) for ai in P]\n",
    "    P_dom = P[P_dom_inds]\n",
    "    \n",
    "    # attainment sample relevant region\n",
    "    A = attainment_sample(P_dom, 5000) \n",
    "    \n",
    "    A_max = A.max(axis=0)\n",
    "    A_min = A.min(axis=0)\n",
    "    \n",
    "    scope = np.logical_and(np.all(P>A_min, axis=1), np.all(P<A_max, axis=1))\n",
    "    \n",
    "    M = distance_matrix(A, P[scope])\n",
    "    min_distances = M.min(axis=1)\n",
    "    \n",
    "    fig = plt.figure()\n",
    "    ax = fig.gca()\n",
    "    hist_counts = ax.hist(min_distances, 200)\n",
    "    \n",
    "    counts, values, _ = hist_counts\n",
    "    \n",
    "    downhill = (counts[1:]-counts[:-1])<0\n",
    "    uphill = np.logical_not(downhill)\n",
    "    peak_inds = np.logical_and(uphill[:-1], downhill[1:])\n",
    "    peaks = values[2:-1][peak_inds]\n",
    "    thresh = peaks[1]\n",
    "    \n",
    "    ax.axvline(thresh, c=\"C3\", linestyle=\"--\")\n",
    "    if show_fig:\n",
    "        fig.show()\n",
    "    print(peaks)\n",
    "    print()\n",
    "    return A[min_distances<thresh]\n",
    "    "
   ]
  },
  {
   "cell_type": "code",
   "execution_count": 143,
   "metadata": {},
   "outputs": [
    {
     "name": "stderr",
     "output_type": "stream",
     "text": [
      "100%|█████████████████████████████████████████████████████████████████████████████████████████████████████████████████████████████████████████████████████████████████| 5000/5000 [00:14<00:00, 339.33it/s]\n"
     ]
    },
    {
     "name": "stdout",
     "output_type": "stream",
     "text": [
      "[0.00789533 0.02729273 0.03117221 0.03763801 0.04151749 0.04669013\n",
      " 0.04927644 0.05186276 0.05962172 0.06220804 0.06608752 0.06867384\n",
      " 0.07255332 0.07513964 0.07901912 0.0828986  0.08548492 0.09065756\n",
      " 0.09324388 0.09712336 0.102296   0.10746864 0.11134812 0.11652076\n",
      " 0.1216934  0.12427972 0.12686604 0.13333183 0.13850447 0.14238395\n",
      " 0.14626343 0.15014291 0.15531555 0.15790187 0.16048819 0.16824715\n",
      " 0.17083347 0.17341979 0.17729927 0.18505823 0.18764455 0.19152403\n",
      " 0.19411035 0.20057615 0.20574879 0.2083351  0.21092142 0.2148009\n",
      " 0.21868038 0.2212667  0.22385302 0.22643934 0.22902566 0.23549146\n",
      " 0.24195726 0.25100938 0.2535957  0.25618202]\n",
      "\n"
     ]
    }
   ],
   "source": [
    "A_ = find_selection_threshold(A, targets[0])"
   ]
  },
  {
   "cell_type": "code",
   "execution_count": 139,
   "metadata": {},
   "outputs": [
    {
     "data": {
      "text/plain": [
       "(4261, 3)"
      ]
     },
     "execution_count": 139,
     "metadata": {},
     "output_type": "execute_result"
    }
   ],
   "source": [
    "A_.shape"
   ]
  },
  {
   "cell_type": "code",
   "execution_count": 140,
   "metadata": {},
   "outputs": [
    {
     "name": "stderr",
     "output_type": "stream",
     "text": [
      "/tmp/ipykernel_706838/67870099.py:2: MatplotlibDeprecationWarning: Calling gca() with keyword arguments was deprecated in Matplotlib 3.4. Starting two minor releases later, gca() will take no keyword arguments. The gca() function should only be used to get the current axes, or if no axes exist, create new axes with default keyword arguments. To create a new axes with non-default arguments, use plt.axes() or plt.subplot().\n",
      "  ax = fig.gca(projection=\"3d\")\n"
     ]
    },
    {
     "data": {
      "text/plain": [
       "<mpl_toolkits.mplot3d.art3d.Path3DCollection at 0x7f206c98de80>"
      ]
     },
     "execution_count": 140,
     "metadata": {},
     "output_type": "execute_result"
    }
   ],
   "source": [
    "fig = plt.figure()\n",
    "ax = fig.gca(projection=\"3d\")\n",
    "ax.scatter(*A_.T, c=\"C3\", s=2, alpha=0.35)\n",
    "ax.scatter(*targets[0], c=\"magenta\")"
   ]
  },
  {
   "cell_type": "code",
   "execution_count": null,
   "metadata": {},
   "outputs": [],
   "source": []
  }
 ],
 "metadata": {
  "kernelspec": {
   "display_name": "testsuite",
   "language": "python",
   "name": "testsuite"
  },
  "language_info": {
   "codemirror_mode": {
    "name": "ipython",
    "version": 3
   },
   "file_extension": ".py",
   "mimetype": "text/x-python",
   "name": "python",
   "nbconvert_exporter": "python",
   "pygments_lexer": "ipython3",
   "version": "3.8.3"
  }
 },
 "nbformat": 4,
 "nbformat_minor": 4
}
