{
 "cells": [
  {
   "cell_type": "code",
   "execution_count": 1,
   "metadata": {},
   "outputs": [],
   "source": [
    "import rootpath\n",
    "import os\n",
    "import sys\n",
    "sys.path.append(rootpath.detect())\n",
    "\n",
    "import json \n",
    "import numpy as np\n",
    "import wfg\n",
    "import time\n",
    "import matplotlib.pyplot as plt\n",
    "\n",
    "from IPython.display import Markdown as md\n",
    "from testsuite.analysis_tools import strip_problem_names, draw_samples, get_igd_refpoint_dict, get_target_dict, dominates, attainment_sample, find_neighbours\n",
    "from testsuite.utilities import PROBLEM_CONFIGURATIONS\n",
    "\n",
    "%matplotlib qt"
   ]
  },
  {
   "cell_type": "code",
   "execution_count": 2,
   "metadata": {},
   "outputs": [],
   "source": [
    "def generate_nonuniform_samples(name, n_samples):\n",
    "    n_prob, n_obj, n_dim = strip_problem_names(name)\n",
    "    problem = getattr(wfg, f\"WFG{n_prob}\") \n",
    "    return draw_samples(problem, n_obj, n_dim, n_samples, False, True)\n",
    "\n",
    "def target_from_dict(D, t):\n",
    "    try:\n",
    "        return D[t]\n",
    "    except KeyError:\n",
    "        prob, obj, dim = strip_problem_names(t)\n",
    "        return D[f'ellipsoid_{obj}obj']\n",
    "        \n",
    "\n",
    "def plot_2d(samples_y, uniform_y):\n",
    "    fig = plt.figure(figsize=[8,8])\n",
    "    ax = fig.gca()\n",
    "    ax.scatter(*samples_y.T, c=\"C0\", s=15, alpha=0.2)\n",
    "    ax.scatter(*uniform_y.T, c=\"C3\", s=2, alpha=1.0)\n",
    "    ax.set_xlabel(\"x\")\n",
    "    ax.set_ylabel(\"y\")\n",
    "    return fig\n",
    "\n",
    "def plot_3d(samples_y, uniform_y):\n",
    "    fig = plt.figure(figsize=[8,8])\n",
    "    ax = fig.gca(projection=\"3d\")\n",
    "    ax.scatter(*samples_y.T, c=\"C0\", s=15, alpha=0.2)\n",
    "    ax.scatter(*uniform_y.T, c=\"C3\", s=2, alpha=1.0)\n",
    "    ax.set_xlabel(\"x\")\n",
    "    ax.set_ylabel(\"y\")\n",
    "    ax.set_zlabel(\"z\")\n",
    "    return fig\n",
    "\n",
    "def plot_4d(samples_y, uniform_y):\n",
    "    fig = plt.figure(figsize=[8,8])\n",
    "    ax = fig.gca(projection=\"3d\")\n",
    "    ax.scatter(*samples_y[:, :3].T, c=\"C0\", s=8, alpha=0.3)\n",
    "    ax.scatter(*uniform_y[:, :3].T, c=\"C3\", s=2, alpha=1.0)\n",
    "    return fig\n",
    "    \n",
    "\n",
    "def plot_igd_points(problem_name):\n",
    "    \n",
    "    prob, obj, dim = strip_problem_names(problem_name)\n",
    "    prob = getattr(wfg, f\"WFG{prob}\")\n",
    "    print(problem_name, f\"\\t:\\t function {prob}, obj {obj}, dims {dim}\")\n",
    "    \n",
    "    print(f\"drawing {N_POINTS[obj]} random samples.\")\n",
    "    samples_x, samples_y = draw_samples(func=prob, n_obj=obj, n_dim=dim, n_samples=N_POINTS[obj], random=False)\n",
    "    \n",
    "    uniform_y = np.asarray(refpoint_dict[problem_name])\n",
    "    \n",
    "    if obj == 2:\n",
    "        fig = plot_2d(samples_y, uniform_y)\n",
    "    elif obj == 3:\n",
    "        fig = plot_3d(samples_y, uniform_y)\n",
    "    elif obj == 4:\n",
    "        fig = plot_4d(samples_y, uniform_y)\n",
    "    return fig"
   ]
  },
  {
   "cell_type": "code",
   "execution_count": 3,
   "metadata": {},
   "outputs": [],
   "source": [
    "D_igd = get_igd_refpoint_dict()\n",
    "D_targets = get_target_dict()"
   ]
  },
  {
   "cell_type": "markdown",
   "metadata": {},
   "source": [
    "steps:\n",
    "\n",
    "    - Draw non-uniform samples: many\n",
    "    \n",
    "    - find those which dominate target \n",
    "    \n",
    "    - attainment sample these\n",
    "    \n",
    "    - attainment sample diff"
   ]
  },
  {
   "cell_type": "code",
   "execution_count": 4,
   "metadata": {},
   "outputs": [
    {
     "data": {
      "text/plain": [
       "'wfg1_2obj_3dim'"
      ]
     },
     "execution_count": 4,
     "metadata": {},
     "output_type": "execute_result"
    }
   ],
   "source": [
    "problem = PROBLEM_CONFIGURATIONS[0]\n",
    "targets = D_targets[problem]\n",
    "problem"
   ]
  },
  {
   "cell_type": "code",
   "execution_count": 5,
   "metadata": {},
   "outputs": [],
   "source": [
    "problem = \"wfg4_3obj_4dim\""
   ]
  },
  {
   "cell_type": "code",
   "execution_count": 6,
   "metadata": {},
   "outputs": [],
   "source": [
    "targets = D_targets[\"wfg4_3obj_8dim\"]"
   ]
  },
  {
   "cell_type": "code",
   "execution_count": 7,
   "metadata": {},
   "outputs": [
    {
     "name": "stderr",
     "output_type": "stream",
     "text": [
      "100%|█████████████████████████████████████████████████████████████████████████████████████████████████████████████████████████████| 1000000/1000000 [00:06<00:00, 144745.52it/s]\n"
     ]
    }
   ],
   "source": [
    "P = generate_nonuniform_samples(problem, 1000000)[1]"
   ]
  },
  {
   "cell_type": "code",
   "execution_count": 8,
   "metadata": {},
   "outputs": [
    {
     "data": {
      "text/plain": [
       "'\\nto check for which of b by are dominated by ANY of a do:\\n    ans = dominates(a, b)\\n'"
      ]
     },
     "execution_count": 8,
     "metadata": {},
     "output_type": "execute_result"
    }
   ],
   "source": [
    "\"\"\"\n",
    "to check for which of b by are dominated by ANY of a do:\n",
    "    ans = dominates(a, b)\n",
    "\"\"\""
   ]
  },
  {
   "cell_type": "code",
   "execution_count": 9,
   "metadata": {},
   "outputs": [
    {
     "name": "stdout",
     "output_type": "stream",
     "text": [
      "8.606910705566406e-05\n"
     ]
    }
   ],
   "source": [
    "tic = time.time()\n",
    "print(time.time()-tic)"
   ]
  },
  {
   "cell_type": "code",
   "execution_count": 10,
   "metadata": {},
   "outputs": [
    {
     "name": "stdout",
     "output_type": "stream",
     "text": [
      "8.916854858398438e-05\n"
     ]
    }
   ],
   "source": [
    "tic = time.time()\n",
    "print(time.time()-tic)"
   ]
  },
  {
   "cell_type": "code",
   "execution_count": 17,
   "metadata": {},
   "outputs": [
    {
     "name": "stderr",
     "output_type": "stream",
     "text": [
      "100%|█████████████████████████████████████████████████████████████████████████████████████████████████████████████████████████████████████████| 500/500 [00:09<00:00, 52.13it/s]\n",
      "/tmp/ipykernel_733726/3785946284.py:21: MatplotlibDeprecationWarning: Calling gca() with keyword arguments was deprecated in Matplotlib 3.4. Starting two minor releases later, gca() will take no keyword arguments. The gca() function should only be used to get the current axes, or if no axes exist, create new axes with default keyword arguments. To create a new axes with non-default arguments, use plt.axes() or plt.subplot().\n",
      "  ax = fig.gca(projection=\"3d\")\n"
     ]
    },
    {
     "ename": "ValueError",
     "evalue": "too many values to unpack (expected 2)",
     "output_type": "error",
     "traceback": [
      "\u001b[0;31m---------------------------------------------------------------------------\u001b[0m",
      "\u001b[0;31mValueError\u001b[0m                                Traceback (most recent call last)",
      "\u001b[0;32m/tmp/ipykernel_733726/3785946284.py\u001b[0m in \u001b[0;36m<module>\u001b[0;34m\u001b[0m\n\u001b[1;32m     43\u001b[0m \u001b[0;34m\u001b[0m\u001b[0m\n\u001b[1;32m     44\u001b[0m \u001b[0;34m\u001b[0m\u001b[0m\n\u001b[0;32m---> 45\u001b[0;31m \u001b[0mA_\u001b[0m\u001b[0;34m,\u001b[0m \u001b[0mA_f\u001b[0m \u001b[0;34m=\u001b[0m \u001b[0mfind_selection_threshold\u001b[0m\u001b[0;34m(\u001b[0m\u001b[0mP\u001b[0m\u001b[0;34m,\u001b[0m \u001b[0mtargets\u001b[0m\u001b[0;34m[\u001b[0m\u001b[0;36m0\u001b[0m\u001b[0;34m]\u001b[0m\u001b[0;34m)\u001b[0m\u001b[0;34m\u001b[0m\u001b[0;34m\u001b[0m\u001b[0m\n\u001b[0m",
      "\u001b[0;31mValueError\u001b[0m: too many values to unpack (expected 2)"
     ]
    }
   ],
   "source": [
    "from scipy.spatial import distance_matrix\n",
    "from scipy.ndimage.filters import gaussian_filter\n",
    "def find_selection_threshold(P ,target, show_fig=True):\n",
    "    \n",
    "    # down_sample P to only those which dominate/are dominated by targets\n",
    "    P_dom_inds = [dominates(target, ai) for ai in P]\n",
    "    P_dom = P[P_dom_inds]\n",
    "    \n",
    "    # attainment sample relevant region\n",
    "    A = attainment_sample(P_dom, 500) \n",
    "    \n",
    "    A_max = A.max(axis=0)\n",
    "    A_min = A.min(axis=0)\n",
    "    \n",
    "#     scope = np.logical_and(np.all(P_dom>A_min, axis=1), np.all(P_dom<A_max, axis=1))\n",
    "    \n",
    "    M = distance_matrix(A, P)\n",
    "    min_distances = M.min(axis=1)\n",
    "    \n",
    "    fig = plt.figure()\n",
    "    ax = fig.gca(projection=\"3d\")\n",
    "#     ax.scatter(*P_dom.T, c=\"C0\", s=5, alpha=0.2)\n",
    "    ax.scatter(*P[:1000].T, c=\"C0\", s=5, alpha=0.2)\n",
    "#     ax.scatter(*A.T, c=\"C3\", s=5)\n",
    "    \n",
    "    fig2 = plt.figure()\n",
    "    ax2 = fig2.gca()\n",
    "    hist_counts = ax2.hist(min_distances, 100)\n",
    "    counts, values, _ = hist_counts\n",
    "    \n",
    "    grads = np.abs(counts[1:]-counts[:-1])\n",
    "    ax2.plot(values[1:-1], grads, c=\"C1\")\n",
    "    \n",
    "    g_locs = np.where(grads<0.1)[0]\n",
    "    thresh = values[g_locs[1]]\n",
    "    \n",
    "    ax2.axvline(thresh, c=\"C3\", linestyle=\"--\")\n",
    "    \n",
    "    A_ = A[min_distances<thresh]\n",
    "    ax.scatter(*A_.T, c=\"C3\", s=2)\n",
    "    plt.show()\n",
    "    return A_\n",
    "    \n",
    "    \n",
    "A_, A_f = find_selection_threshold(P, targets[0])"
   ]
  },
  {
   "cell_type": "code",
   "execution_count": 233,
   "metadata": {},
   "outputs": [
    {
     "name": "stderr",
     "output_type": "stream",
     "text": [
      "/tmp/ipykernel_706838/1931998769.py:2: MatplotlibDeprecationWarning: Calling gca() with keyword arguments was deprecated in Matplotlib 3.4. Starting two minor releases later, gca() will take no keyword arguments. The gca() function should only be used to get the current axes, or if no axes exist, create new axes with default keyword arguments. To create a new axes with non-default arguments, use plt.axes() or plt.subplot().\n",
      "  ax = fig.gca(projection=\"3d\")\n"
     ]
    },
    {
     "data": {
      "text/plain": [
       "<mpl_toolkits.mplot3d.art3d.Path3DCollection at 0x7f206b21bfd0>"
      ]
     },
     "execution_count": 233,
     "metadata": {},
     "output_type": "execute_result"
    }
   ],
   "source": [
    "fig = plt.figure()\n",
    "ax = fig.gca(projection=\"3d\")\n",
    "ax.scatter(*A_.T, c=\"C3\", s=2, alpha=0.35)\n",
    "ax.scatter(*A_f.T, c=\"C0\", s=2, alpha=0.35)\n",
    "ax.scatter(*targets[0], c=\"magenta\")"
   ]
  },
  {
   "cell_type": "code",
   "execution_count": null,
   "metadata": {},
   "outputs": [],
   "source": []
  }
 ],
 "metadata": {
  "kernelspec": {
   "display_name": "testsuite",
   "language": "python",
   "name": "testsuite"
  },
  "language_info": {
   "codemirror_mode": {
    "name": "ipython",
    "version": 3
   },
   "file_extension": ".py",
   "mimetype": "text/x-python",
   "name": "python",
   "nbconvert_exporter": "python",
   "pygments_lexer": "ipython3",
   "version": "3.8.3"
  }
 },
 "nbformat": 4,
 "nbformat_minor": 4
}
